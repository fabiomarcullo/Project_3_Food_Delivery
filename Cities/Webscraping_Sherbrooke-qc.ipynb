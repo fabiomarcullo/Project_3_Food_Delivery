{
 "cells": [
  {
   "cell_type": "code",
   "execution_count": 18,
   "id": "39d82a98",
   "metadata": {},
   "outputs": [],
   "source": [
    "# Import dependencies/libraries\n",
    "from splinter import Browser\n",
    "from bs4 import BeautifulSoup as soup\n",
    "import pandas as pd\n"
   ]
  },
  {
   "cell_type": "code",
   "execution_count": 19,
   "id": "90fdaf9b",
   "metadata": {},
   "outputs": [],
   "source": [
    "# Setting up the browser\n",
    "browser = Browser('chrome')"
   ]
  },
  {
   "cell_type": "code",
   "execution_count": 20,
   "id": "f683952c",
   "metadata": {},
   "outputs": [],
   "source": [
    "# Visiting the website\n",
    "base_url = \"https://www.ubereats.com/ca/city/\"\n",
    "location = \"sherbrooke-qc\"\n",
    "url = base_url + location\n",
    "browser.visit(url)"
   ]
  },
  {
   "cell_type": "code",
   "execution_count": 21,
   "id": "f9578c21",
   "metadata": {},
   "outputs": [],
   "source": [
    "html = browser.html\n",
    "soup = soup(html, 'html.parser')"
   ]
  },
  {
   "cell_type": "code",
   "execution_count": 22,
   "id": "16794064",
   "metadata": {
    "scrolled": true
   },
   "outputs": [
    {
     "name": "stdout",
     "output_type": "stream",
     "text": [
      "                      Restaurant Name\n",
      "0          McDonald's (Sherbrooke Ii)\n",
      "1           Boston Pizza (Sherbrooke)\n",
      "2   Pizza Pizza (2755 rue King Ouest)\n",
      "3                        Village Grec\n",
      "4        Dégustateurs Cantine Moderne\n",
      "..                                ...\n",
      "75         Allo Mon Coco - Sherbrooke\n",
      "76         Mr. Puffs (Sherbrooke Est)\n",
      "77               Freshii (Sherbrooke)\n",
      "78        Poulet Rouge (Blvd Bourque)\n",
      "79                   Au Sanglier Doré\n",
      "\n",
      "[80 rows x 1 columns]\n"
     ]
    }
   ],
   "source": [
    "# Restaurant name\n",
    "\n",
    "res_name = soup.find_all('div', class_='br al b9 bm c3 dd ix')\n",
    "restaurants = []\n",
    "\n",
    "for i in res_name:\n",
    "    restaurant = i.find('h3').text.strip()\n",
    "    restaurants.append(restaurant)\n",
    "\n",
    "df = pd.DataFrame(restaurants, columns=['Restaurant Name'])\n",
    "print(df)"
   ]
  },
  {
   "cell_type": "code",
   "execution_count": 24,
   "id": "4a9881ba",
   "metadata": {
    "scrolled": true
   },
   "outputs": [
    {
     "name": "stdout",
     "output_type": "stream",
     "text": [
      "   Rating\n",
      "0     4.2\n",
      "1     4.6\n",
      "2     4.5\n",
      "3     4.9\n",
      "4     4.8\n",
      "..    ...\n",
      "75    4.3\n",
      "76    4.6\n",
      "77    4.6\n",
      "78    4.8\n",
      "79    New\n",
      "\n",
      "[80 rows x 1 columns]\n"
     ]
    }
   ],
   "source": [
    "# Rating information \n",
    "\n",
    "res_Rating = soup.find_all('div', class_='br al b9 bm c3 dd ix')\n",
    "\n",
    "ratings = []\n",
    "\n",
    "for i in res_Rating:\n",
    "    rating = i.find('div').text.strip()\n",
    "    ratings.append(rating)\n",
    "\n",
    "df2 = pd.DataFrame(ratings, columns=['Rating'])\n",
    "print(df2)"
   ]
  },
  {
   "cell_type": "code",
   "execution_count": 25,
   "id": "fee02591",
   "metadata": {},
   "outputs": [
    {
     "name": "stdout",
     "output_type": "stream",
     "text": [
      "                                              Address\n",
      "0               975, Rue King Est, Sherbrooke, QC J1G\n",
      "1   550 Rue Jean-Paul-Perrault, Sherbrooke, QC J1L...\n",
      "2         2755 Rue King Ouest, Sherbrooke, QC J1L 1C1\n",
      "3                1320 Rue Denault, Sherbrooke, QC J1H\n",
      "4           2222 Rue King Est, Sherbrooke, QC J1G 5G8\n",
      "..                                                ...\n",
      "75  3050 Boulevard De Portland Sherbrooke, Qc J1l ...\n",
      "76    763 Rue King Est Sherbrooke, Qc J1g 1c6 Canada,\n",
      "77  3200 Rue King Ouest, Sherbrooke, Qc J1l 1c9, C...\n",
      "78  4796 Boulevard Bourque Sherbrooke, Qc J1n 2a7 ...\n",
      "79        1410 Rue King Ouest, Sherbrooke, QC J1J 2C2\n",
      "\n",
      "[80 rows x 1 columns]\n"
     ]
    }
   ],
   "source": [
    "# Address\n",
    "\n",
    "res_Address = soup.find_all('div', class_='fz j5 al ii')\n",
    "addresses = []\n",
    "\n",
    "for i in res_Address:\n",
    "    if i.text:\n",
    "        spans = i.find_all('span')\n",
    "        if len(spans) > 1:\n",
    "            address = spans[1].text.strip()\n",
    "            addresses.append(address)\n",
    "\n",
    "df3 = pd.DataFrame(addresses, columns=['Address'])\n",
    "print(df3)\n"
   ]
  },
  {
   "cell_type": "code",
   "execution_count": 39,
   "id": "042043d8",
   "metadata": {},
   "outputs": [
    {
     "name": "stdout",
     "output_type": "stream",
     "text": [
      "        Category\n",
      "0        Burgers\n",
      "1          pasta\n",
      "2          Pizza\n",
      "3          Pizza\n",
      "4   Comfort food\n",
      "..           ...\n",
      "75  Coffee & tea\n",
      "76      Desserts\n",
      "77         Bowls\n",
      "78         Halal\n",
      "79  Comfort food\n",
      "\n",
      "[80 rows x 1 columns]\n"
     ]
    }
   ],
   "source": [
    "# Category\n",
    "\n",
    "res_category = soup.find_all('div', class_='al ii br iw c3')\n",
    "categories = []\n",
    "\n",
    "for i in res_category:\n",
    "    span_text = i.find('span').text.strip()\n",
    "    category = span_text.split('•')[0].strip()\n",
    "    categories.append(category)\n",
    "\n",
    "df4 = pd.DataFrame(categories, columns=['Category'])\n",
    "print(df4)"
   ]
  },
  {
   "cell_type": "code",
   "execution_count": 40,
   "id": "c2784c43",
   "metadata": {},
   "outputs": [
    {
     "data": {
      "text/html": [
       "<div>\n",
       "<style scoped>\n",
       "    .dataframe tbody tr th:only-of-type {\n",
       "        vertical-align: middle;\n",
       "    }\n",
       "\n",
       "    .dataframe tbody tr th {\n",
       "        vertical-align: top;\n",
       "    }\n",
       "\n",
       "    .dataframe thead th {\n",
       "        text-align: right;\n",
       "    }\n",
       "</style>\n",
       "<table border=\"1\" class=\"dataframe\">\n",
       "  <thead>\n",
       "    <tr style=\"text-align: right;\">\n",
       "      <th></th>\n",
       "      <th>Restaurant Name</th>\n",
       "      <th>Rating</th>\n",
       "      <th>Category</th>\n",
       "      <th>Address</th>\n",
       "    </tr>\n",
       "  </thead>\n",
       "  <tbody>\n",
       "    <tr>\n",
       "      <th>0</th>\n",
       "      <td>McDonald's (Sherbrooke Ii)</td>\n",
       "      <td>4.2</td>\n",
       "      <td>Burgers</td>\n",
       "      <td>975, Rue King Est, Sherbrooke, QC J1G</td>\n",
       "    </tr>\n",
       "    <tr>\n",
       "      <th>1</th>\n",
       "      <td>Boston Pizza (Sherbrooke)</td>\n",
       "      <td>4.6</td>\n",
       "      <td>pasta</td>\n",
       "      <td>550 Rue Jean-Paul-Perrault, Sherbrooke, QC J1L...</td>\n",
       "    </tr>\n",
       "    <tr>\n",
       "      <th>2</th>\n",
       "      <td>Pizza Pizza (2755 rue King Ouest)</td>\n",
       "      <td>4.5</td>\n",
       "      <td>Pizza</td>\n",
       "      <td>2755 Rue King Ouest, Sherbrooke, QC J1L 1C1</td>\n",
       "    </tr>\n",
       "    <tr>\n",
       "      <th>3</th>\n",
       "      <td>Village Grec</td>\n",
       "      <td>4.9</td>\n",
       "      <td>Pizza</td>\n",
       "      <td>1320 Rue Denault, Sherbrooke, QC J1H</td>\n",
       "    </tr>\n",
       "    <tr>\n",
       "      <th>4</th>\n",
       "      <td>Dégustateurs Cantine Moderne</td>\n",
       "      <td>4.8</td>\n",
       "      <td>Comfort food</td>\n",
       "      <td>2222 Rue King Est, Sherbrooke, QC J1G 5G8</td>\n",
       "    </tr>\n",
       "  </tbody>\n",
       "</table>\n",
       "</div>"
      ],
      "text/plain": [
       "                     Restaurant Name Rating      Category  \\\n",
       "0         McDonald's (Sherbrooke Ii)    4.2       Burgers   \n",
       "1          Boston Pizza (Sherbrooke)    4.6         pasta   \n",
       "2  Pizza Pizza (2755 rue King Ouest)    4.5         Pizza   \n",
       "3                       Village Grec    4.9         Pizza   \n",
       "4       Dégustateurs Cantine Moderne    4.8  Comfort food   \n",
       "\n",
       "                                             Address  \n",
       "0              975, Rue King Est, Sherbrooke, QC J1G  \n",
       "1  550 Rue Jean-Paul-Perrault, Sherbrooke, QC J1L...  \n",
       "2        2755 Rue King Ouest, Sherbrooke, QC J1L 1C1  \n",
       "3               1320 Rue Denault, Sherbrooke, QC J1H  \n",
       "4          2222 Rue King Est, Sherbrooke, QC J1G 5G8  "
      ]
     },
     "execution_count": 40,
     "metadata": {},
     "output_type": "execute_result"
    }
   ],
   "source": [
    "# Join the DataFrames in the desired order\n",
    "result = pd.concat([df, df2, df4, df3], axis=1)\n",
    "\n",
    "result.head()"
   ]
  },
  {
   "cell_type": "code",
   "execution_count": 41,
   "id": "1021338a",
   "metadata": {},
   "outputs": [],
   "source": [
    "# Export the joined DataFrame to an Excel file\n",
    "result.to_excel('sherbrooke-qc.xlsx', index=False)"
   ]
  },
  {
   "cell_type": "code",
   "execution_count": 42,
   "id": "0c41a08a",
   "metadata": {},
   "outputs": [],
   "source": [
    "browser.quit()"
   ]
  },
  {
   "cell_type": "code",
   "execution_count": null,
   "id": "dbc2712a",
   "metadata": {},
   "outputs": [],
   "source": []
  }
 ],
 "metadata": {
  "kernelspec": {
   "display_name": "Python 3 (ipykernel)",
   "language": "python",
   "name": "python3"
  },
  "language_info": {
   "codemirror_mode": {
    "name": "ipython",
    "version": 3
   },
   "file_extension": ".py",
   "mimetype": "text/x-python",
   "name": "python",
   "nbconvert_exporter": "python",
   "pygments_lexer": "ipython3",
   "version": "3.9.13"
  }
 },
 "nbformat": 4,
 "nbformat_minor": 5
}
