{
 "cells": [
  {
   "cell_type": "code",
   "execution_count": 1,
   "id": "39d82a98",
   "metadata": {},
   "outputs": [],
   "source": [
    "# Import dependencies/libraries\n",
    "from splinter import Browser\n",
    "from bs4 import BeautifulSoup as soup\n",
    "import pandas as pd\n"
   ]
  },
  {
   "cell_type": "code",
   "execution_count": 2,
   "id": "90fdaf9b",
   "metadata": {},
   "outputs": [],
   "source": [
    "# Setting up the browser\n",
    "browser = Browser('chrome')"
   ]
  },
  {
   "cell_type": "code",
   "execution_count": 3,
   "id": "f683952c",
   "metadata": {},
   "outputs": [],
   "source": [
    "# Visiting the website\n",
    "base_url = \"https://www.ubereats.com/ca/city/\"\n",
    "location = \"thunder-bay-on\"\n",
    "url = base_url + location\n",
    "browser.visit(url)"
   ]
  },
  {
   "cell_type": "code",
   "execution_count": 4,
   "id": "f9578c21",
   "metadata": {},
   "outputs": [],
   "source": [
    "html = browser.html\n",
    "soup = soup(html, 'html.parser')"
   ]
  },
  {
   "cell_type": "code",
   "execution_count": 5,
   "id": "16794064",
   "metadata": {
    "scrolled": true
   },
   "outputs": [
    {
     "name": "stdout",
     "output_type": "stream",
     "text": [
      "                                Restaurant Name\n",
      "0   Burger King #2374 (2840 Arthur Street East)\n",
      "1                 Pizza Pizza (425 Edward St N)\n",
      "2            Chicken Chicken (425 Edward St. N)\n",
      "3                        McDonald's (Arthur St)\n",
      "4                    Boston Pizza (Thunder Bay)\n",
      "..                                          ...\n",
      "75                         Home Sweet Home Cafe\n",
      "76                                       Zackss\n",
      "77                             Seler Restaurant\n",
      "78                   Subway (1072 Oliver Rd, 1)\n",
      "79                                   Wild Thyme\n",
      "\n",
      "[80 rows x 1 columns]\n"
     ]
    }
   ],
   "source": [
    "# Restaurant name\n",
    "\n",
    "res_name = soup.find_all('div', class_='br al b9 bm c3 dd ix')\n",
    "restaurants = []\n",
    "\n",
    "for i in res_name:\n",
    "    restaurant = i.find('h3').text.strip()\n",
    "    restaurants.append(restaurant)\n",
    "\n",
    "df = pd.DataFrame(restaurants, columns=['Restaurant Name'])\n",
    "print(df)"
   ]
  },
  {
   "cell_type": "code",
   "execution_count": 8,
   "id": "4a9881ba",
   "metadata": {
    "scrolled": true
   },
   "outputs": [
    {
     "name": "stdout",
     "output_type": "stream",
     "text": [
      "   Rating\n",
      "0     4.4\n",
      "1     4.5\n",
      "2     4.0\n",
      "3     4.6\n",
      "4     4.1\n",
      "..    ...\n",
      "75    4.9\n",
      "76    New\n",
      "77    New\n",
      "78    New\n",
      "79    New\n",
      "\n",
      "[80 rows x 1 columns]\n"
     ]
    }
   ],
   "source": [
    "# Rating information \n",
    "\n",
    "res_Rating = soup.find_all('div', class_=\"br al b9 bm c3 dd ix\")\n",
    "\n",
    "ratings = []\n",
    "\n",
    "for i in res_Rating:\n",
    "    rating = i.find('div').text.strip()\n",
    "    ratings.append(rating)\n",
    "\n",
    "df2 = pd.DataFrame(ratings, columns=['Rating'])\n",
    "print(df2)"
   ]
  },
  {
   "cell_type": "code",
   "execution_count": 9,
   "id": "fee02591",
   "metadata": {},
   "outputs": [
    {
     "name": "stdout",
     "output_type": "stream",
     "text": [
      "                                              Address\n",
      "0               2840 Arthur St E, Thunder Bay, On P7E\n",
      "1                425 Edward St N, Thunder Bay, On P7C\n",
      "2                425 Edward St N, Thunder Bay, On P7C\n",
      "3             201 Arthur St., Thunder Bay, ON P7E 5P7\n",
      "4           217 W. Arthur Street, Thunder Bay, ON P7E\n",
      "..                                                ...\n",
      "75        516 Victoria Ave E, Thunder Bay, ON P7C 1A7\n",
      "76     215 Cumming St Thunder Bay, On P7c 1n8 Canada,\n",
      "77      555 Dunlop Street, Thunder Bay, NAMER P7B 6S1\n",
      "78          1072 Oliver Rd, 1, Thunder Bay, ON P7B7A4\n",
      "79  55 Cumberland Street South, Thunder Bay, ON P7...\n",
      "\n",
      "[80 rows x 1 columns]\n"
     ]
    }
   ],
   "source": [
    "# Address\n",
    "\n",
    "res_Address = soup.find_all('div', class_='fz j5 al ii')\n",
    "addresses = []\n",
    "\n",
    "for i in res_Address:\n",
    "    if i.text:\n",
    "        spans = i.find_all('span')\n",
    "        if len(spans) > 1:\n",
    "            address = spans[1].text.strip()\n",
    "            addresses.append(address)\n",
    "\n",
    "df3 = pd.DataFrame(addresses, columns=['Address'])\n",
    "print(df3)\n"
   ]
  },
  {
   "cell_type": "code",
   "execution_count": 13,
   "id": "042043d8",
   "metadata": {},
   "outputs": [
    {
     "name": "stdout",
     "output_type": "stream",
     "text": [
      "          Category\n",
      "0         American\n",
      "1   Chicken Strips\n",
      "2            Wings\n",
      "3          Burgers\n",
      "4          Italian\n",
      "..             ...\n",
      "75         Burgers\n",
      "76           Pasta\n",
      "77             Pub\n",
      "78        American\n",
      "79    Coffee & tea\n",
      "\n",
      "[80 rows x 1 columns]\n"
     ]
    }
   ],
   "source": [
    "# Category\n",
    "\n",
    "res_category = soup.find_all('div', class_='al ii br iw c3')\n",
    "categories = []\n",
    "\n",
    "for i in res_category:\n",
    "    span_text = i.find('span').text.strip()\n",
    "    category = span_text.split('•')[0].strip()\n",
    "    categories.append(category)\n",
    "\n",
    "df4 = pd.DataFrame(categories, columns=['Category'])\n",
    "print(df4)"
   ]
  },
  {
   "cell_type": "code",
   "execution_count": 14,
   "id": "c2784c43",
   "metadata": {},
   "outputs": [
    {
     "data": {
      "text/html": [
       "<div>\n",
       "<style scoped>\n",
       "    .dataframe tbody tr th:only-of-type {\n",
       "        vertical-align: middle;\n",
       "    }\n",
       "\n",
       "    .dataframe tbody tr th {\n",
       "        vertical-align: top;\n",
       "    }\n",
       "\n",
       "    .dataframe thead th {\n",
       "        text-align: right;\n",
       "    }\n",
       "</style>\n",
       "<table border=\"1\" class=\"dataframe\">\n",
       "  <thead>\n",
       "    <tr style=\"text-align: right;\">\n",
       "      <th></th>\n",
       "      <th>Restaurant Name</th>\n",
       "      <th>Rating</th>\n",
       "      <th>Category</th>\n",
       "      <th>Address</th>\n",
       "    </tr>\n",
       "  </thead>\n",
       "  <tbody>\n",
       "    <tr>\n",
       "      <th>0</th>\n",
       "      <td>Burger King #2374 (2840 Arthur Street East)</td>\n",
       "      <td>4.4</td>\n",
       "      <td>American</td>\n",
       "      <td>2840 Arthur St E, Thunder Bay, On P7E</td>\n",
       "    </tr>\n",
       "    <tr>\n",
       "      <th>1</th>\n",
       "      <td>Pizza Pizza (425 Edward St N)</td>\n",
       "      <td>4.5</td>\n",
       "      <td>Chicken Strips</td>\n",
       "      <td>425 Edward St N, Thunder Bay, On P7C</td>\n",
       "    </tr>\n",
       "    <tr>\n",
       "      <th>2</th>\n",
       "      <td>Chicken Chicken (425 Edward St. N)</td>\n",
       "      <td>4.0</td>\n",
       "      <td>Wings</td>\n",
       "      <td>425 Edward St N, Thunder Bay, On P7C</td>\n",
       "    </tr>\n",
       "    <tr>\n",
       "      <th>3</th>\n",
       "      <td>McDonald's (Arthur St)</td>\n",
       "      <td>4.6</td>\n",
       "      <td>Burgers</td>\n",
       "      <td>201 Arthur St., Thunder Bay, ON P7E 5P7</td>\n",
       "    </tr>\n",
       "    <tr>\n",
       "      <th>4</th>\n",
       "      <td>Boston Pizza (Thunder Bay)</td>\n",
       "      <td>4.1</td>\n",
       "      <td>Italian</td>\n",
       "      <td>217 W. Arthur Street, Thunder Bay, ON P7E</td>\n",
       "    </tr>\n",
       "  </tbody>\n",
       "</table>\n",
       "</div>"
      ],
      "text/plain": [
       "                               Restaurant Name Rating        Category  \\\n",
       "0  Burger King #2374 (2840 Arthur Street East)    4.4        American   \n",
       "1                Pizza Pizza (425 Edward St N)    4.5  Chicken Strips   \n",
       "2           Chicken Chicken (425 Edward St. N)    4.0           Wings   \n",
       "3                       McDonald's (Arthur St)    4.6         Burgers   \n",
       "4                   Boston Pizza (Thunder Bay)    4.1         Italian   \n",
       "\n",
       "                                     Address  \n",
       "0      2840 Arthur St E, Thunder Bay, On P7E  \n",
       "1       425 Edward St N, Thunder Bay, On P7C  \n",
       "2       425 Edward St N, Thunder Bay, On P7C  \n",
       "3    201 Arthur St., Thunder Bay, ON P7E 5P7  \n",
       "4  217 W. Arthur Street, Thunder Bay, ON P7E  "
      ]
     },
     "execution_count": 14,
     "metadata": {},
     "output_type": "execute_result"
    }
   ],
   "source": [
    "# Join the DataFrames in the desired order\n",
    "result = pd.concat([df, df2, df4, df3], axis=1)\n",
    "\n",
    "result.head()"
   ]
  },
  {
   "cell_type": "code",
   "execution_count": 16,
   "id": "1021338a",
   "metadata": {},
   "outputs": [],
   "source": [
    "# Export the joined DataFrame to an Excel file\n",
    "result.to_excel('thunder-bay-on.xlsx', index=False)"
   ]
  },
  {
   "cell_type": "code",
   "execution_count": 17,
   "id": "0c41a08a",
   "metadata": {},
   "outputs": [],
   "source": [
    "browser.quit()"
   ]
  },
  {
   "cell_type": "code",
   "execution_count": null,
   "id": "dbc2712a",
   "metadata": {},
   "outputs": [],
   "source": []
  }
 ],
 "metadata": {
  "kernelspec": {
   "display_name": "Python 3 (ipykernel)",
   "language": "python",
   "name": "python3"
  },
  "language_info": {
   "codemirror_mode": {
    "name": "ipython",
    "version": 3
   },
   "file_extension": ".py",
   "mimetype": "text/x-python",
   "name": "python",
   "nbconvert_exporter": "python",
   "pygments_lexer": "ipython3",
   "version": "3.9.13"
  }
 },
 "nbformat": 4,
 "nbformat_minor": 5
}
