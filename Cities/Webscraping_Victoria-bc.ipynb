{
 "cells": [
  {
   "cell_type": "code",
   "execution_count": 1,
   "id": "39d82a98",
   "metadata": {},
   "outputs": [],
   "source": [
    "# Import dependencies/libraries\n",
    "from splinter import Browser\n",
    "from bs4 import BeautifulSoup as soup\n",
    "import pandas as pd\n"
   ]
  },
  {
   "cell_type": "code",
   "execution_count": 2,
   "id": "90fdaf9b",
   "metadata": {},
   "outputs": [],
   "source": [
    "# Setting up the browser\n",
    "browser = Browser('chrome')"
   ]
  },
  {
   "cell_type": "code",
   "execution_count": 3,
   "id": "f683952c",
   "metadata": {},
   "outputs": [],
   "source": [
    "# Visiting the website\n",
    "base_url = \"https://www.ubereats.com/ca/city/\"\n",
    "location = \"victoria-bc\"\n",
    "url = base_url + location\n",
    "browser.visit(url)"
   ]
  },
  {
   "cell_type": "code",
   "execution_count": 4,
   "id": "f9578c21",
   "metadata": {},
   "outputs": [],
   "source": [
    "html = browser.html\n",
    "soup = soup(html, 'html.parser')"
   ]
  },
  {
   "cell_type": "code",
   "execution_count": 5,
   "id": "16794064",
   "metadata": {
    "scrolled": true
   },
   "outputs": [
    {
     "name": "stdout",
     "output_type": "stream",
     "text": [
      "                 Restaurant Name\n",
      "0                       7-Eleven\n",
      "1                      Starbucks\n",
      "2                   Panago Pizza\n",
      "3              Papa John's Pizza\n",
      "4     Famoso Neapolitan Pizzeria\n",
      "..                           ...\n",
      "75    Don Mee Seafood Restaurant\n",
      "76                     Montana's\n",
      "77    Goodview Family Restaurant\n",
      "78                   Dairy Queen\n",
      "79  Edo Japan -  Hillside Centre\n",
      "\n",
      "[80 rows x 1 columns]\n"
     ]
    }
   ],
   "source": [
    "# Restaurant name\n",
    "\n",
    "res_name = soup.find_all('h3', class_ = \"be by bg db b1 br dd c3 j4 j5 j6 j7\")\n",
    "restaurants = []\n",
    "\n",
    "for i in res_name:\n",
    "    restaurant = i.text.split('(')[0].strip()\n",
    "    restaurants.append(restaurant)\n",
    "\n",
    "df = pd.DataFrame(restaurants, columns=['Restaurant Name'])\n",
    "print(df)"
   ]
  },
  {
   "cell_type": "code",
   "execution_count": 6,
   "id": "4a9881ba",
   "metadata": {
    "scrolled": true
   },
   "outputs": [
    {
     "name": "stdout",
     "output_type": "stream",
     "text": [
      "   Rating\n",
      "0     4.7\n",
      "1     4.8\n",
      "2     4.5\n",
      "3     4.6\n",
      "4     4.7\n",
      "..    ...\n",
      "69    4.3\n",
      "70    4.4\n",
      "71    4.2\n",
      "72    4.5\n",
      "73    4.8\n",
      "\n",
      "[74 rows x 1 columns]\n"
     ]
    }
   ],
   "source": [
    "# Rating information \n",
    "\n",
    "\n",
    "res_Rating = soup.find_all('div', class_ = \"be j8 bg bh fc fb j9 ef i7 al bm cb\")\n",
    "\n",
    "ratings = []\n",
    "\n",
    "for i in res_Rating:\n",
    "    rating = i.text\n",
    "    ratings.append(rating)\n",
    "\n",
    "df2 = pd.DataFrame(ratings, columns=['Rating'])\n",
    "print(df2)"
   ]
  },
  {
   "cell_type": "code",
   "execution_count": 7,
   "id": "fee02591",
   "metadata": {},
   "outputs": [
    {
     "name": "stdout",
     "output_type": "stream",
     "text": [
      "                                               Address\n",
      "0    Budget-friendly Downtown spot, offering Health...\n",
      "1                 813 Douglas St, Victoria, BC V8W 2B9\n",
      "2    Top 10 Saanich delivery spot, appreciated for ...\n",
      "3              771 Vernon Avenue, Victoria, BC V8X 5A7\n",
      "4    Top 5 Pizza spot, appreciated for offering fai...\n",
      "..                                                 ...\n",
      "126  Top 5 Burger spot, said to offer perfectly coo...\n",
      "127                315 Burnside Rd W, Victoria, BC V9A\n",
      "128                   310 Wale Rd, Victoria, NAMER V9B\n",
      "129   3993 Quadra Street Victoria, Bc V8x 1j8 Canada, \n",
      "130            1644 Hillside Ave, Victoria, BC V8T 2C5\n",
      "\n",
      "[131 rows x 1 columns]\n"
     ]
    }
   ],
   "source": [
    "# Address\n",
    "\n",
    "res_Address = soup.find_all('span', class_ = \"be bf bz db h1 dd jc c3 br ja\")\n",
    "\n",
    "addresses = []\n",
    "\n",
    "for i in res_Address:\n",
    "    if i.text:\n",
    "        address = i.text\n",
    "        addresses.append(address)\n",
    "\n",
    "df3 = pd.DataFrame(addresses, columns=['Address'])\n",
    "print(df3)\n"
   ]
  },
  {
   "cell_type": "code",
   "execution_count": 8,
   "id": "042043d8",
   "metadata": {},
   "outputs": [
    {
     "name": "stdout",
     "output_type": "stream",
     "text": [
      "     Category\n",
      "0       Wings\n",
      "1      Bakery\n",
      "2   Fast food\n",
      "3     Italian\n",
      "4       Pizza\n",
      "..        ...\n",
      "75    Chinese\n",
      "76        BBQ\n",
      "77    Chinese\n",
      "78   American\n",
      "79      Asian\n",
      "\n",
      "[80 rows x 1 columns]\n"
     ]
    }
   ],
   "source": [
    "# Category\n",
    "\n",
    "res_category = soup.find_all('span', class_ = \"be bf bz db h1 dd c5 c3 br ja\")\n",
    "\n",
    "categories = []\n",
    "\n",
    "for i in res_category:\n",
    "    category = i.text.split('•')[0].strip()\n",
    "    categories.append(category)\n",
    "\n",
    "df4 = pd.DataFrame(categories, columns=['Category'])\n",
    "print(df4)"
   ]
  },
  {
   "cell_type": "code",
   "execution_count": 9,
   "id": "c2784c43",
   "metadata": {},
   "outputs": [
    {
     "data": {
      "text/html": [
       "<div>\n",
       "<style scoped>\n",
       "    .dataframe tbody tr th:only-of-type {\n",
       "        vertical-align: middle;\n",
       "    }\n",
       "\n",
       "    .dataframe tbody tr th {\n",
       "        vertical-align: top;\n",
       "    }\n",
       "\n",
       "    .dataframe thead th {\n",
       "        text-align: right;\n",
       "    }\n",
       "</style>\n",
       "<table border=\"1\" class=\"dataframe\">\n",
       "  <thead>\n",
       "    <tr style=\"text-align: right;\">\n",
       "      <th></th>\n",
       "      <th>Restaurant Name</th>\n",
       "      <th>Rating</th>\n",
       "      <th>Category</th>\n",
       "      <th>Address</th>\n",
       "    </tr>\n",
       "  </thead>\n",
       "  <tbody>\n",
       "    <tr>\n",
       "      <th>0</th>\n",
       "      <td>7-Eleven</td>\n",
       "      <td>4.7</td>\n",
       "      <td>Wings</td>\n",
       "      <td>Budget-friendly Downtown spot, offering Health...</td>\n",
       "    </tr>\n",
       "    <tr>\n",
       "      <th>1</th>\n",
       "      <td>Starbucks</td>\n",
       "      <td>4.8</td>\n",
       "      <td>Bakery</td>\n",
       "      <td>813 Douglas St, Victoria, BC V8W 2B9</td>\n",
       "    </tr>\n",
       "    <tr>\n",
       "      <th>2</th>\n",
       "      <td>Panago Pizza</td>\n",
       "      <td>4.5</td>\n",
       "      <td>Fast food</td>\n",
       "      <td>Top 10 Saanich delivery spot, appreciated for ...</td>\n",
       "    </tr>\n",
       "    <tr>\n",
       "      <th>3</th>\n",
       "      <td>Papa John's Pizza</td>\n",
       "      <td>4.6</td>\n",
       "      <td>Italian</td>\n",
       "      <td>771 Vernon Avenue, Victoria, BC V8X 5A7</td>\n",
       "    </tr>\n",
       "    <tr>\n",
       "      <th>4</th>\n",
       "      <td>Famoso Neapolitan Pizzeria</td>\n",
       "      <td>4.7</td>\n",
       "      <td>Pizza</td>\n",
       "      <td>Top 5 Pizza spot, appreciated for offering fai...</td>\n",
       "    </tr>\n",
       "  </tbody>\n",
       "</table>\n",
       "</div>"
      ],
      "text/plain": [
       "              Restaurant Name Rating   Category  \\\n",
       "0                    7-Eleven    4.7      Wings   \n",
       "1                   Starbucks    4.8     Bakery   \n",
       "2                Panago Pizza    4.5  Fast food   \n",
       "3           Papa John's Pizza    4.6    Italian   \n",
       "4  Famoso Neapolitan Pizzeria    4.7      Pizza   \n",
       "\n",
       "                                             Address  \n",
       "0  Budget-friendly Downtown spot, offering Health...  \n",
       "1               813 Douglas St, Victoria, BC V8W 2B9  \n",
       "2  Top 10 Saanich delivery spot, appreciated for ...  \n",
       "3            771 Vernon Avenue, Victoria, BC V8X 5A7  \n",
       "4  Top 5 Pizza spot, appreciated for offering fai...  "
      ]
     },
     "execution_count": 9,
     "metadata": {},
     "output_type": "execute_result"
    }
   ],
   "source": [
    "# Join the DataFrames in the desired order\n",
    "result = pd.concat([df, df2, df4, df3], axis=1)\n",
    "\n",
    "result.head()"
   ]
  },
  {
   "cell_type": "code",
   "execution_count": 10,
   "id": "1021338a",
   "metadata": {},
   "outputs": [],
   "source": [
    "# Export the joined DataFrame to an Excel file\n",
    "result.to_excel('victoria-bc.xlsx', index=False)"
   ]
  },
  {
   "cell_type": "code",
   "execution_count": 11,
   "id": "0c41a08a",
   "metadata": {},
   "outputs": [],
   "source": [
    "browser.quit()"
   ]
  },
  {
   "cell_type": "code",
   "execution_count": null,
   "id": "dbc2712a",
   "metadata": {},
   "outputs": [],
   "source": []
  }
 ],
 "metadata": {
  "kernelspec": {
   "display_name": "Python 3 (ipykernel)",
   "language": "python",
   "name": "python3"
  },
  "language_info": {
   "codemirror_mode": {
    "name": "ipython",
    "version": 3
   },
   "file_extension": ".py",
   "mimetype": "text/x-python",
   "name": "python",
   "nbconvert_exporter": "python",
   "pygments_lexer": "ipython3",
   "version": "3.9.13"
  }
 },
 "nbformat": 4,
 "nbformat_minor": 5
}
