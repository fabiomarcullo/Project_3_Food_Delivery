{
 "cells": [
  {
   "cell_type": "code",
   "execution_count": 15,
   "id": "39d82a98",
   "metadata": {},
   "outputs": [],
   "source": [
    "# Import dependencies/libraries\n",
    "from splinter import Browser\n",
    "from bs4 import BeautifulSoup as soup\n",
    "import pandas as pd\n"
   ]
  },
  {
   "cell_type": "code",
   "execution_count": 16,
   "id": "90fdaf9b",
   "metadata": {},
   "outputs": [],
   "source": [
    "# Setting up the browser\n",
    "browser = Browser('chrome')"
   ]
  },
  {
   "cell_type": "code",
   "execution_count": 17,
   "id": "f683952c",
   "metadata": {},
   "outputs": [],
   "source": [
    "# Visiting the website\n",
    "base_url = \"https://www.ubereats.com/ca/city/\"\n",
    "location = \"niagara-falls-on\"\n",
    "url = base_url + location\n",
    "browser.visit(url)"
   ]
  },
  {
   "cell_type": "code",
   "execution_count": 6,
   "id": "f9578c21",
   "metadata": {},
   "outputs": [],
   "source": [
    "html = browser.html\n",
    "soup = soup(html, 'html.parser')"
   ]
  },
  {
   "cell_type": "code",
   "execution_count": 7,
   "id": "16794064",
   "metadata": {
    "scrolled": true
   },
   "outputs": [
    {
     "name": "stdout",
     "output_type": "stream",
     "text": [
      "              Restaurant Name\n",
      "0                    7-Eleven\n",
      "1                  McDonald's\n",
      "2                         A&W\n",
      "3                 Burger King\n",
      "4           Papa John's Pizza\n",
      "..                        ...\n",
      "75              Fresh Burrito\n",
      "76         Smoke's Poutinerie\n",
      "77          Volcanos Pizzeria\n",
      "78     Gong Cha Niagara Falls\n",
      "79  Shooks A Taste of Jamaica\n",
      "\n",
      "[80 rows x 1 columns]\n"
     ]
    }
   ],
   "source": [
    "# Restaurant name\n",
    "\n",
    "res_name = soup.find_all('h3', class_ = \"be by bg db b1 br dd c3 j4 j5 j6 j7\")\n",
    "restaurants = []\n",
    "\n",
    "for i in res_name:\n",
    "    restaurant = i.text.split('(')[0].strip()\n",
    "    restaurants.append(restaurant)\n",
    "\n",
    "df = pd.DataFrame(restaurants, columns=['Restaurant Name'])\n",
    "print(df)"
   ]
  },
  {
   "cell_type": "code",
   "execution_count": 8,
   "id": "4a9881ba",
   "metadata": {
    "scrolled": true
   },
   "outputs": [
    {
     "name": "stdout",
     "output_type": "stream",
     "text": [
      "   Rating\n",
      "0     4.2\n",
      "1     4.5\n",
      "2     4.3\n",
      "3     4.5\n",
      "4     4.3\n",
      "..    ...\n",
      "57    4.2\n",
      "58    4.4\n",
      "59    4.6\n",
      "60    4.9\n",
      "61    4.5\n",
      "\n",
      "[62 rows x 1 columns]\n"
     ]
    }
   ],
   "source": [
    "# Rating information \n",
    "\n",
    "\n",
    "res_Rating = soup.find_all('div', class_ = \"be j8 bg bh fc fb j9 ef i7 al bm cb\")\n",
    "\n",
    "ratings = []\n",
    "\n",
    "for i in res_Rating:\n",
    "    rating = i.text\n",
    "    ratings.append(rating)\n",
    "\n",
    "df2 = pd.DataFrame(ratings, columns=['Rating'])\n",
    "print(df2)"
   ]
  },
  {
   "cell_type": "code",
   "execution_count": 10,
   "id": "fee02591",
   "metadata": {},
   "outputs": [
    {
     "name": "stdout",
     "output_type": "stream",
     "text": [
      "                                               Address\n",
      "0    Top 10 Welland delivery spot, appreciated for ...\n",
      "1          6 Crowland Ave @ East Main, Welland, ON L3B\n",
      "2    Go-to Burger spot and top 10 Welland delivery ...\n",
      "3                631 Niagara St N, Welland, ON L3C 1L9\n",
      "4    Top 10 Welland delivery spot and go-to for Bur...\n",
      "..                                                 ...\n",
      "127              10 Summer St, St. Catharine'S, ON L2R\n",
      "128                             1409 Pelham St, ON L0S\n",
      "129  5444 Victoria Avenue, Niagara Falls, NAMER L2G...\n",
      "130  Top 5 Caribbean spot, appreciated for offering...\n",
      "131          5983 Clark Ave, Niagara Falls, ON L2G 3W3\n",
      "\n",
      "[132 rows x 1 columns]\n"
     ]
    }
   ],
   "source": [
    "# Address\n",
    "\n",
    "res_Address = soup.find_all('span', class_ = \"be bf bz db h1 dd jc c3 br ja\")\n",
    "\n",
    "addresses = []\n",
    "\n",
    "for i in res_Address:\n",
    "    if i.text:\n",
    "        address = i.text\n",
    "        addresses.append(address)\n",
    "\n",
    "df3 = pd.DataFrame(addresses, columns=['Address'])\n",
    "print(df3)\n"
   ]
  },
  {
   "cell_type": "code",
   "execution_count": 11,
   "id": "042043d8",
   "metadata": {},
   "outputs": [
    {
     "name": "stdout",
     "output_type": "stream",
     "text": [
      "     Category\n",
      "0       Wings\n",
      "1     Burgers\n",
      "2   Fast food\n",
      "3    American\n",
      "4       Pizza\n",
      "..        ...\n",
      "75    Mexican\n",
      "76  Fast food\n",
      "77      Pizza\n",
      "78      Asian\n",
      "79  Caribbean\n",
      "\n",
      "[80 rows x 1 columns]\n"
     ]
    }
   ],
   "source": [
    "# Category\n",
    "\n",
    "res_category = soup.find_all('span', class_ = \"be bf bz db h1 dd c5 c3 br ja\")\n",
    "\n",
    "categories = []\n",
    "\n",
    "for i in res_category:\n",
    "    category = i.text.split('•')[0].strip()\n",
    "    categories.append(category)\n",
    "\n",
    "df4 = pd.DataFrame(categories, columns=['Category'])\n",
    "print(df4)"
   ]
  },
  {
   "cell_type": "code",
   "execution_count": 12,
   "id": "c2784c43",
   "metadata": {},
   "outputs": [
    {
     "data": {
      "text/html": [
       "<div>\n",
       "<style scoped>\n",
       "    .dataframe tbody tr th:only-of-type {\n",
       "        vertical-align: middle;\n",
       "    }\n",
       "\n",
       "    .dataframe tbody tr th {\n",
       "        vertical-align: top;\n",
       "    }\n",
       "\n",
       "    .dataframe thead th {\n",
       "        text-align: right;\n",
       "    }\n",
       "</style>\n",
       "<table border=\"1\" class=\"dataframe\">\n",
       "  <thead>\n",
       "    <tr style=\"text-align: right;\">\n",
       "      <th></th>\n",
       "      <th>Restaurant Name</th>\n",
       "      <th>Rating</th>\n",
       "      <th>Category</th>\n",
       "      <th>Address</th>\n",
       "    </tr>\n",
       "  </thead>\n",
       "  <tbody>\n",
       "    <tr>\n",
       "      <th>0</th>\n",
       "      <td>7-Eleven</td>\n",
       "      <td>4.2</td>\n",
       "      <td>Wings</td>\n",
       "      <td>Top 10 Welland delivery spot, appreciated for ...</td>\n",
       "    </tr>\n",
       "    <tr>\n",
       "      <th>1</th>\n",
       "      <td>McDonald's</td>\n",
       "      <td>4.5</td>\n",
       "      <td>Burgers</td>\n",
       "      <td>6 Crowland Ave @ East Main, Welland, ON L3B</td>\n",
       "    </tr>\n",
       "    <tr>\n",
       "      <th>2</th>\n",
       "      <td>A&amp;W</td>\n",
       "      <td>4.3</td>\n",
       "      <td>Fast food</td>\n",
       "      <td>Go-to Burger spot and top 10 Welland delivery ...</td>\n",
       "    </tr>\n",
       "    <tr>\n",
       "      <th>3</th>\n",
       "      <td>Burger King</td>\n",
       "      <td>4.5</td>\n",
       "      <td>American</td>\n",
       "      <td>631 Niagara St N, Welland, ON L3C 1L9</td>\n",
       "    </tr>\n",
       "    <tr>\n",
       "      <th>4</th>\n",
       "      <td>Papa John's Pizza</td>\n",
       "      <td>4.3</td>\n",
       "      <td>Pizza</td>\n",
       "      <td>Top 10 Welland delivery spot and go-to for Bur...</td>\n",
       "    </tr>\n",
       "  </tbody>\n",
       "</table>\n",
       "</div>"
      ],
      "text/plain": [
       "     Restaurant Name Rating   Category  \\\n",
       "0           7-Eleven    4.2      Wings   \n",
       "1         McDonald's    4.5    Burgers   \n",
       "2                A&W    4.3  Fast food   \n",
       "3        Burger King    4.5   American   \n",
       "4  Papa John's Pizza    4.3      Pizza   \n",
       "\n",
       "                                             Address  \n",
       "0  Top 10 Welland delivery spot, appreciated for ...  \n",
       "1        6 Crowland Ave @ East Main, Welland, ON L3B  \n",
       "2  Go-to Burger spot and top 10 Welland delivery ...  \n",
       "3              631 Niagara St N, Welland, ON L3C 1L9  \n",
       "4  Top 10 Welland delivery spot and go-to for Bur...  "
      ]
     },
     "execution_count": 12,
     "metadata": {},
     "output_type": "execute_result"
    }
   ],
   "source": [
    "# Join the DataFrames in the desired order\n",
    "result = pd.concat([df, df2, df4, df3], axis=1)\n",
    "\n",
    "result.head()"
   ]
  },
  {
   "cell_type": "code",
   "execution_count": 13,
   "id": "1021338a",
   "metadata": {},
   "outputs": [],
   "source": [
    "# Export the joined DataFrame to an Excel file\n",
    "result.to_excel('niagara_falls_on.xlsx', index=False)"
   ]
  },
  {
   "cell_type": "code",
   "execution_count": 18,
   "id": "0c41a08a",
   "metadata": {},
   "outputs": [],
   "source": [
    "browser.quit()"
   ]
  },
  {
   "cell_type": "code",
   "execution_count": null,
   "id": "dbc2712a",
   "metadata": {},
   "outputs": [],
   "source": []
  }
 ],
 "metadata": {
  "kernelspec": {
   "display_name": "Python 3 (ipykernel)",
   "language": "python",
   "name": "python3"
  },
  "language_info": {
   "codemirror_mode": {
    "name": "ipython",
    "version": 3
   },
   "file_extension": ".py",
   "mimetype": "text/x-python",
   "name": "python",
   "nbconvert_exporter": "python",
   "pygments_lexer": "ipython3",
   "version": "3.9.13"
  }
 },
 "nbformat": 4,
 "nbformat_minor": 5
}
