{
 "cells": [
  {
   "cell_type": "code",
   "execution_count": 7,
   "id": "39d82a98",
   "metadata": {},
   "outputs": [],
   "source": [
    "# Import dependencies/libraries\n",
    "from splinter import Browser\n",
    "from bs4 import BeautifulSoup as soup\n",
    "import pandas as pd\n"
   ]
  },
  {
   "cell_type": "code",
   "execution_count": 8,
   "id": "90fdaf9b",
   "metadata": {},
   "outputs": [],
   "source": [
    "# Setting up the browser\n",
    "browser = Browser('chrome')"
   ]
  },
  {
   "cell_type": "code",
   "execution_count": 9,
   "id": "f683952c",
   "metadata": {},
   "outputs": [],
   "source": [
    "# Visiting the website\n",
    "base_url = \"https://www.ubereats.com/ca/city/\"\n",
    "location = \"trois-rivières-qc\"\n",
    "url = base_url + location\n",
    "browser.visit(url)"
   ]
  },
  {
   "cell_type": "code",
   "execution_count": 10,
   "id": "f9578c21",
   "metadata": {},
   "outputs": [],
   "source": [
    "html = browser.html\n",
    "soup = soup(html, 'html.parser')"
   ]
  },
  {
   "cell_type": "code",
   "execution_count": 11,
   "id": "16794064",
   "metadata": {
    "scrolled": true
   },
   "outputs": [
    {
     "name": "stdout",
     "output_type": "stream",
     "text": [
      "                                      Restaurant Name\n",
      "0                  Casse-Croûte Courteau (Des Forges)\n",
      "1                        Dairy Queen (2650 Royale St)\n",
      "2                                 Manoir du spaghetti\n",
      "3                       Casse-Croûte le P'tit Ramezay\n",
      "4                   Boulangerie Ange (Trois-Rivières)\n",
      "..                                                ...\n",
      "75                                       Alien Wings!\n",
      "76                             Planète Poutine Et Cie\n",
      "77                               Cheese Punk (Forges)\n",
      "78  Linen Chest (4375 Boulevard des Forges local g20)\n",
      "79                     Valentine (Blvd du St Maurice)\n",
      "\n",
      "[80 rows x 1 columns]\n"
     ]
    }
   ],
   "source": [
    "# Restaurant name\n",
    "\n",
    "res_name = soup.find_all('div', class_='br al b9 bm c3 dd j3')\n",
    "restaurants = []\n",
    "\n",
    "for i in res_name:\n",
    "    restaurant = i.find('h3').text.strip()\n",
    "    restaurants.append(restaurant)\n",
    "\n",
    "df = pd.DataFrame(restaurants, columns=['Restaurant Name'])\n",
    "print(df)"
   ]
  },
  {
   "cell_type": "code",
   "execution_count": 14,
   "id": "4a9881ba",
   "metadata": {
    "scrolled": true
   },
   "outputs": [
    {
     "name": "stdout",
     "output_type": "stream",
     "text": [
      "   Rating\n",
      "0     4.7\n",
      "1     4.7\n",
      "2     4.6\n",
      "3     4.7\n",
      "4     4.8\n",
      "..    ...\n",
      "75    4.1\n",
      "76    4.7\n",
      "77    New\n",
      "78    New\n",
      "79    3.9\n",
      "\n",
      "[80 rows x 1 columns]\n"
     ]
    }
   ],
   "source": [
    "# Rating information \n",
    "\n",
    "\n",
    "res_Rating = soup.find_all('div', class_= \"br al b9 bm c3 dd j3\")\n",
    "\n",
    "ratings = []\n",
    "\n",
    "for i in res_Rating:\n",
    "    rating = i.find('div').text.strip()\n",
    "    ratings.append(rating)\n",
    "\n",
    "df2 = pd.DataFrame(ratings, columns=['Rating'])\n",
    "print(df2)"
   ]
  },
  {
   "cell_type": "code",
   "execution_count": 15,
   "id": "fee02591",
   "metadata": {},
   "outputs": [
    {
     "name": "stdout",
     "output_type": "stream",
     "text": [
      "                                              Address\n",
      "0   4845 Boulevard Des Forges, Trois-Rivières, NAM...\n",
      "1              2650 Royale St, Trois-Rivieres, QC G9A\n",
      "2               1147 Rue Hart, Trois-Rivières, QC G9A\n",
      "3          2800 Rue De Ramezay Trois-Rivières, Qc G8Z\n",
      "4   4225 Boulevard Des Forges, Trois-Rivières, NAM...\n",
      "..                                                ...\n",
      "75  5550 Boulevard Des Forges, Trois-Rivières, NAM...\n",
      "76  4225 Boulevard Des Forges, Trois-Rivières, QC G8Y\n",
      "77  5550 Boulevard Des Forges Trois-Rivières, Qc G...\n",
      "78  4375 Boulevard Des Forges Local G20, Trois-Riv...\n",
      "79  658 Boulevard Du St Maurice, Trois-Rivières, Q...\n",
      "\n",
      "[80 rows x 1 columns]\n"
     ]
    }
   ],
   "source": [
    "# Address\n",
    "\n",
    "res_Address = soup.find_all('div', class_='fz jb al ii')\n",
    "addresses = []\n",
    "\n",
    "for i in res_Address:\n",
    "    if i.text:\n",
    "        spans = i.find_all('span')\n",
    "        if len(spans) > 1:\n",
    "            address = spans[1].text.strip()\n",
    "            addresses.append(address)\n",
    "\n",
    "df3 = pd.DataFrame(addresses, columns=['Address'])\n",
    "print(df3)\n"
   ]
  },
  {
   "cell_type": "code",
   "execution_count": 16,
   "id": "042043d8",
   "metadata": {},
   "outputs": [
    {
     "name": "stdout",
     "output_type": "stream",
     "text": [
      "                Category\n",
      "0           Comfort food\n",
      "1               American\n",
      "2                  Pasta\n",
      "3                  Pizza\n",
      "4   Breakfast and brunch\n",
      "..                   ...\n",
      "75                 Wings\n",
      "76              American\n",
      "77          Comfort food\n",
      "78                Retail\n",
      "79              Canadian\n",
      "\n",
      "[80 rows x 1 columns]\n"
     ]
    }
   ],
   "source": [
    "# Category\n",
    "\n",
    "res_category = soup.find_all('div', class_='al ii br j2 c3')\n",
    "categories = []\n",
    "\n",
    "for i in res_category:\n",
    "    span_text = i.find('span').text.strip()\n",
    "    category = span_text.split('•')[0].strip()\n",
    "    categories.append(category)\n",
    "\n",
    "df4 = pd.DataFrame(categories, columns=['Category'])\n",
    "print(df4)"
   ]
  },
  {
   "cell_type": "code",
   "execution_count": 17,
   "id": "c2784c43",
   "metadata": {},
   "outputs": [
    {
     "data": {
      "text/html": [
       "<div>\n",
       "<style scoped>\n",
       "    .dataframe tbody tr th:only-of-type {\n",
       "        vertical-align: middle;\n",
       "    }\n",
       "\n",
       "    .dataframe tbody tr th {\n",
       "        vertical-align: top;\n",
       "    }\n",
       "\n",
       "    .dataframe thead th {\n",
       "        text-align: right;\n",
       "    }\n",
       "</style>\n",
       "<table border=\"1\" class=\"dataframe\">\n",
       "  <thead>\n",
       "    <tr style=\"text-align: right;\">\n",
       "      <th></th>\n",
       "      <th>Restaurant Name</th>\n",
       "      <th>Rating</th>\n",
       "      <th>Category</th>\n",
       "      <th>Address</th>\n",
       "    </tr>\n",
       "  </thead>\n",
       "  <tbody>\n",
       "    <tr>\n",
       "      <th>0</th>\n",
       "      <td>Casse-Croûte Courteau (Des Forges)</td>\n",
       "      <td>4.7</td>\n",
       "      <td>Comfort food</td>\n",
       "      <td>4845 Boulevard Des Forges, Trois-Rivières, NAM...</td>\n",
       "    </tr>\n",
       "    <tr>\n",
       "      <th>1</th>\n",
       "      <td>Dairy Queen (2650 Royale St)</td>\n",
       "      <td>4.7</td>\n",
       "      <td>American</td>\n",
       "      <td>2650 Royale St, Trois-Rivieres, QC G9A</td>\n",
       "    </tr>\n",
       "    <tr>\n",
       "      <th>2</th>\n",
       "      <td>Manoir du spaghetti</td>\n",
       "      <td>4.6</td>\n",
       "      <td>Pasta</td>\n",
       "      <td>1147 Rue Hart, Trois-Rivières, QC G9A</td>\n",
       "    </tr>\n",
       "    <tr>\n",
       "      <th>3</th>\n",
       "      <td>Casse-Croûte le P'tit Ramezay</td>\n",
       "      <td>4.7</td>\n",
       "      <td>Pizza</td>\n",
       "      <td>2800 Rue De Ramezay Trois-Rivières, Qc G8Z</td>\n",
       "    </tr>\n",
       "    <tr>\n",
       "      <th>4</th>\n",
       "      <td>Boulangerie Ange (Trois-Rivières)</td>\n",
       "      <td>4.8</td>\n",
       "      <td>Breakfast and brunch</td>\n",
       "      <td>4225 Boulevard Des Forges, Trois-Rivières, NAM...</td>\n",
       "    </tr>\n",
       "  </tbody>\n",
       "</table>\n",
       "</div>"
      ],
      "text/plain": [
       "                      Restaurant Name Rating              Category  \\\n",
       "0  Casse-Croûte Courteau (Des Forges)    4.7          Comfort food   \n",
       "1        Dairy Queen (2650 Royale St)    4.7              American   \n",
       "2                 Manoir du spaghetti    4.6                 Pasta   \n",
       "3       Casse-Croûte le P'tit Ramezay    4.7                 Pizza   \n",
       "4   Boulangerie Ange (Trois-Rivières)    4.8  Breakfast and brunch   \n",
       "\n",
       "                                             Address  \n",
       "0  4845 Boulevard Des Forges, Trois-Rivières, NAM...  \n",
       "1             2650 Royale St, Trois-Rivieres, QC G9A  \n",
       "2              1147 Rue Hart, Trois-Rivières, QC G9A  \n",
       "3         2800 Rue De Ramezay Trois-Rivières, Qc G8Z  \n",
       "4  4225 Boulevard Des Forges, Trois-Rivières, NAM...  "
      ]
     },
     "execution_count": 17,
     "metadata": {},
     "output_type": "execute_result"
    }
   ],
   "source": [
    "# Join the DataFrames in the desired order\n",
    "result = pd.concat([df, df2, df4, df3], axis=1)\n",
    "\n",
    "result.head()"
   ]
  },
  {
   "cell_type": "code",
   "execution_count": 18,
   "id": "1021338a",
   "metadata": {},
   "outputs": [],
   "source": [
    "# Export the joined DataFrame to an Excel file\n",
    "result.to_excel('trois-rivières-qc.xlsx', index=False)"
   ]
  },
  {
   "cell_type": "code",
   "execution_count": 19,
   "id": "0c41a08a",
   "metadata": {},
   "outputs": [],
   "source": [
    "browser.quit()"
   ]
  },
  {
   "cell_type": "code",
   "execution_count": null,
   "id": "dbc2712a",
   "metadata": {},
   "outputs": [],
   "source": []
  }
 ],
 "metadata": {
  "kernelspec": {
   "display_name": "Python 3 (ipykernel)",
   "language": "python",
   "name": "python3"
  },
  "language_info": {
   "codemirror_mode": {
    "name": "ipython",
    "version": 3
   },
   "file_extension": ".py",
   "mimetype": "text/x-python",
   "name": "python",
   "nbconvert_exporter": "python",
   "pygments_lexer": "ipython3",
   "version": "3.9.13"
  }
 },
 "nbformat": 4,
 "nbformat_minor": 5
}
