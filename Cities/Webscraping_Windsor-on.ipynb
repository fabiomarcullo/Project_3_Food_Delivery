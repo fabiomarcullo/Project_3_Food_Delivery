{
 "cells": [
  {
   "cell_type": "code",
   "execution_count": 1,
   "id": "39d82a98",
   "metadata": {},
   "outputs": [],
   "source": [
    "# Import dependencies/libraries\n",
    "from splinter import Browser\n",
    "from bs4 import BeautifulSoup as soup\n",
    "import pandas as pd\n"
   ]
  },
  {
   "cell_type": "code",
   "execution_count": 2,
   "id": "90fdaf9b",
   "metadata": {},
   "outputs": [],
   "source": [
    "# Setting up the browser\n",
    "browser = Browser('chrome')"
   ]
  },
  {
   "cell_type": "code",
   "execution_count": 3,
   "id": "f683952c",
   "metadata": {},
   "outputs": [],
   "source": [
    "# Visiting the website\n",
    "base_url = \"https://www.ubereats.com/ca/city/\"\n",
    "location = \"windsor-on\"\n",
    "url = base_url + location\n",
    "browser.visit(url)"
   ]
  },
  {
   "cell_type": "code",
   "execution_count": 4,
   "id": "f9578c21",
   "metadata": {},
   "outputs": [],
   "source": [
    "html = browser.html\n",
    "soup = soup(html, 'html.parser')"
   ]
  },
  {
   "cell_type": "code",
   "execution_count": 5,
   "id": "16794064",
   "metadata": {
    "scrolled": true
   },
   "outputs": [
    {
     "name": "stdout",
     "output_type": "stream",
     "text": [
      "                  Restaurant Name\n",
      "0              Burger King #13322\n",
      "1            MJ's pizza and Wings\n",
      "2                     Pizza Pizza\n",
      "3                 Chicken Chicken\n",
      "4                      McDonald's\n",
      "..                            ...\n",
      "75                     Salt Sushi\n",
      "76            Franco's Restaurant\n",
      "77           Bobby Burrito & Taco\n",
      "78  Hyderabad's Prince Restaurant\n",
      "79                   Boston Pizza\n",
      "\n",
      "[80 rows x 1 columns]\n"
     ]
    }
   ],
   "source": [
    "# Restaurant name\n",
    "\n",
    "res_name = soup.find_all('h3', class_ = \"be by bg db b1 br dd c3 iy iz j0 j1\")\n",
    "restaurants = []\n",
    "\n",
    "for i in res_name:\n",
    "    restaurant = i.text.split('(')[0].strip()\n",
    "    restaurants.append(restaurant)\n",
    "\n",
    "df = pd.DataFrame(restaurants, columns=['Restaurant Name'])\n",
    "print(df)"
   ]
  },
  {
   "cell_type": "code",
   "execution_count": 6,
   "id": "4a9881ba",
   "metadata": {
    "scrolled": true
   },
   "outputs": [
    {
     "name": "stdout",
     "output_type": "stream",
     "text": [
      "   Rating\n",
      "0     4.3\n",
      "1     4.4\n",
      "2     4.0\n",
      "3     4.3\n",
      "4     4.5\n",
      "..    ...\n",
      "66    4.5\n",
      "67    4.9\n",
      "68    4.4\n",
      "69    4.1\n",
      "70    3.9\n",
      "\n",
      "[71 rows x 1 columns]\n"
     ]
    }
   ],
   "source": [
    "# Rating information \n",
    "\n",
    "\n",
    "res_Rating = soup.find_all('div', class_ = \"be j2 bg bh fc fb j3 ef i7 al bm cb\")\n",
    "\n",
    "ratings = []\n",
    "\n",
    "for i in res_Rating:\n",
    "    rating = i.text\n",
    "    ratings.append(rating)\n",
    "\n",
    "df2 = pd.DataFrame(ratings, columns=['Rating'])\n",
    "print(df2)"
   ]
  },
  {
   "cell_type": "code",
   "execution_count": 7,
   "id": "fee02591",
   "metadata": {},
   "outputs": [
    {
     "name": "stdout",
     "output_type": "stream",
     "text": [
      "                                               Address\n",
      "0    Top 10 Windsor delivery spot, appreciated for ...\n",
      "1                   300 Tecumseh Rd E, Windsor, ON N8X\n",
      "2    Top 5 Pizza spot, appreciated for offering fai...\n",
      "3               904 Wyandotte St, West Windsor, ON N9A\n",
      "4    Top items include Small Grilled Veggie And Goa...\n",
      "..                                                 ...\n",
      "125  Appreciated for offering excellent quality and...\n",
      "126       3580 Tecumseh Road East, Windsor, ON N8W 0A5\n",
      "127           2156 Wyandotte St W, Windsor, ON N9B 1J9\n",
      "128  Top items include Thai Bites, The Meateor, Pep...\n",
      "129         4450 Walker Road , Unit D, Windsor, ON N8W\n",
      "\n",
      "[130 rows x 1 columns]\n"
     ]
    }
   ],
   "source": [
    "# Address\n",
    "\n",
    "res_Address = soup.find_all('span', class_ = \"be bf bz db h1 dd j6 c3 br j4\")\n",
    "\n",
    "addresses = []\n",
    "\n",
    "for i in res_Address:\n",
    "    if i.text:\n",
    "        address = i.text\n",
    "        addresses.append(address)\n",
    "\n",
    "df3 = pd.DataFrame(addresses, columns=['Address'])\n",
    "print(df3)\n"
   ]
  },
  {
   "cell_type": "code",
   "execution_count": 8,
   "id": "042043d8",
   "metadata": {},
   "outputs": [
    {
     "name": "stdout",
     "output_type": "stream",
     "text": [
      "    Category\n",
      "0   American\n",
      "1      Pizza\n",
      "2      Pizza\n",
      "3      Wings\n",
      "4   American\n",
      "..       ...\n",
      "75     Sushi\n",
      "76     Pizza\n",
      "77   Mexican\n",
      "78    Indian\n",
      "79   Italian\n",
      "\n",
      "[80 rows x 1 columns]\n"
     ]
    }
   ],
   "source": [
    "# Category\n",
    "\n",
    "res_category = soup.find_all('span', class_ = \"be bf bz db h1 dd c5 c3 br j4\")\n",
    "\n",
    "categories = []\n",
    "\n",
    "for i in res_category:\n",
    "    category = i.text.split('•')[0].strip()\n",
    "    categories.append(category)\n",
    "\n",
    "df4 = pd.DataFrame(categories, columns=['Category'])\n",
    "print(df4)"
   ]
  },
  {
   "cell_type": "code",
   "execution_count": 9,
   "id": "c2784c43",
   "metadata": {},
   "outputs": [
    {
     "data": {
      "text/html": [
       "<div>\n",
       "<style scoped>\n",
       "    .dataframe tbody tr th:only-of-type {\n",
       "        vertical-align: middle;\n",
       "    }\n",
       "\n",
       "    .dataframe tbody tr th {\n",
       "        vertical-align: top;\n",
       "    }\n",
       "\n",
       "    .dataframe thead th {\n",
       "        text-align: right;\n",
       "    }\n",
       "</style>\n",
       "<table border=\"1\" class=\"dataframe\">\n",
       "  <thead>\n",
       "    <tr style=\"text-align: right;\">\n",
       "      <th></th>\n",
       "      <th>Restaurant Name</th>\n",
       "      <th>Rating</th>\n",
       "      <th>Category</th>\n",
       "      <th>Address</th>\n",
       "    </tr>\n",
       "  </thead>\n",
       "  <tbody>\n",
       "    <tr>\n",
       "      <th>0</th>\n",
       "      <td>Burger King #13322</td>\n",
       "      <td>4.3</td>\n",
       "      <td>American</td>\n",
       "      <td>Top 10 Windsor delivery spot, appreciated for ...</td>\n",
       "    </tr>\n",
       "    <tr>\n",
       "      <th>1</th>\n",
       "      <td>MJ's pizza and Wings</td>\n",
       "      <td>4.4</td>\n",
       "      <td>Pizza</td>\n",
       "      <td>300 Tecumseh Rd E, Windsor, ON N8X</td>\n",
       "    </tr>\n",
       "    <tr>\n",
       "      <th>2</th>\n",
       "      <td>Pizza Pizza</td>\n",
       "      <td>4.0</td>\n",
       "      <td>Pizza</td>\n",
       "      <td>Top 5 Pizza spot, appreciated for offering fai...</td>\n",
       "    </tr>\n",
       "    <tr>\n",
       "      <th>3</th>\n",
       "      <td>Chicken Chicken</td>\n",
       "      <td>4.3</td>\n",
       "      <td>Wings</td>\n",
       "      <td>904 Wyandotte St, West Windsor, ON N9A</td>\n",
       "    </tr>\n",
       "    <tr>\n",
       "      <th>4</th>\n",
       "      <td>McDonald's</td>\n",
       "      <td>4.5</td>\n",
       "      <td>American</td>\n",
       "      <td>Top items include Small Grilled Veggie And Goa...</td>\n",
       "    </tr>\n",
       "  </tbody>\n",
       "</table>\n",
       "</div>"
      ],
      "text/plain": [
       "        Restaurant Name Rating  Category  \\\n",
       "0    Burger King #13322    4.3  American   \n",
       "1  MJ's pizza and Wings    4.4     Pizza   \n",
       "2           Pizza Pizza    4.0     Pizza   \n",
       "3       Chicken Chicken    4.3     Wings   \n",
       "4            McDonald's    4.5  American   \n",
       "\n",
       "                                             Address  \n",
       "0  Top 10 Windsor delivery spot, appreciated for ...  \n",
       "1                 300 Tecumseh Rd E, Windsor, ON N8X  \n",
       "2  Top 5 Pizza spot, appreciated for offering fai...  \n",
       "3             904 Wyandotte St, West Windsor, ON N9A  \n",
       "4  Top items include Small Grilled Veggie And Goa...  "
      ]
     },
     "execution_count": 9,
     "metadata": {},
     "output_type": "execute_result"
    }
   ],
   "source": [
    "# Join the DataFrames in the desired order\n",
    "result = pd.concat([df, df2, df4, df3], axis=1)\n",
    "\n",
    "result.head()"
   ]
  },
  {
   "cell_type": "code",
   "execution_count": 10,
   "id": "1021338a",
   "metadata": {},
   "outputs": [],
   "source": [
    "# Export the joined DataFrame to an Excel file\n",
    "result.to_excel('windsor-on.xlsx', index=False)"
   ]
  },
  {
   "cell_type": "code",
   "execution_count": 11,
   "id": "0c41a08a",
   "metadata": {},
   "outputs": [],
   "source": [
    "browser.quit()"
   ]
  },
  {
   "cell_type": "code",
   "execution_count": null,
   "id": "dbc2712a",
   "metadata": {},
   "outputs": [],
   "source": []
  }
 ],
 "metadata": {
  "kernelspec": {
   "display_name": "Python 3 (ipykernel)",
   "language": "python",
   "name": "python3"
  },
  "language_info": {
   "codemirror_mode": {
    "name": "ipython",
    "version": 3
   },
   "file_extension": ".py",
   "mimetype": "text/x-python",
   "name": "python",
   "nbconvert_exporter": "python",
   "pygments_lexer": "ipython3",
   "version": "3.9.13"
  }
 },
 "nbformat": 4,
 "nbformat_minor": 5
}
