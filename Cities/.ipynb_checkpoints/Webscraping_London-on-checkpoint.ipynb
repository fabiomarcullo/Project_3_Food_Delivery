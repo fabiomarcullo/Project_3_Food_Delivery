{
 "cells": [
  {
   "cell_type": "code",
   "execution_count": 1,
   "id": "39d82a98",
   "metadata": {},
   "outputs": [],
   "source": [
    "# Import dependencies/libraries\n",
    "from splinter import Browser\n",
    "from bs4 import BeautifulSoup as soup\n",
    "import pandas as pd\n"
   ]
  },
  {
   "cell_type": "code",
   "execution_count": 2,
   "id": "90fdaf9b",
   "metadata": {},
   "outputs": [],
   "source": [
    "# Setting up the browser\n",
    "browser = Browser('chrome')"
   ]
  },
  {
   "cell_type": "code",
   "execution_count": 5,
   "id": "f683952c",
   "metadata": {},
   "outputs": [],
   "source": [
    "# Visiting the website\n",
    "base_url = \"https://www.ubereats.com/ca/city/\"\n",
    "location = \"london-on\"\n",
    "url = base_url + location\n",
    "browser.visit(url)"
   ]
  },
  {
   "cell_type": "code",
   "execution_count": 6,
   "id": "f9578c21",
   "metadata": {},
   "outputs": [],
   "source": [
    "html = browser.html\n",
    "soup = soup(html, 'html.parser')"
   ]
  },
  {
   "cell_type": "code",
   "execution_count": 8,
   "id": "16794064",
   "metadata": {
    "scrolled": true
   },
   "outputs": [
    {
     "name": "stdout",
     "output_type": "stream",
     "text": [
      "               Restaurant Name\n",
      "0                     7-Eleven\n",
      "1                    Starbucks\n",
      "2                   McDonald's\n",
      "3            Popeyes Louisiana\n",
      "4    London City Pizza & Wings\n",
      "..                         ...\n",
      "75                  Odd Burger\n",
      "76      Piping Kettle Soup Co.\n",
      "77                Burrito Boyz\n",
      "78  Piping Kettle Soup Company\n",
      "79                Crabby Joe's\n",
      "\n",
      "[80 rows x 1 columns]\n"
     ]
    }
   ],
   "source": [
    "# Restaurant name\n",
    "\n",
    "res_name = soup.find_all('h3', class_='be by bg db b1 br dd c3 j4 j5 j6 j7')\n",
    "restaurants = []\n",
    "\n",
    "for i in res_name:\n",
    "    restaurant = i.text.split('(')[0].strip()\n",
    "    restaurants.append(restaurant)\n",
    "\n",
    "df = pd.DataFrame(restaurants, columns=['Restaurant Name'])\n",
    "print(df)"
   ]
  },
  {
   "cell_type": "code",
   "execution_count": 10,
   "id": "4a9881ba",
   "metadata": {
    "scrolled": true
   },
   "outputs": [
    {
     "name": "stdout",
     "output_type": "stream",
     "text": [
      "   Rating\n",
      "0     4.6\n",
      "1     4.7\n",
      "2     4.6\n",
      "3     4.5\n",
      "4     4.6\n",
      "..    ...\n",
      "64    4.6\n",
      "65    4.8\n",
      "66    4.7\n",
      "67    4.5\n",
      "68    4.5\n",
      "\n",
      "[69 rows x 1 columns]\n"
     ]
    }
   ],
   "source": [
    "# Rating information \n",
    "\n",
    "\n",
    "res_Rating = soup.find_all('div', class_ = 'be j8 bg bh fc fb j9 ef i7 al bm cb')\n",
    "\n",
    "ratings = []\n",
    "\n",
    "for i in res_Rating:\n",
    "    rating = i.text\n",
    "    ratings.append(rating)\n",
    "\n",
    "df2 = pd.DataFrame(ratings, columns=['Rating'])\n",
    "print(df2)"
   ]
  },
  {
   "cell_type": "code",
   "execution_count": 11,
   "id": "fee02591",
   "metadata": {},
   "outputs": [
    {
     "name": "stdout",
     "output_type": "stream",
     "text": [
      "                                              Address\n",
      "0            1181 Western Rd @ Sarnia, London, ON N6G\n",
      "1                 601 Richmond Street, London, ON N6A\n",
      "2           61 Oxford Street West, LONDON, ON N6H 5S8\n",
      "3                   181 Dundas St, London, ON N6A 1G4\n",
      "4                   1920 Dundas Street London, On N5V\n",
      "..                                                ...\n",
      "75  645 Commissioners Road East, London, NAMER N6C...\n",
      "76                      1314 Huron St, London, On N5Y\n",
      "77             206 Central Avenue, London, ON N6A 1M7\n",
      "78             631 Commissioners Rd E, London, ON N6C\n",
      "79              276 Dundas Street, London, ON N6B 1T6\n",
      "\n",
      "[80 rows x 1 columns]\n"
     ]
    }
   ],
   "source": [
    "# Address\n",
    "\n",
    "res_Address = soup.find_all('span', class_ = 'be bf bz db h1 dd jc c3 br ja')\n",
    "\n",
    "addresses = []\n",
    "\n",
    "for i in res_Address:\n",
    "    if i.text:\n",
    "        address = i.text\n",
    "        addresses.append(address)\n",
    "\n",
    "df3 = pd.DataFrame(addresses, columns=['Address'])\n",
    "print(df3)\n"
   ]
  },
  {
   "cell_type": "code",
   "execution_count": 12,
   "id": "042043d8",
   "metadata": {},
   "outputs": [
    {
     "name": "stdout",
     "output_type": "stream",
     "text": [
      "      Category\n",
      "0        Wings\n",
      "1       Bakery\n",
      "2      Burgers\n",
      "3     American\n",
      "4        Pizza\n",
      "..         ...\n",
      "75  Vegetarian\n",
      "76  Sandwiches\n",
      "77     Mexican\n",
      "78    Sandwich\n",
      "79     Burgers\n",
      "\n",
      "[80 rows x 1 columns]\n"
     ]
    }
   ],
   "source": [
    "# Category\n",
    "\n",
    "res_category = soup.find_all('span', class_ = 'be bf bz db h1 dd c5 c3 br ja')\n",
    "\n",
    "categories = []\n",
    "\n",
    "for i in res_category:\n",
    "    category = i.text.split('•')[0].strip()\n",
    "    categories.append(category)\n",
    "\n",
    "df4 = pd.DataFrame(categories, columns=['Category'])\n",
    "print(df4)"
   ]
  },
  {
   "cell_type": "code",
   "execution_count": 13,
   "id": "c2784c43",
   "metadata": {},
   "outputs": [
    {
     "data": {
      "text/html": [
       "<div>\n",
       "<style scoped>\n",
       "    .dataframe tbody tr th:only-of-type {\n",
       "        vertical-align: middle;\n",
       "    }\n",
       "\n",
       "    .dataframe tbody tr th {\n",
       "        vertical-align: top;\n",
       "    }\n",
       "\n",
       "    .dataframe thead th {\n",
       "        text-align: right;\n",
       "    }\n",
       "</style>\n",
       "<table border=\"1\" class=\"dataframe\">\n",
       "  <thead>\n",
       "    <tr style=\"text-align: right;\">\n",
       "      <th></th>\n",
       "      <th>Restaurant Name</th>\n",
       "      <th>Rating</th>\n",
       "      <th>Category</th>\n",
       "      <th>Address</th>\n",
       "    </tr>\n",
       "  </thead>\n",
       "  <tbody>\n",
       "    <tr>\n",
       "      <th>0</th>\n",
       "      <td>7-Eleven</td>\n",
       "      <td>4.6</td>\n",
       "      <td>Wings</td>\n",
       "      <td>1181 Western Rd @ Sarnia, London, ON N6G</td>\n",
       "    </tr>\n",
       "    <tr>\n",
       "      <th>1</th>\n",
       "      <td>Starbucks</td>\n",
       "      <td>4.7</td>\n",
       "      <td>Bakery</td>\n",
       "      <td>601 Richmond Street, London, ON N6A</td>\n",
       "    </tr>\n",
       "    <tr>\n",
       "      <th>2</th>\n",
       "      <td>McDonald's</td>\n",
       "      <td>4.6</td>\n",
       "      <td>Burgers</td>\n",
       "      <td>61 Oxford Street West, LONDON, ON N6H 5S8</td>\n",
       "    </tr>\n",
       "    <tr>\n",
       "      <th>3</th>\n",
       "      <td>Popeyes Louisiana</td>\n",
       "      <td>4.5</td>\n",
       "      <td>American</td>\n",
       "      <td>181 Dundas St, London, ON N6A 1G4</td>\n",
       "    </tr>\n",
       "    <tr>\n",
       "      <th>4</th>\n",
       "      <td>London City Pizza &amp; Wings</td>\n",
       "      <td>4.6</td>\n",
       "      <td>Pizza</td>\n",
       "      <td>1920 Dundas Street London, On N5V</td>\n",
       "    </tr>\n",
       "  </tbody>\n",
       "</table>\n",
       "</div>"
      ],
      "text/plain": [
       "             Restaurant Name Rating  Category  \\\n",
       "0                   7-Eleven    4.6     Wings   \n",
       "1                  Starbucks    4.7    Bakery   \n",
       "2                 McDonald's    4.6   Burgers   \n",
       "3          Popeyes Louisiana    4.5  American   \n",
       "4  London City Pizza & Wings    4.6     Pizza   \n",
       "\n",
       "                                     Address  \n",
       "0   1181 Western Rd @ Sarnia, London, ON N6G  \n",
       "1        601 Richmond Street, London, ON N6A  \n",
       "2  61 Oxford Street West, LONDON, ON N6H 5S8  \n",
       "3          181 Dundas St, London, ON N6A 1G4  \n",
       "4          1920 Dundas Street London, On N5V  "
      ]
     },
     "execution_count": 13,
     "metadata": {},
     "output_type": "execute_result"
    }
   ],
   "source": [
    "# Join the DataFrames in the desired order\n",
    "result = pd.concat([df, df2, df4, df3], axis=1)\n",
    "\n",
    "result.head()"
   ]
  },
  {
   "cell_type": "code",
   "execution_count": 16,
   "id": "1021338a",
   "metadata": {},
   "outputs": [],
   "source": [
    "# Export the joined DataFrame to an Excel file\n",
    "result.to_excel('london-on.xlsx', index=False)"
   ]
  },
  {
   "cell_type": "code",
   "execution_count": 15,
   "id": "0c41a08a",
   "metadata": {},
   "outputs": [],
   "source": [
    "browser.quit()"
   ]
  },
  {
   "cell_type": "code",
   "execution_count": null,
   "id": "dbc2712a",
   "metadata": {},
   "outputs": [],
   "source": []
  }
 ],
 "metadata": {
  "kernelspec": {
   "display_name": "Python 3 (ipykernel)",
   "language": "python",
   "name": "python3"
  },
  "language_info": {
   "codemirror_mode": {
    "name": "ipython",
    "version": 3
   },
   "file_extension": ".py",
   "mimetype": "text/x-python",
   "name": "python",
   "nbconvert_exporter": "python",
   "pygments_lexer": "ipython3",
   "version": "3.9.13"
  }
 },
 "nbformat": 4,
 "nbformat_minor": 5
}
