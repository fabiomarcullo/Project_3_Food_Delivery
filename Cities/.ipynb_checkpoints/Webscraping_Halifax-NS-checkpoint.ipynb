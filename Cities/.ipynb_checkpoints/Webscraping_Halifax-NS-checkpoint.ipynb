{
 "cells": [
  {
   "cell_type": "code",
   "execution_count": 13,
   "id": "39d82a98",
   "metadata": {},
   "outputs": [],
   "source": [
    "# Import dependencies/libraries\n",
    "from splinter import Browser\n",
    "from bs4 import BeautifulSoup as soup\n",
    "import pandas as pd\n"
   ]
  },
  {
   "cell_type": "code",
   "execution_count": 2,
   "id": "90fdaf9b",
   "metadata": {},
   "outputs": [],
   "source": [
    "# Setting up the browser\n",
    "browser = Browser('chrome')"
   ]
  },
  {
   "cell_type": "code",
   "execution_count": 3,
   "id": "f683952c",
   "metadata": {},
   "outputs": [],
   "source": [
    "# Visiting the website\n",
    "base_url = \"https://www.ubereats.com/ca/city/\"\n",
    "location = \"halifax-ns/\"\n",
    "url = base_url + location\n",
    "browser.visit(url)"
   ]
  },
  {
   "cell_type": "code",
   "execution_count": 4,
   "id": "f9578c21",
   "metadata": {},
   "outputs": [],
   "source": [
    "html = browser.html\n",
    "soup = soup(html, 'html.parser')"
   ]
  },
  {
   "cell_type": "code",
   "execution_count": 6,
   "id": "16794064",
   "metadata": {
    "scrolled": true
   },
   "outputs": [
    {
     "name": "stdout",
     "output_type": "stream",
     "text": [
      "                       Restaurant Name\n",
      "0                              Wendy's\n",
      "1                           McDonald's\n",
      "2                               Subway\n",
      "3                          Burger King\n",
      "4                             7-Eleven\n",
      "..                                 ...\n",
      "75  New Gurkha Indian Restaurant & Bar\n",
      "76                 Kathmandu rasoi Ltd\n",
      "77           Soban Sushi & Asian Taste\n",
      "78           Royal Sweets & Restaurant\n",
      "79                          Raja Foods\n",
      "\n",
      "[80 rows x 1 columns]\n"
     ]
    }
   ],
   "source": [
    "# Restaurant name\n",
    "\n",
    "res_name = soup.find_all('h3', class_='be by bg db b1 br dd c3 j4 j5 j6 j7')\n",
    "restaurants = []\n",
    "\n",
    "for i in res_name:\n",
    "    restaurant = i.text.split('(')[0].strip()\n",
    "    restaurants.append(restaurant)\n",
    "\n",
    "df = pd.DataFrame(restaurants, columns=['Restaurant Name'])\n",
    "print(df)"
   ]
  },
  {
   "cell_type": "code",
   "execution_count": 7,
   "id": "4a9881ba",
   "metadata": {
    "scrolled": true
   },
   "outputs": [
    {
     "name": "stdout",
     "output_type": "stream",
     "text": [
      "   Rating\n",
      "0     4.7\n",
      "1     4.6\n",
      "2     4.3\n",
      "3     4.9\n",
      "4     4.6\n",
      "..    ...\n",
      "70    4.4\n",
      "71    4.7\n",
      "72    4.8\n",
      "73    4.2\n",
      "74    4.4\n",
      "\n",
      "[75 rows x 1 columns]\n"
     ]
    }
   ],
   "source": [
    "# Rating information \n",
    "\n",
    "\n",
    "res_Rating = soup.find_all('div', class_ = 'be j8 bg bh fc fb j9 ef i7 al bm cb')\n",
    "\n",
    "ratings = []\n",
    "\n",
    "for i in res_Rating:\n",
    "    rating = i.text\n",
    "    ratings.append(rating)\n",
    "\n",
    "df2 = pd.DataFrame(ratings, columns=['Rating'])\n",
    "print(df2)"
   ]
  },
  {
   "cell_type": "code",
   "execution_count": 8,
   "id": "fee02591",
   "metadata": {},
   "outputs": [
    {
     "name": "stdout",
     "output_type": "stream",
     "text": [
      "                                           Address\n",
      "0         10365 111th Street, Edmonton, AB T5K 2V3\n",
      "1              8415 109th Street, Edmonton, AB T6E\n",
      "2           10111 104 Ave Nw, Edmonton, AB T5J 4X1\n",
      "3           13338-137 Avenue, Edmonton, AB T5L 2A9\n",
      "4             11528 - 107 Avenue, Edmonton, AB T5H\n",
      "..                                             ...\n",
      "76          4005 Gateway Blvd Nw, Edmonton, AB T6J\n",
      "77          17759 98a Ave Nw, Edmonton, AB T5T 5W8\n",
      "78  7450 82 Avenue Northwest, Edmonton, AB T6B 0G2\n",
      "79      5065 22 Avenue Southwest, Edmonton, AB T6X\n",
      "80                5173 55 Ave Nw, Edmonton, AB T6B\n",
      "\n",
      "[81 rows x 1 columns]\n"
     ]
    }
   ],
   "source": [
    "# Address\n",
    "\n",
    "res_Address = soup.find_all('span', class_ = \"be bf bz db h1 dd jc c3 br ja\")\n",
    "\n",
    "addresses = []\n",
    "\n",
    "for i in res_Address:\n",
    "    if i.text:\n",
    "        address = i.text\n",
    "        addresses.append(address)\n",
    "\n",
    "df3 = pd.DataFrame(addresses, columns=['Address'])\n",
    "print(df3)\n"
   ]
  },
  {
   "cell_type": "code",
   "execution_count": 9,
   "id": "042043d8",
   "metadata": {},
   "outputs": [
    {
     "name": "stdout",
     "output_type": "stream",
     "text": [
      "     Category\n",
      "0   Fast food\n",
      "1     Burgers\n",
      "2    American\n",
      "3    American\n",
      "4      Bakery\n",
      "..        ...\n",
      "75     Indian\n",
      "76     Indian\n",
      "77      Sushi\n",
      "78     Indian\n",
      "79     Indian\n",
      "\n",
      "[80 rows x 1 columns]\n"
     ]
    }
   ],
   "source": [
    "# Category\n",
    "\n",
    "res_category = soup.find_all('span', class_ = \"be bf bz db h1 dd c5 c3 br ja\")\n",
    "\n",
    "categories = []\n",
    "\n",
    "for i in res_category:\n",
    "    category = i.text.split('•')[0].strip()\n",
    "    categories.append(category)\n",
    "\n",
    "df4 = pd.DataFrame(categories, columns=['Category'])\n",
    "print(df4)"
   ]
  },
  {
   "cell_type": "code",
   "execution_count": 10,
   "id": "c2784c43",
   "metadata": {},
   "outputs": [
    {
     "data": {
      "text/html": [
       "<div>\n",
       "<style scoped>\n",
       "    .dataframe tbody tr th:only-of-type {\n",
       "        vertical-align: middle;\n",
       "    }\n",
       "\n",
       "    .dataframe tbody tr th {\n",
       "        vertical-align: top;\n",
       "    }\n",
       "\n",
       "    .dataframe thead th {\n",
       "        text-align: right;\n",
       "    }\n",
       "</style>\n",
       "<table border=\"1\" class=\"dataframe\">\n",
       "  <thead>\n",
       "    <tr style=\"text-align: right;\">\n",
       "      <th></th>\n",
       "      <th>Restaurant Name</th>\n",
       "      <th>Rating</th>\n",
       "      <th>Category</th>\n",
       "      <th>Address</th>\n",
       "    </tr>\n",
       "  </thead>\n",
       "  <tbody>\n",
       "    <tr>\n",
       "      <th>0</th>\n",
       "      <td>Wendy's</td>\n",
       "      <td>4.7</td>\n",
       "      <td>Fast food</td>\n",
       "      <td>10365 111th Street, Edmonton, AB T5K 2V3</td>\n",
       "    </tr>\n",
       "    <tr>\n",
       "      <th>1</th>\n",
       "      <td>McDonald's</td>\n",
       "      <td>4.6</td>\n",
       "      <td>Burgers</td>\n",
       "      <td>8415 109th Street, Edmonton, AB T6E</td>\n",
       "    </tr>\n",
       "    <tr>\n",
       "      <th>2</th>\n",
       "      <td>Subway</td>\n",
       "      <td>4.3</td>\n",
       "      <td>American</td>\n",
       "      <td>10111 104 Ave Nw, Edmonton, AB T5J 4X1</td>\n",
       "    </tr>\n",
       "    <tr>\n",
       "      <th>3</th>\n",
       "      <td>Burger King</td>\n",
       "      <td>4.9</td>\n",
       "      <td>American</td>\n",
       "      <td>13338-137 Avenue, Edmonton, AB T5L 2A9</td>\n",
       "    </tr>\n",
       "    <tr>\n",
       "      <th>4</th>\n",
       "      <td>7-Eleven</td>\n",
       "      <td>4.6</td>\n",
       "      <td>Bakery</td>\n",
       "      <td>11528 - 107 Avenue, Edmonton, AB T5H</td>\n",
       "    </tr>\n",
       "  </tbody>\n",
       "</table>\n",
       "</div>"
      ],
      "text/plain": [
       "  Restaurant Name Rating   Category                                   Address\n",
       "0         Wendy's    4.7  Fast food  10365 111th Street, Edmonton, AB T5K 2V3\n",
       "1      McDonald's    4.6    Burgers       8415 109th Street, Edmonton, AB T6E\n",
       "2          Subway    4.3   American    10111 104 Ave Nw, Edmonton, AB T5J 4X1\n",
       "3     Burger King    4.9   American    13338-137 Avenue, Edmonton, AB T5L 2A9\n",
       "4        7-Eleven    4.6     Bakery      11528 - 107 Avenue, Edmonton, AB T5H"
      ]
     },
     "execution_count": 10,
     "metadata": {},
     "output_type": "execute_result"
    }
   ],
   "source": [
    "# Join the DataFrames in the desired order\n",
    "result = pd.concat([df, df2, df4, df3], axis=1)\n",
    "\n",
    "result.head()"
   ]
  },
  {
   "cell_type": "code",
   "execution_count": 11,
   "id": "1021338a",
   "metadata": {},
   "outputs": [],
   "source": [
    "# Export the joined DataFrame to an Excel file\n",
    "result.to_excel('Edmonton-AB.xlsx', index=False)"
   ]
  },
  {
   "cell_type": "code",
   "execution_count": 12,
   "id": "0c41a08a",
   "metadata": {},
   "outputs": [],
   "source": [
    "browser.quit()"
   ]
  },
  {
   "cell_type": "code",
   "execution_count": null,
   "id": "dbc2712a",
   "metadata": {},
   "outputs": [],
   "source": []
  }
 ],
 "metadata": {
  "kernelspec": {
   "display_name": "Python 3 (ipykernel)",
   "language": "python",
   "name": "python3"
  },
  "language_info": {
   "codemirror_mode": {
    "name": "ipython",
    "version": 3
   },
   "file_extension": ".py",
   "mimetype": "text/x-python",
   "name": "python",
   "nbconvert_exporter": "python",
   "pygments_lexer": "ipython3",
   "version": "3.9.13"
  }
 },
 "nbformat": 4,
 "nbformat_minor": 5
}
