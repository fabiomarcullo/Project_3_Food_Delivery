{
 "cells": [
  {
   "cell_type": "code",
   "execution_count": 13,
   "id": "39d82a98",
   "metadata": {},
   "outputs": [],
   "source": [
    "# Import dependencies/libraries\n",
    "from splinter import Browser\n",
    "from bs4 import BeautifulSoup as soup\n",
    "import pandas as pd\n"
   ]
  },
  {
   "cell_type": "code",
   "execution_count": 14,
   "id": "90fdaf9b",
   "metadata": {},
   "outputs": [],
   "source": [
    "# Setting up the browser\n",
    "browser = Browser('chrome')"
   ]
  },
  {
   "cell_type": "code",
   "execution_count": 15,
   "id": "f683952c",
   "metadata": {},
   "outputs": [],
   "source": [
    "# Visiting the website\n",
    "base_url = \"https://www.ubereats.com/ca/city/\"\n",
    "location = \"halifax-ns/\"\n",
    "url = base_url + location\n",
    "browser.visit(url)"
   ]
  },
  {
   "cell_type": "code",
   "execution_count": 16,
   "id": "f9578c21",
   "metadata": {},
   "outputs": [],
   "source": [
    "html = browser.html\n",
    "soup = soup(html, 'html.parser')"
   ]
  },
  {
   "cell_type": "code",
   "execution_count": 17,
   "id": "16794064",
   "metadata": {
    "scrolled": true
   },
   "outputs": [
    {
     "name": "stdout",
     "output_type": "stream",
     "text": [
      "                       Restaurant Name\n",
      "0                    11584 Burger King\n",
      "1          As You Like it Sandwich Bar\n",
      "2                Laurent French Bakery\n",
      "3                           McDonald's\n",
      "4                            Starbucks\n",
      "..                                 ...\n",
      "75                        Boston Pizza\n",
      "76  Wild Leek • Vegan Food & Juice Bar\n",
      "77                          May Garden\n",
      "78                Efes Turkish Cuisine\n",
      "79                       Jessy's Pizza\n",
      "\n",
      "[80 rows x 1 columns]\n"
     ]
    }
   ],
   "source": [
    "# Restaurant name\n",
    "\n",
    "res_name = soup.find_all('h3', class_='be by bg db b1 br dd c3 iy iz j0 j1')\n",
    "restaurants = []\n",
    "\n",
    "for i in res_name:\n",
    "    restaurant = i.text.split('(')[0].strip()\n",
    "    restaurants.append(restaurant)\n",
    "\n",
    "df = pd.DataFrame(restaurants, columns=['Restaurant Name'])\n",
    "print(df)"
   ]
  },
  {
   "cell_type": "code",
   "execution_count": 18,
   "id": "4a9881ba",
   "metadata": {
    "scrolled": true
   },
   "outputs": [
    {
     "name": "stdout",
     "output_type": "stream",
     "text": [
      "   Rating\n",
      "0     4.6\n",
      "1     4.5\n",
      "2     4.9\n",
      "3     4.6\n",
      "4     4.5\n",
      "..    ...\n",
      "58    4.4\n",
      "59    4.5\n",
      "60    4.8\n",
      "61    4.5\n",
      "62    4.6\n",
      "\n",
      "[63 rows x 1 columns]\n"
     ]
    }
   ],
   "source": [
    "# Rating information \n",
    "\n",
    "\n",
    "res_Rating = soup.find_all('div', class_ = 'be j2 bg bh fc fb j3 ef i7 al bm cb')\n",
    "\n",
    "ratings = []\n",
    "\n",
    "for i in res_Rating:\n",
    "    rating = i.text\n",
    "    ratings.append(rating)\n",
    "\n",
    "df2 = pd.DataFrame(ratings, columns=['Rating'])\n",
    "print(df2)"
   ]
  },
  {
   "cell_type": "code",
   "execution_count": 19,
   "id": "fee02591",
   "metadata": {},
   "outputs": [
    {
     "name": "stdout",
     "output_type": "stream",
     "text": [
      "                                               Address\n",
      "0    Go-to Burger spot and top 10 Halifax delivery ...\n",
      "1                   6049 Young Street, Halifax, NS B3K\n",
      "2       1791 Barrington Street, Halifax, NAMER B3J 3Y8\n",
      "3    Go-to Dessert spot, popular for Parisien Bread...\n",
      "4                 2063 Gottingen St, Halifax, NS B3K 3\n",
      "..                                                 ...\n",
      "131  Beloved Chinese spot, appreciated for offering...\n",
      "132             136 Portland Street, Dartmouth, NS B2Y\n",
      "133  Affordable delivery spot, appreciated for offe...\n",
      "134       5986 Spring Garden Road, Halifax, NS B3H 1Y7\n",
      "135          6041 North Street, Halifax, NAMER B3K 1P1\n",
      "\n",
      "[136 rows x 1 columns]\n"
     ]
    }
   ],
   "source": [
    "# Address\n",
    "\n",
    "res_Address = soup.find_all('span', class_ = \"be bf bz db h1 dd j6 c3 br j4\")\n",
    "\n",
    "addresses = []\n",
    "\n",
    "for i in res_Address:\n",
    "    if i.text:\n",
    "        address = i.text\n",
    "        addresses.append(address)\n",
    "\n",
    "df3 = pd.DataFrame(addresses, columns=['Address'])\n",
    "print(df3)\n"
   ]
  },
  {
   "cell_type": "code",
   "execution_count": 20,
   "id": "042043d8",
   "metadata": {},
   "outputs": [
    {
     "name": "stdout",
     "output_type": "stream",
     "text": [
      "                Category\n",
      "0               American\n",
      "1                 Salads\n",
      "2   Breakfast and brunch\n",
      "3                Burgers\n",
      "4                 Bakery\n",
      "..                   ...\n",
      "75               Italian\n",
      "76            Vegetarian\n",
      "77               Chinese\n",
      "78              European\n",
      "79                 Pizza\n",
      "\n",
      "[80 rows x 1 columns]\n"
     ]
    }
   ],
   "source": [
    "# Category\n",
    "\n",
    "res_category = soup.find_all('span', class_ = \"be bf bz db h1 dd c5 c3 br j4\")\n",
    "\n",
    "categories = []\n",
    "\n",
    "for i in res_category:\n",
    "    category = i.text.split('•')[0].strip()\n",
    "    categories.append(category)\n",
    "\n",
    "df4 = pd.DataFrame(categories, columns=['Category'])\n",
    "print(df4)"
   ]
  },
  {
   "cell_type": "code",
   "execution_count": 21,
   "id": "c2784c43",
   "metadata": {},
   "outputs": [
    {
     "data": {
      "text/html": [
       "<div>\n",
       "<style scoped>\n",
       "    .dataframe tbody tr th:only-of-type {\n",
       "        vertical-align: middle;\n",
       "    }\n",
       "\n",
       "    .dataframe tbody tr th {\n",
       "        vertical-align: top;\n",
       "    }\n",
       "\n",
       "    .dataframe thead th {\n",
       "        text-align: right;\n",
       "    }\n",
       "</style>\n",
       "<table border=\"1\" class=\"dataframe\">\n",
       "  <thead>\n",
       "    <tr style=\"text-align: right;\">\n",
       "      <th></th>\n",
       "      <th>Restaurant Name</th>\n",
       "      <th>Rating</th>\n",
       "      <th>Category</th>\n",
       "      <th>Address</th>\n",
       "    </tr>\n",
       "  </thead>\n",
       "  <tbody>\n",
       "    <tr>\n",
       "      <th>0</th>\n",
       "      <td>11584 Burger King</td>\n",
       "      <td>4.6</td>\n",
       "      <td>American</td>\n",
       "      <td>Go-to Burger spot and top 10 Halifax delivery ...</td>\n",
       "    </tr>\n",
       "    <tr>\n",
       "      <th>1</th>\n",
       "      <td>As You Like it Sandwich Bar</td>\n",
       "      <td>4.5</td>\n",
       "      <td>Salads</td>\n",
       "      <td>6049 Young Street, Halifax, NS B3K</td>\n",
       "    </tr>\n",
       "    <tr>\n",
       "      <th>2</th>\n",
       "      <td>Laurent French Bakery</td>\n",
       "      <td>4.9</td>\n",
       "      <td>Breakfast and brunch</td>\n",
       "      <td>1791 Barrington Street, Halifax, NAMER B3J 3Y8</td>\n",
       "    </tr>\n",
       "    <tr>\n",
       "      <th>3</th>\n",
       "      <td>McDonald's</td>\n",
       "      <td>4.6</td>\n",
       "      <td>Burgers</td>\n",
       "      <td>Go-to Dessert spot, popular for Parisien Bread...</td>\n",
       "    </tr>\n",
       "    <tr>\n",
       "      <th>4</th>\n",
       "      <td>Starbucks</td>\n",
       "      <td>4.5</td>\n",
       "      <td>Bakery</td>\n",
       "      <td>2063 Gottingen St, Halifax, NS B3K 3</td>\n",
       "    </tr>\n",
       "  </tbody>\n",
       "</table>\n",
       "</div>"
      ],
      "text/plain": [
       "               Restaurant Name Rating              Category  \\\n",
       "0            11584 Burger King    4.6              American   \n",
       "1  As You Like it Sandwich Bar    4.5                Salads   \n",
       "2        Laurent French Bakery    4.9  Breakfast and brunch   \n",
       "3                   McDonald's    4.6               Burgers   \n",
       "4                    Starbucks    4.5                Bakery   \n",
       "\n",
       "                                             Address  \n",
       "0  Go-to Burger spot and top 10 Halifax delivery ...  \n",
       "1                 6049 Young Street, Halifax, NS B3K  \n",
       "2     1791 Barrington Street, Halifax, NAMER B3J 3Y8  \n",
       "3  Go-to Dessert spot, popular for Parisien Bread...  \n",
       "4               2063 Gottingen St, Halifax, NS B3K 3  "
      ]
     },
     "execution_count": 21,
     "metadata": {},
     "output_type": "execute_result"
    }
   ],
   "source": [
    "# Join the DataFrames in the desired order\n",
    "result = pd.concat([df, df2, df4, df3], axis=1)\n",
    "\n",
    "result.head()"
   ]
  },
  {
   "cell_type": "code",
   "execution_count": 22,
   "id": "1021338a",
   "metadata": {},
   "outputs": [],
   "source": [
    "# Export the joined DataFrame to an Excel file\n",
    "result.to_excel('Halifax-NS.xlsx', index=False)"
   ]
  },
  {
   "cell_type": "code",
   "execution_count": 12,
   "id": "0c41a08a",
   "metadata": {},
   "outputs": [],
   "source": [
    "browser.quit()"
   ]
  },
  {
   "cell_type": "code",
   "execution_count": null,
   "id": "dbc2712a",
   "metadata": {},
   "outputs": [],
   "source": []
  }
 ],
 "metadata": {
  "kernelspec": {
   "display_name": "Python 3 (ipykernel)",
   "language": "python",
   "name": "python3"
  },
  "language_info": {
   "codemirror_mode": {
    "name": "ipython",
    "version": 3
   },
   "file_extension": ".py",
   "mimetype": "text/x-python",
   "name": "python",
   "nbconvert_exporter": "python",
   "pygments_lexer": "ipython3",
   "version": "3.9.13"
  }
 },
 "nbformat": 4,
 "nbformat_minor": 5
}
