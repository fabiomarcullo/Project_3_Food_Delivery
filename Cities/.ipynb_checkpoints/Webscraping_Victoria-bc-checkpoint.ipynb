{
 "cells": [
  {
   "cell_type": "code",
   "execution_count": 1,
   "id": "39d82a98",
   "metadata": {},
   "outputs": [],
   "source": [
    "# Import dependencies/libraries\n",
    "from splinter import Browser\n",
    "from bs4 import BeautifulSoup as soup\n",
    "import pandas as pd\n"
   ]
  },
  {
   "cell_type": "code",
   "execution_count": 2,
   "id": "90fdaf9b",
   "metadata": {},
   "outputs": [],
   "source": [
    "# Setting up the browser\n",
    "browser = Browser('chrome')"
   ]
  },
  {
   "cell_type": "code",
   "execution_count": 3,
   "id": "f683952c",
   "metadata": {},
   "outputs": [],
   "source": [
    "# Visiting the website\n",
    "base_url = \"https://www.ubereats.com/ca/city/\"\n",
    "location = \"vancouver-bc\"\n",
    "url = base_url + location\n",
    "browser.visit(url)"
   ]
  },
  {
   "cell_type": "code",
   "execution_count": 4,
   "id": "f9578c21",
   "metadata": {},
   "outputs": [],
   "source": [
    "html = browser.html\n",
    "soup = soup(html, 'html.parser')"
   ]
  },
  {
   "cell_type": "code",
   "execution_count": 5,
   "id": "16794064",
   "metadata": {
    "scrolled": true
   },
   "outputs": [
    {
     "name": "stdout",
     "output_type": "stream",
     "text": [
      "           Restaurant Name\n",
      "0                 7-Eleven\n",
      "1    BROADWAY LIQUOR STORE\n",
      "2             Biryaniwalla\n",
      "3   Kitsilano Liquor Store\n",
      "4           Easy Day Store\n",
      "..                     ...\n",
      "75             Tim Hortons\n",
      "76           Tera V Burger\n",
      "77             Pizza Pizza\n",
      "78              The Burrow\n",
      "79        Maple Leaf Pizza\n",
      "\n",
      "[80 rows x 1 columns]\n"
     ]
    }
   ],
   "source": [
    "# Restaurant name\n",
    "\n",
    "res_name = soup.find_all('h3', class_ = \"be by bg db b1 br dd c3 iy iz j0 j1\")\n",
    "restaurants = []\n",
    "\n",
    "for i in res_name:\n",
    "    restaurant = i.text.split('(')[0].strip()\n",
    "    restaurants.append(restaurant)\n",
    "\n",
    "df = pd.DataFrame(restaurants, columns=['Restaurant Name'])\n",
    "print(df)"
   ]
  },
  {
   "cell_type": "code",
   "execution_count": 6,
   "id": "4a9881ba",
   "metadata": {
    "scrolled": true
   },
   "outputs": [
    {
     "name": "stdout",
     "output_type": "stream",
     "text": [
      "   Rating\n",
      "0     4.7\n",
      "1     4.9\n",
      "2     4.1\n",
      "3     4.9\n",
      "4     4.2\n",
      "..    ...\n",
      "75    4.1\n",
      "76    4.7\n",
      "77    4.7\n",
      "78    4.9\n",
      "79    4.9\n",
      "\n",
      "[80 rows x 1 columns]\n"
     ]
    }
   ],
   "source": [
    "# Rating information \n",
    "\n",
    "\n",
    "res_Rating = soup.find_all('div', class_ = 'be j2 bg bh fc fb j3 ef i7 al bm cb')\n",
    "\n",
    "ratings = []\n",
    "\n",
    "for i in res_Rating:\n",
    "    rating = i.text\n",
    "    ratings.append(rating)\n",
    "\n",
    "df2 = pd.DataFrame(ratings, columns=['Rating'])\n",
    "print(df2)"
   ]
  },
  {
   "cell_type": "code",
   "execution_count": 11,
   "id": "fee02591",
   "metadata": {},
   "outputs": [
    {
     "name": "stdout",
     "output_type": "stream",
     "text": [
      "                                               Address\n",
      "0    Popular here: Candy & Gum; Chips & Snacks; Gri...\n",
      "1                     710 W 6th Ave, Vancouver, BC V5Z\n",
      "2    Popular here: 33bexp Mezcallime Gose 6 Cans, W...\n",
      "3                1169 West Broadway, Vancouver, BC V6H\n",
      "4      6560 Main Street Vancouver, Bc V5x 3g9 Canada, \n",
      "..                                                 ...\n",
      "147              325 Carrall St, Vancouver, BC V6B 2J4\n",
      "148  Popular here: Ronny Russell Burrito, Enchilada...\n",
      "149          2781 Commercial Dr, Vancouver, BC V5N 4C5\n",
      "150  Popular here: Unlimited Pizza, Alfredo Chicken...\n",
      "151         2525 Hemlock Street, Vancouver, BC V6H 1H2\n",
      "\n",
      "[152 rows x 1 columns]\n"
     ]
    }
   ],
   "source": [
    "# Address\n",
    "\n",
    "res_Address = soup.find_all('span', class_ =\"be bf bz db h1 dd j6 c3 br j4\")\n",
    "\n",
    "addresses = []\n",
    "\n",
    "for i in res_Address:\n",
    "    if i.text:\n",
    "        address = i.text\n",
    "        addresses.append(address)\n",
    "\n",
    "df3 = pd.DataFrame(addresses, columns=['Address'])\n",
    "print(df3)\n"
   ]
  },
  {
   "cell_type": "code",
   "execution_count": 12,
   "id": "042043d8",
   "metadata": {},
   "outputs": [
    {
     "name": "stdout",
     "output_type": "stream",
     "text": [
      "       Category\n",
      "0        Bakery\n",
      "1       Alcohol\n",
      "2        Indian\n",
      "3       Alcohol\n",
      "4   Convenience\n",
      "..          ...\n",
      "75       Bakery\n",
      "76        Vegan\n",
      "77      Italian\n",
      "78      Mexican\n",
      "79        Pizza\n",
      "\n",
      "[80 rows x 1 columns]\n"
     ]
    }
   ],
   "source": [
    "# Category\n",
    "\n",
    "res_category = soup.find_all('span', class_ = \"be bf bz db h1 dd c5 c3 br j4\")\n",
    "\n",
    "categories = []\n",
    "\n",
    "for i in res_category:\n",
    "    category = i.text.split('•')[0].strip()\n",
    "    categories.append(category)\n",
    "\n",
    "df4 = pd.DataFrame(categories, columns=['Category'])\n",
    "print(df4)"
   ]
  },
  {
   "cell_type": "code",
   "execution_count": 13,
   "id": "c2784c43",
   "metadata": {},
   "outputs": [
    {
     "data": {
      "text/html": [
       "<div>\n",
       "<style scoped>\n",
       "    .dataframe tbody tr th:only-of-type {\n",
       "        vertical-align: middle;\n",
       "    }\n",
       "\n",
       "    .dataframe tbody tr th {\n",
       "        vertical-align: top;\n",
       "    }\n",
       "\n",
       "    .dataframe thead th {\n",
       "        text-align: right;\n",
       "    }\n",
       "</style>\n",
       "<table border=\"1\" class=\"dataframe\">\n",
       "  <thead>\n",
       "    <tr style=\"text-align: right;\">\n",
       "      <th></th>\n",
       "      <th>Restaurant Name</th>\n",
       "      <th>Rating</th>\n",
       "      <th>Category</th>\n",
       "      <th>Address</th>\n",
       "    </tr>\n",
       "  </thead>\n",
       "  <tbody>\n",
       "    <tr>\n",
       "      <th>0</th>\n",
       "      <td>7-Eleven</td>\n",
       "      <td>4.7</td>\n",
       "      <td>Bakery</td>\n",
       "      <td>Popular here: Candy &amp; Gum; Chips &amp; Snacks; Gri...</td>\n",
       "    </tr>\n",
       "    <tr>\n",
       "      <th>1</th>\n",
       "      <td>BROADWAY LIQUOR STORE</td>\n",
       "      <td>4.9</td>\n",
       "      <td>Alcohol</td>\n",
       "      <td>710 W 6th Ave, Vancouver, BC V5Z</td>\n",
       "    </tr>\n",
       "    <tr>\n",
       "      <th>2</th>\n",
       "      <td>Biryaniwalla</td>\n",
       "      <td>4.1</td>\n",
       "      <td>Indian</td>\n",
       "      <td>Popular here: 33bexp Mezcallime Gose 6 Cans, W...</td>\n",
       "    </tr>\n",
       "    <tr>\n",
       "      <th>3</th>\n",
       "      <td>Kitsilano Liquor Store</td>\n",
       "      <td>4.9</td>\n",
       "      <td>Alcohol</td>\n",
       "      <td>1169 West Broadway, Vancouver, BC V6H</td>\n",
       "    </tr>\n",
       "    <tr>\n",
       "      <th>4</th>\n",
       "      <td>Easy Day Store</td>\n",
       "      <td>4.2</td>\n",
       "      <td>Convenience</td>\n",
       "      <td>6560 Main Street Vancouver, Bc V5x 3g9 Canada,</td>\n",
       "    </tr>\n",
       "  </tbody>\n",
       "</table>\n",
       "</div>"
      ],
      "text/plain": [
       "          Restaurant Name Rating     Category  \\\n",
       "0                7-Eleven    4.7       Bakery   \n",
       "1   BROADWAY LIQUOR STORE    4.9      Alcohol   \n",
       "2            Biryaniwalla    4.1       Indian   \n",
       "3  Kitsilano Liquor Store    4.9      Alcohol   \n",
       "4          Easy Day Store    4.2  Convenience   \n",
       "\n",
       "                                             Address  \n",
       "0  Popular here: Candy & Gum; Chips & Snacks; Gri...  \n",
       "1                   710 W 6th Ave, Vancouver, BC V5Z  \n",
       "2  Popular here: 33bexp Mezcallime Gose 6 Cans, W...  \n",
       "3              1169 West Broadway, Vancouver, BC V6H  \n",
       "4    6560 Main Street Vancouver, Bc V5x 3g9 Canada,   "
      ]
     },
     "execution_count": 13,
     "metadata": {},
     "output_type": "execute_result"
    }
   ],
   "source": [
    "# Join the DataFrames in the desired order\n",
    "result = pd.concat([df, df2, df4, df3], axis=1)\n",
    "\n",
    "result.head()"
   ]
  },
  {
   "cell_type": "code",
   "execution_count": 14,
   "id": "1021338a",
   "metadata": {},
   "outputs": [],
   "source": [
    "# Export the joined DataFrame to an Excel file\n",
    "result.to_excel('vancouver-bc.xlsx', index=False)"
   ]
  },
  {
   "cell_type": "code",
   "execution_count": 15,
   "id": "0c41a08a",
   "metadata": {},
   "outputs": [],
   "source": [
    "browser.quit()"
   ]
  },
  {
   "cell_type": "code",
   "execution_count": null,
   "id": "dbc2712a",
   "metadata": {},
   "outputs": [],
   "source": []
  }
 ],
 "metadata": {
  "kernelspec": {
   "display_name": "Python 3 (ipykernel)",
   "language": "python",
   "name": "python3"
  },
  "language_info": {
   "codemirror_mode": {
    "name": "ipython",
    "version": 3
   },
   "file_extension": ".py",
   "mimetype": "text/x-python",
   "name": "python",
   "nbconvert_exporter": "python",
   "pygments_lexer": "ipython3",
   "version": "3.9.13"
  }
 },
 "nbformat": 4,
 "nbformat_minor": 5
}
