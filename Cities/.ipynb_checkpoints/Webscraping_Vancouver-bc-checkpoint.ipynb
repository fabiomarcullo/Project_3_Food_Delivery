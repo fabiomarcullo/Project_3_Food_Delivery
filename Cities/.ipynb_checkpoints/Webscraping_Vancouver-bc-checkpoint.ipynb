{
 "cells": [
  {
   "cell_type": "code",
   "execution_count": 1,
   "id": "39d82a98",
   "metadata": {},
   "outputs": [],
   "source": [
    "# Import dependencies/libraries\n",
    "from splinter import Browser\n",
    "from bs4 import BeautifulSoup as soup\n",
    "import pandas as pd\n"
   ]
  },
  {
   "cell_type": "code",
   "execution_count": 2,
   "id": "90fdaf9b",
   "metadata": {},
   "outputs": [],
   "source": [
    "# Setting up the browser\n",
    "browser = Browser('chrome')"
   ]
  },
  {
   "cell_type": "code",
   "execution_count": 3,
   "id": "f683952c",
   "metadata": {},
   "outputs": [],
   "source": [
    "# Visiting the website\n",
    "base_url = \"https://www.ubereats.com/ca/city/\"\n",
    "location = \"ottawa-on\"\n",
    "url = base_url + location\n",
    "browser.visit(url)"
   ]
  },
  {
   "cell_type": "code",
   "execution_count": 4,
   "id": "f9578c21",
   "metadata": {},
   "outputs": [],
   "source": [
    "html = browser.html\n",
    "soup = soup(html, 'html.parser')"
   ]
  },
  {
   "cell_type": "code",
   "execution_count": 5,
   "id": "16794064",
   "metadata": {
    "scrolled": true
   },
   "outputs": [
    {
     "name": "stdout",
     "output_type": "stream",
     "text": [
      "                Restaurant Name\n",
      "0                   Pizza Nerds\n",
      "1               Umbrella Burger\n",
      "2   GOGIYA KOREAN FRIED CHICKEN\n",
      "3                    McDonald's\n",
      "4                 Lil Z’s Pizza\n",
      "..                          ...\n",
      "75                        Lokma\n",
      "76           Palermo's Pizzeria\n",
      "77        Zaky Grill and Broast\n",
      "78       Wing Hing Chinese Food\n",
      "79               Little Caesars\n",
      "\n",
      "[80 rows x 1 columns]\n"
     ]
    }
   ],
   "source": [
    "# Restaurant name\n",
    "\n",
    "res_name = soup.find_all('h3', class_ = \"be by bg db b1 br dd c3 iy iz j0 j1\")\n",
    "restaurants = []\n",
    "\n",
    "for i in res_name:\n",
    "    restaurant = i.text.split('(')[0].strip()\n",
    "    restaurants.append(restaurant)\n",
    "\n",
    "df = pd.DataFrame(restaurants, columns=['Restaurant Name'])\n",
    "print(df)"
   ]
  },
  {
   "cell_type": "code",
   "execution_count": 6,
   "id": "4a9881ba",
   "metadata": {
    "scrolled": true
   },
   "outputs": [
    {
     "name": "stdout",
     "output_type": "stream",
     "text": [
      "   Rating\n",
      "0     4.8\n",
      "1     4.9\n",
      "2     4.8\n",
      "3     4.5\n",
      "4     4.7\n",
      "..    ...\n",
      "75    4.8\n",
      "76    4.6\n",
      "77    4.4\n",
      "78    4.7\n",
      "79    4.3\n",
      "\n",
      "[80 rows x 1 columns]\n"
     ]
    }
   ],
   "source": [
    "# Rating information \n",
    "\n",
    "\n",
    "res_Rating = soup.find_all('div', class_ = 'be j2 bg bh fc fb j3 ef i7 al bm cb')\n",
    "\n",
    "ratings = []\n",
    "\n",
    "for i in res_Rating:\n",
    "    rating = i.text\n",
    "    ratings.append(rating)\n",
    "\n",
    "df2 = pd.DataFrame(ratings, columns=['Rating'])\n",
    "print(df2)"
   ]
  },
  {
   "cell_type": "code",
   "execution_count": 7,
   "id": "fee02591",
   "metadata": {},
   "outputs": [
    {
     "name": "stdout",
     "output_type": "stream",
     "text": [
      "                                       Address\n",
      "0   478 Bank St Ottawa Ontario K2p 1z3, ON K2P\n",
      "1           184 Preston St, Ottawa, ON K1R 7P9\n",
      "2            155 Bank St., Ottawa, Ontario K1P\n",
      "3                 252 Elgin St, Ottawa, ON K2P\n",
      "4       45 Clarence Street, Ottawa, ON K1N 5P9\n",
      "..                                         ...\n",
      "75            1611 Bank Street, Ottawa, ON K1V\n",
      "76         25 Tapiola Crescent, Ottawa, ON K1T\n",
      "77    1385 Baseline Rd, #4, Ottawa, ON K1A 0C5\n",
      "78           2 Woodfield Drive, Nepean, ON K2G\n",
      "79           355 Montreal Road, Vanier, ON K1L\n",
      "\n",
      "[80 rows x 1 columns]\n"
     ]
    }
   ],
   "source": [
    "# Address\n",
    "\n",
    "res_Address = soup.find_all('span', class_ = 'be bf bz db h1 dd j6 c3 br j4')\n",
    "\n",
    "addresses = []\n",
    "\n",
    "for i in res_Address:\n",
    "    if i.text:\n",
    "        address = i.text\n",
    "        addresses.append(address)\n",
    "\n",
    "df3 = pd.DataFrame(addresses, columns=['Address'])\n",
    "print(df3)\n"
   ]
  },
  {
   "cell_type": "code",
   "execution_count": 8,
   "id": "042043d8",
   "metadata": {},
   "outputs": [
    {
     "name": "stdout",
     "output_type": "stream",
     "text": [
      "     Category\n",
      "0       Pizza\n",
      "1    American\n",
      "2      Korean\n",
      "3   Fast food\n",
      "4       Pizza\n",
      "..        ...\n",
      "75   Desserts\n",
      "76      Pizza\n",
      "77      Halal\n",
      "78      Rolls\n",
      "79      Pizza\n",
      "\n",
      "[80 rows x 1 columns]\n"
     ]
    }
   ],
   "source": [
    "# Category\n",
    "\n",
    "res_category = soup.find_all('span', class_ = \"be bf bz db h1 dd c5 c3 br j4\")\n",
    "\n",
    "categories = []\n",
    "\n",
    "for i in res_category:\n",
    "    category = i.text.split('•')[0].strip()\n",
    "    categories.append(category)\n",
    "\n",
    "df4 = pd.DataFrame(categories, columns=['Category'])\n",
    "print(df4)"
   ]
  },
  {
   "cell_type": "code",
   "execution_count": 9,
   "id": "c2784c43",
   "metadata": {},
   "outputs": [
    {
     "data": {
      "text/html": [
       "<div>\n",
       "<style scoped>\n",
       "    .dataframe tbody tr th:only-of-type {\n",
       "        vertical-align: middle;\n",
       "    }\n",
       "\n",
       "    .dataframe tbody tr th {\n",
       "        vertical-align: top;\n",
       "    }\n",
       "\n",
       "    .dataframe thead th {\n",
       "        text-align: right;\n",
       "    }\n",
       "</style>\n",
       "<table border=\"1\" class=\"dataframe\">\n",
       "  <thead>\n",
       "    <tr style=\"text-align: right;\">\n",
       "      <th></th>\n",
       "      <th>Restaurant Name</th>\n",
       "      <th>Rating</th>\n",
       "      <th>Category</th>\n",
       "      <th>Address</th>\n",
       "    </tr>\n",
       "  </thead>\n",
       "  <tbody>\n",
       "    <tr>\n",
       "      <th>0</th>\n",
       "      <td>Pizza Nerds</td>\n",
       "      <td>4.8</td>\n",
       "      <td>Pizza</td>\n",
       "      <td>478 Bank St Ottawa Ontario K2p 1z3, ON K2P</td>\n",
       "    </tr>\n",
       "    <tr>\n",
       "      <th>1</th>\n",
       "      <td>Umbrella Burger</td>\n",
       "      <td>4.9</td>\n",
       "      <td>American</td>\n",
       "      <td>184 Preston St, Ottawa, ON K1R 7P9</td>\n",
       "    </tr>\n",
       "    <tr>\n",
       "      <th>2</th>\n",
       "      <td>GOGIYA KOREAN FRIED CHICKEN</td>\n",
       "      <td>4.8</td>\n",
       "      <td>Korean</td>\n",
       "      <td>155 Bank St., Ottawa, Ontario K1P</td>\n",
       "    </tr>\n",
       "    <tr>\n",
       "      <th>3</th>\n",
       "      <td>McDonald's</td>\n",
       "      <td>4.5</td>\n",
       "      <td>Fast food</td>\n",
       "      <td>252 Elgin St, Ottawa, ON K2P</td>\n",
       "    </tr>\n",
       "    <tr>\n",
       "      <th>4</th>\n",
       "      <td>Lil Z’s Pizza</td>\n",
       "      <td>4.7</td>\n",
       "      <td>Pizza</td>\n",
       "      <td>45 Clarence Street, Ottawa, ON K1N 5P9</td>\n",
       "    </tr>\n",
       "  </tbody>\n",
       "</table>\n",
       "</div>"
      ],
      "text/plain": [
       "               Restaurant Name Rating   Category  \\\n",
       "0                  Pizza Nerds    4.8      Pizza   \n",
       "1              Umbrella Burger    4.9   American   \n",
       "2  GOGIYA KOREAN FRIED CHICKEN    4.8     Korean   \n",
       "3                   McDonald's    4.5  Fast food   \n",
       "4                Lil Z’s Pizza    4.7      Pizza   \n",
       "\n",
       "                                      Address  \n",
       "0  478 Bank St Ottawa Ontario K2p 1z3, ON K2P  \n",
       "1          184 Preston St, Ottawa, ON K1R 7P9  \n",
       "2           155 Bank St., Ottawa, Ontario K1P  \n",
       "3                252 Elgin St, Ottawa, ON K2P  \n",
       "4      45 Clarence Street, Ottawa, ON K1N 5P9  "
      ]
     },
     "execution_count": 9,
     "metadata": {},
     "output_type": "execute_result"
    }
   ],
   "source": [
    "# Join the DataFrames in the desired order\n",
    "result = pd.concat([df, df2, df4, df3], axis=1)\n",
    "\n",
    "result.head()"
   ]
  },
  {
   "cell_type": "code",
   "execution_count": 10,
   "id": "1021338a",
   "metadata": {},
   "outputs": [],
   "source": [
    "# Export the joined DataFrame to an Excel file\n",
    "result.to_excel('ottawa-on.xlsx', index=False)"
   ]
  },
  {
   "cell_type": "code",
   "execution_count": 18,
   "id": "0c41a08a",
   "metadata": {},
   "outputs": [],
   "source": [
    "browser.quit()"
   ]
  },
  {
   "cell_type": "code",
   "execution_count": null,
   "id": "dbc2712a",
   "metadata": {},
   "outputs": [],
   "source": []
  }
 ],
 "metadata": {
  "kernelspec": {
   "display_name": "Python 3 (ipykernel)",
   "language": "python",
   "name": "python3"
  },
  "language_info": {
   "codemirror_mode": {
    "name": "ipython",
    "version": 3
   },
   "file_extension": ".py",
   "mimetype": "text/x-python",
   "name": "python",
   "nbconvert_exporter": "python",
   "pygments_lexer": "ipython3",
   "version": "3.9.13"
  }
 },
 "nbformat": 4,
 "nbformat_minor": 5
}
