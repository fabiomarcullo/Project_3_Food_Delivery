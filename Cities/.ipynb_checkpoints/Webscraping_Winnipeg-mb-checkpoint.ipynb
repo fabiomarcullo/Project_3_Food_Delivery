{
 "cells": [
  {
   "cell_type": "code",
   "execution_count": 1,
   "id": "39d82a98",
   "metadata": {},
   "outputs": [],
   "source": [
    "# Import dependencies/libraries\n",
    "from splinter import Browser\n",
    "from bs4 import BeautifulSoup as soup\n",
    "import pandas as pd\n"
   ]
  },
  {
   "cell_type": "code",
   "execution_count": 2,
   "id": "90fdaf9b",
   "metadata": {},
   "outputs": [],
   "source": [
    "# Setting up the browser\n",
    "browser = Browser('chrome')"
   ]
  },
  {
   "cell_type": "code",
   "execution_count": 3,
   "id": "f683952c",
   "metadata": {},
   "outputs": [],
   "source": [
    "# Visiting the website\n",
    "base_url = \"https://www.ubereats.com/ca/city/\"\n",
    "location = \"winnipeg-mb\"\n",
    "url = base_url + location\n",
    "browser.visit(url)"
   ]
  },
  {
   "cell_type": "code",
   "execution_count": 4,
   "id": "f9578c21",
   "metadata": {},
   "outputs": [],
   "source": [
    "html = browser.html\n",
    "soup = soup(html, 'html.parser')"
   ]
  },
  {
   "cell_type": "code",
   "execution_count": 5,
   "id": "16794064",
   "metadata": {
    "scrolled": true
   },
   "outputs": [
    {
     "name": "stdout",
     "output_type": "stream",
     "text": [
      "                              Restaurant Name\n",
      "0                                    7-Eleven\n",
      "1                                      Subway\n",
      "2                                         A&W\n",
      "3                                  McDonald's\n",
      "4                                     Wendy's\n",
      "..                                        ...\n",
      "75                                  Asia city\n",
      "76                                    Freshii\n",
      "77  Golden Elephant Vietnamese & Thai Cuisine\n",
      "78                                    Chosabi\n",
      "79                                    Quiznos\n",
      "\n",
      "[80 rows x 1 columns]\n"
     ]
    }
   ],
   "source": [
    "# Restaurant name\n",
    "\n",
    "res_name = soup.find_all('h3', class_ = 'be by bg db b1 br dd c3 j4 j5 j6 j7')\n",
    "restaurants = []\n",
    "\n",
    "for i in res_name:\n",
    "    restaurant = i.text.split('(')[0].strip()\n",
    "    restaurants.append(restaurant)\n",
    "\n",
    "df = pd.DataFrame(restaurants, columns=['Restaurant Name'])\n",
    "print(df)"
   ]
  },
  {
   "cell_type": "code",
   "execution_count": 6,
   "id": "4a9881ba",
   "metadata": {
    "scrolled": true
   },
   "outputs": [
    {
     "name": "stdout",
     "output_type": "stream",
     "text": [
      "   Rating\n",
      "0     4.6\n",
      "1     4.5\n",
      "2     4.5\n",
      "3     4.3\n",
      "4     4.6\n",
      "5     4.6\n",
      "6     4.1\n",
      "7     4.4\n",
      "8     4.3\n",
      "9     4.0\n",
      "10    4.7\n",
      "11    4.6\n",
      "12    3.8\n",
      "13    4.6\n",
      "14    4.7\n",
      "15    4.1\n",
      "16    4.4\n",
      "17    4.4\n",
      "18    3.4\n",
      "19    4.6\n",
      "20    4.5\n",
      "21    3.5\n",
      "22    4.7\n",
      "23    3.8\n",
      "24    4.6\n",
      "25    4.2\n",
      "26    4.9\n",
      "27    4.7\n",
      "28    4.5\n",
      "29    4.9\n",
      "30    4.8\n",
      "31    4.6\n",
      "32    4.3\n",
      "33    4.4\n",
      "34    4.8\n",
      "35    4.9\n",
      "36    4.7\n",
      "37    4.8\n",
      "38    5.0\n",
      "39    4.1\n",
      "40    4.7\n",
      "41    4.3\n",
      "42    4.7\n",
      "43    4.4\n",
      "44    4.5\n",
      "45    4.8\n",
      "46    4.4\n",
      "47    4.4\n",
      "48    4.1\n",
      "49    3.7\n",
      "50    4.6\n",
      "51    4.5\n",
      "52    4.5\n",
      "53    4.6\n",
      "54    5.0\n",
      "55    4.9\n",
      "56    4.9\n",
      "57    4.8\n",
      "58    4.8\n",
      "59    4.3\n"
     ]
    }
   ],
   "source": [
    "# Rating information \n",
    "\n",
    "\n",
    "res_Rating = soup.find_all('div', class_ = \"be j8 bg bh fc fb j9 ef i7 al bm cb\")\n",
    "\n",
    "ratings = []\n",
    "\n",
    "for i in res_Rating:\n",
    "    rating = i.text\n",
    "    ratings.append(rating)\n",
    "\n",
    "df2 = pd.DataFrame(ratings, columns=['Rating'])\n",
    "print(df2)"
   ]
  },
  {
   "cell_type": "code",
   "execution_count": 7,
   "id": "fee02591",
   "metadata": {},
   "outputs": [
    {
     "name": "stdout",
     "output_type": "stream",
     "text": [
      "                                               Address\n",
      "0    Affordable delivery spot, appreciated for offe...\n",
      "1        781 Corydon & Arbuthnot, Winnipeg, MB R3M 0W5\n",
      "2    Top 5 Sandwich spot, popular for Footlong Swee...\n",
      "3                   445 River Ave, 2, Winnipeg, MB R3L\n",
      "4    Budget-friendly delivery spot, popular for Hot...\n",
      "..                                                 ...\n",
      "124           635 Pembina Hwy, Winnipeg, NAMER R3M 2L4\n",
      "125  Budget-friendly delivery spot, popular for Jap...\n",
      "126               1194 Taylor Avenue, Winnipeg, MB R3M\n",
      "127  Budget-friendly delivery spot, popular for Chi...\n",
      "128     3647 Portage Ave, Unit 4, Winnipeg, MB R3K 2G6\n",
      "\n",
      "[129 rows x 1 columns]\n"
     ]
    }
   ],
   "source": [
    "# Address\n",
    "\n",
    "res_Address = soup.find_all('span', class_ = \"be bf bz db h1 dd jc c3 br ja\")\n",
    "\n",
    "addresses = []\n",
    "\n",
    "for i in res_Address:\n",
    "    if i.text:\n",
    "        address = i.text\n",
    "        addresses.append(address)\n",
    "\n",
    "df3 = pd.DataFrame(addresses, columns=['Address'])\n",
    "print(df3)\n"
   ]
  },
  {
   "cell_type": "code",
   "execution_count": 8,
   "id": "042043d8",
   "metadata": {},
   "outputs": [
    {
     "name": "stdout",
     "output_type": "stream",
     "text": [
      "        Category\n",
      "0          Wings\n",
      "1       American\n",
      "2      Fast food\n",
      "3        Burgers\n",
      "4      Fast food\n",
      "..           ...\n",
      "75    Vietnamese\n",
      "76         Bowls\n",
      "77         Asian\n",
      "78  Comfort food\n",
      "79      Sandwich\n",
      "\n",
      "[80 rows x 1 columns]\n"
     ]
    }
   ],
   "source": [
    "# Category\n",
    "\n",
    "res_category = soup.find_all('span', class_ = \"be bf bz db h1 dd c5 c3 br ja\")\n",
    "\n",
    "categories = []\n",
    "\n",
    "for i in res_category:\n",
    "    category = i.text.split('•')[0].strip()\n",
    "    categories.append(category)\n",
    "\n",
    "df4 = pd.DataFrame(categories, columns=['Category'])\n",
    "print(df4)"
   ]
  },
  {
   "cell_type": "code",
   "execution_count": 9,
   "id": "c2784c43",
   "metadata": {},
   "outputs": [
    {
     "data": {
      "text/html": [
       "<div>\n",
       "<style scoped>\n",
       "    .dataframe tbody tr th:only-of-type {\n",
       "        vertical-align: middle;\n",
       "    }\n",
       "\n",
       "    .dataframe tbody tr th {\n",
       "        vertical-align: top;\n",
       "    }\n",
       "\n",
       "    .dataframe thead th {\n",
       "        text-align: right;\n",
       "    }\n",
       "</style>\n",
       "<table border=\"1\" class=\"dataframe\">\n",
       "  <thead>\n",
       "    <tr style=\"text-align: right;\">\n",
       "      <th></th>\n",
       "      <th>Restaurant Name</th>\n",
       "      <th>Rating</th>\n",
       "      <th>Category</th>\n",
       "      <th>Address</th>\n",
       "    </tr>\n",
       "  </thead>\n",
       "  <tbody>\n",
       "    <tr>\n",
       "      <th>0</th>\n",
       "      <td>7-Eleven</td>\n",
       "      <td>4.6</td>\n",
       "      <td>Wings</td>\n",
       "      <td>Affordable delivery spot, appreciated for offe...</td>\n",
       "    </tr>\n",
       "    <tr>\n",
       "      <th>1</th>\n",
       "      <td>Subway</td>\n",
       "      <td>4.5</td>\n",
       "      <td>American</td>\n",
       "      <td>781 Corydon &amp; Arbuthnot, Winnipeg, MB R3M 0W5</td>\n",
       "    </tr>\n",
       "    <tr>\n",
       "      <th>2</th>\n",
       "      <td>A&amp;W</td>\n",
       "      <td>4.5</td>\n",
       "      <td>Fast food</td>\n",
       "      <td>Top 5 Sandwich spot, popular for Footlong Swee...</td>\n",
       "    </tr>\n",
       "    <tr>\n",
       "      <th>3</th>\n",
       "      <td>McDonald's</td>\n",
       "      <td>4.3</td>\n",
       "      <td>Burgers</td>\n",
       "      <td>445 River Ave, 2, Winnipeg, MB R3L</td>\n",
       "    </tr>\n",
       "    <tr>\n",
       "      <th>4</th>\n",
       "      <td>Wendy's</td>\n",
       "      <td>4.6</td>\n",
       "      <td>Fast food</td>\n",
       "      <td>Budget-friendly delivery spot, popular for Hot...</td>\n",
       "    </tr>\n",
       "  </tbody>\n",
       "</table>\n",
       "</div>"
      ],
      "text/plain": [
       "  Restaurant Name Rating   Category  \\\n",
       "0        7-Eleven    4.6      Wings   \n",
       "1          Subway    4.5   American   \n",
       "2             A&W    4.5  Fast food   \n",
       "3      McDonald's    4.3    Burgers   \n",
       "4         Wendy's    4.6  Fast food   \n",
       "\n",
       "                                             Address  \n",
       "0  Affordable delivery spot, appreciated for offe...  \n",
       "1      781 Corydon & Arbuthnot, Winnipeg, MB R3M 0W5  \n",
       "2  Top 5 Sandwich spot, popular for Footlong Swee...  \n",
       "3                 445 River Ave, 2, Winnipeg, MB R3L  \n",
       "4  Budget-friendly delivery spot, popular for Hot...  "
      ]
     },
     "execution_count": 9,
     "metadata": {},
     "output_type": "execute_result"
    }
   ],
   "source": [
    "# Join the DataFrames in the desired order\n",
    "result = pd.concat([df, df2, df4, df3], axis=1)\n",
    "\n",
    "result.head()"
   ]
  },
  {
   "cell_type": "code",
   "execution_count": 10,
   "id": "1021338a",
   "metadata": {},
   "outputs": [],
   "source": [
    "# Export the joined DataFrame to an Excel file\n",
    "result.to_excel('winnipeg-mb.xlsx', index=False)"
   ]
  },
  {
   "cell_type": "code",
   "execution_count": 11,
   "id": "0c41a08a",
   "metadata": {},
   "outputs": [],
   "source": [
    "browser.quit()"
   ]
  },
  {
   "cell_type": "code",
   "execution_count": null,
   "id": "dbc2712a",
   "metadata": {},
   "outputs": [],
   "source": []
  }
 ],
 "metadata": {
  "kernelspec": {
   "display_name": "Python 3 (ipykernel)",
   "language": "python",
   "name": "python3"
  },
  "language_info": {
   "codemirror_mode": {
    "name": "ipython",
    "version": 3
   },
   "file_extension": ".py",
   "mimetype": "text/x-python",
   "name": "python",
   "nbconvert_exporter": "python",
   "pygments_lexer": "ipython3",
   "version": "3.9.13"
  }
 },
 "nbformat": 4,
 "nbformat_minor": 5
}
