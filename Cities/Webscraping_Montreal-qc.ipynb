{
 "cells": [
  {
   "cell_type": "code",
   "execution_count": 13,
   "id": "39d82a98",
   "metadata": {},
   "outputs": [],
   "source": [
    "# Import dependencies/libraries\n",
    "from splinter import Browser\n",
    "from bs4 import BeautifulSoup as soup\n",
    "import pandas as pd\n"
   ]
  },
  {
   "cell_type": "code",
   "execution_count": 14,
   "id": "90fdaf9b",
   "metadata": {},
   "outputs": [],
   "source": [
    "# Setting up the browser\n",
    "browser = Browser('chrome')"
   ]
  },
  {
   "cell_type": "code",
   "execution_count": 15,
   "id": "f683952c",
   "metadata": {},
   "outputs": [],
   "source": [
    "# Visiting the website\n",
    "base_url = \"https://www.ubereats.com/ca/city/\"\n",
    "location = \"montreal-qc\"\n",
    "url = base_url + location\n",
    "browser.visit(url)"
   ]
  },
  {
   "cell_type": "code",
   "execution_count": 5,
   "id": "f9578c21",
   "metadata": {},
   "outputs": [],
   "source": [
    "html = browser.html\n",
    "soup = soup(html, 'html.parser')"
   ]
  },
  {
   "cell_type": "code",
   "execution_count": 6,
   "id": "16794064",
   "metadata": {
    "scrolled": true
   },
   "outputs": [
    {
     "name": "stdout",
     "output_type": "stream",
     "text": [
      "                Restaurant Name\n",
      "0                   Burger King\n",
      "1                   Pizza Pizza\n",
      "2   Poulet Bronzé Fried Chicken\n",
      "3                   Yumi Burger\n",
      "4        Caribbean Food Factory\n",
      "..                          ...\n",
      "75              Duc de Lorraine\n",
      "76                     Frisquet\n",
      "77                  Cafe Milano\n",
      "78                   Jugo Juice\n",
      "79             Kosher Pizza Bar\n",
      "\n",
      "[80 rows x 1 columns]\n"
     ]
    }
   ],
   "source": [
    "# Restaurant name\n",
    "\n",
    "res_name = soup.find_all('h3', class_ = \"be by bg db b1 br dd c3 iy iz j0 j1\")\n",
    "restaurants = []\n",
    "\n",
    "for i in res_name:\n",
    "    restaurant = i.text.split('(')[0].strip()\n",
    "    restaurants.append(restaurant)\n",
    "\n",
    "df = pd.DataFrame(restaurants, columns=['Restaurant Name'])\n",
    "print(df)"
   ]
  },
  {
   "cell_type": "code",
   "execution_count": 7,
   "id": "4a9881ba",
   "metadata": {
    "scrolled": true
   },
   "outputs": [
    {
     "name": "stdout",
     "output_type": "stream",
     "text": [
      "   Rating\n",
      "0     4.3\n",
      "1     4.2\n",
      "2     4.5\n",
      "3     4.6\n",
      "4     4.5\n",
      "..    ...\n",
      "71    4.5\n",
      "72    4.8\n",
      "73    4.7\n",
      "74    4.6\n",
      "75    4.4\n",
      "\n",
      "[76 rows x 1 columns]\n"
     ]
    }
   ],
   "source": [
    "# Rating information \n",
    "\n",
    "\n",
    "res_Rating = soup.find_all('div', class_ = \"be j2 bg bh fc fb j3 ef i7 al bm cb\")\n",
    "\n",
    "ratings = []\n",
    "\n",
    "for i in res_Rating:\n",
    "    rating = i.text\n",
    "    ratings.append(rating)\n",
    "\n",
    "df2 = pd.DataFrame(ratings, columns=['Rating'])\n",
    "print(df2)"
   ]
  },
  {
   "cell_type": "code",
   "execution_count": 8,
   "id": "fee02591",
   "metadata": {},
   "outputs": [
    {
     "name": "stdout",
     "output_type": "stream",
     "text": [
      "                                              Address\n",
      "0           1605 Saint-Denis St, Montreal, QC H2X 3K3\n",
      "1             3714 St. Laurent Blvd, Montreal, QC H2X\n",
      "2           1622 Avenue Lincoln, Montreal, Quebec H3H\n",
      "3               1448 Rue Mackay, Montréal, QC H3G 2H6\n",
      "4           5311 Maisonneuve Blvd W, Montreal, QC H4A\n",
      "..                                                ...\n",
      "79            970 Rue Rachel Est, Montréal, NAMER H2J\n",
      "80    5188 Rue Jarry E, Saint-Léonard, Quebec H1R 1Y4\n",
      "81  162 Boulevard Des Promenades #F013a, St-Bruno,...\n",
      "82  Go-to Pizza spot and top 10 Cote-Saint-Luc del...\n",
      "83        5800 Boul Cavendish, Côte Saint-Luc, QC H4W\n",
      "\n",
      "[84 rows x 1 columns]\n"
     ]
    }
   ],
   "source": [
    "# Address\n",
    "\n",
    "res_Address = soup.find_all('span', class_ = \"be bf bz db h1 dd j6 c3 br j4\")\n",
    "\n",
    "addresses = []\n",
    "\n",
    "for i in res_Address:\n",
    "    if i.text:\n",
    "        address = i.text\n",
    "        addresses.append(address)\n",
    "\n",
    "df3 = pd.DataFrame(addresses, columns=['Address'])\n",
    "print(df3)\n"
   ]
  },
  {
   "cell_type": "code",
   "execution_count": 9,
   "id": "042043d8",
   "metadata": {},
   "outputs": [
    {
     "name": "stdout",
     "output_type": "stream",
     "text": [
      "                Category\n",
      "0               American\n",
      "1                  Pizza\n",
      "2                  Halal\n",
      "3                Burgers\n",
      "4                 Bakery\n",
      "..                   ...\n",
      "75  Breakfast and brunch\n",
      "76              Desserts\n",
      "77              Sandwich\n",
      "78     Juice & Smoothies\n",
      "79                 Pizza\n",
      "\n",
      "[80 rows x 1 columns]\n"
     ]
    }
   ],
   "source": [
    "# Category\n",
    "\n",
    "res_category = soup.find_all('span', class_ = \"be bf bz db h1 dd c5 c3 br j4\")\n",
    "\n",
    "categories = []\n",
    "\n",
    "for i in res_category:\n",
    "    category = i.text.split('•')[0].strip()\n",
    "    categories.append(category)\n",
    "\n",
    "df4 = pd.DataFrame(categories, columns=['Category'])\n",
    "print(df4)"
   ]
  },
  {
   "cell_type": "code",
   "execution_count": 10,
   "id": "c2784c43",
   "metadata": {},
   "outputs": [
    {
     "data": {
      "text/html": [
       "<div>\n",
       "<style scoped>\n",
       "    .dataframe tbody tr th:only-of-type {\n",
       "        vertical-align: middle;\n",
       "    }\n",
       "\n",
       "    .dataframe tbody tr th {\n",
       "        vertical-align: top;\n",
       "    }\n",
       "\n",
       "    .dataframe thead th {\n",
       "        text-align: right;\n",
       "    }\n",
       "</style>\n",
       "<table border=\"1\" class=\"dataframe\">\n",
       "  <thead>\n",
       "    <tr style=\"text-align: right;\">\n",
       "      <th></th>\n",
       "      <th>Restaurant Name</th>\n",
       "      <th>Rating</th>\n",
       "      <th>Category</th>\n",
       "      <th>Address</th>\n",
       "    </tr>\n",
       "  </thead>\n",
       "  <tbody>\n",
       "    <tr>\n",
       "      <th>0</th>\n",
       "      <td>Burger King</td>\n",
       "      <td>4.3</td>\n",
       "      <td>American</td>\n",
       "      <td>1605 Saint-Denis St, Montreal, QC H2X 3K3</td>\n",
       "    </tr>\n",
       "    <tr>\n",
       "      <th>1</th>\n",
       "      <td>Pizza Pizza</td>\n",
       "      <td>4.2</td>\n",
       "      <td>Pizza</td>\n",
       "      <td>3714 St. Laurent Blvd, Montreal, QC H2X</td>\n",
       "    </tr>\n",
       "    <tr>\n",
       "      <th>2</th>\n",
       "      <td>Poulet Bronzé Fried Chicken</td>\n",
       "      <td>4.5</td>\n",
       "      <td>Halal</td>\n",
       "      <td>1622 Avenue Lincoln, Montreal, Quebec H3H</td>\n",
       "    </tr>\n",
       "    <tr>\n",
       "      <th>3</th>\n",
       "      <td>Yumi Burger</td>\n",
       "      <td>4.6</td>\n",
       "      <td>Burgers</td>\n",
       "      <td>1448 Rue Mackay, Montréal, QC H3G 2H6</td>\n",
       "    </tr>\n",
       "    <tr>\n",
       "      <th>4</th>\n",
       "      <td>Caribbean Food Factory</td>\n",
       "      <td>4.5</td>\n",
       "      <td>Bakery</td>\n",
       "      <td>5311 Maisonneuve Blvd W, Montreal, QC H4A</td>\n",
       "    </tr>\n",
       "  </tbody>\n",
       "</table>\n",
       "</div>"
      ],
      "text/plain": [
       "               Restaurant Name Rating  Category  \\\n",
       "0                  Burger King    4.3  American   \n",
       "1                  Pizza Pizza    4.2     Pizza   \n",
       "2  Poulet Bronzé Fried Chicken    4.5     Halal   \n",
       "3                  Yumi Burger    4.6   Burgers   \n",
       "4       Caribbean Food Factory    4.5    Bakery   \n",
       "\n",
       "                                     Address  \n",
       "0  1605 Saint-Denis St, Montreal, QC H2X 3K3  \n",
       "1    3714 St. Laurent Blvd, Montreal, QC H2X  \n",
       "2  1622 Avenue Lincoln, Montreal, Quebec H3H  \n",
       "3      1448 Rue Mackay, Montréal, QC H3G 2H6  \n",
       "4  5311 Maisonneuve Blvd W, Montreal, QC H4A  "
      ]
     },
     "execution_count": 10,
     "metadata": {},
     "output_type": "execute_result"
    }
   ],
   "source": [
    "# Join the DataFrames in the desired order\n",
    "result = pd.concat([df, df2, df4, df3], axis=1)\n",
    "\n",
    "result.head()"
   ]
  },
  {
   "cell_type": "code",
   "execution_count": 11,
   "id": "1021338a",
   "metadata": {},
   "outputs": [],
   "source": [
    "# Export the joined DataFrame to an Excel file\n",
    "result.to_excel('montreal-qc.xlsx', index=False)"
   ]
  },
  {
   "cell_type": "code",
   "execution_count": 12,
   "id": "0c41a08a",
   "metadata": {},
   "outputs": [],
   "source": [
    "browser.quit()"
   ]
  },
  {
   "cell_type": "code",
   "execution_count": null,
   "id": "dbc2712a",
   "metadata": {},
   "outputs": [],
   "source": []
  }
 ],
 "metadata": {
  "kernelspec": {
   "display_name": "Python 3 (ipykernel)",
   "language": "python",
   "name": "python3"
  },
  "language_info": {
   "codemirror_mode": {
    "name": "ipython",
    "version": 3
   },
   "file_extension": ".py",
   "mimetype": "text/x-python",
   "name": "python",
   "nbconvert_exporter": "python",
   "pygments_lexer": "ipython3",
   "version": "3.9.13"
  }
 },
 "nbformat": 4,
 "nbformat_minor": 5
}
