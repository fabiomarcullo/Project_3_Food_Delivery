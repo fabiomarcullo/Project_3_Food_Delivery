{
 "cells": [
  {
   "cell_type": "code",
   "execution_count": 1,
   "id": "39d82a98",
   "metadata": {},
   "outputs": [],
   "source": [
    "# Import dependencies/libraries\n",
    "from splinter import Browser\n",
    "from bs4 import BeautifulSoup as soup\n",
    "import pandas as pd\n"
   ]
  },
  {
   "cell_type": "code",
   "execution_count": 2,
   "id": "90fdaf9b",
   "metadata": {},
   "outputs": [],
   "source": [
    "# Setting up the browser\n",
    "browser = Browser('chrome')"
   ]
  },
  {
   "cell_type": "code",
   "execution_count": 3,
   "id": "f683952c",
   "metadata": {},
   "outputs": [],
   "source": [
    "# Visiting the website\n",
    "base_url = \"https://www.ubereats.com/ca/city/\"\n",
    "location = \"edmonton-ab/\"\n",
    "url = base_url + location\n",
    "browser.visit(url)"
   ]
  },
  {
   "cell_type": "code",
   "execution_count": 4,
   "id": "f9578c21",
   "metadata": {},
   "outputs": [],
   "source": [
    "html = browser.html\n",
    "soup = soup(html, 'html.parser')"
   ]
  },
  {
   "cell_type": "code",
   "execution_count": 33,
   "id": "16794064",
   "metadata": {
    "scrolled": true
   },
   "outputs": [
    {
     "name": "stdout",
     "output_type": "stream",
     "text": [
      "                    Restaurant Name\n",
      "0               Seoul Fried Chicken\n",
      "1           Cosmic Pizza and Donair\n",
      "2       Yang's Braised Chicken Rice\n",
      "3                  Freshslice Pizza\n",
      "4                Ayco Bakery & Cafe\n",
      "..                              ...\n",
      "75         Vegas Donair and Poutine\n",
      "76                      Remedy Cafe\n",
      "77          Jasper Liquor Merchants\n",
      "78             Marble Slab Creamery\n",
      "79  New Asian Village Sherwood Park\n",
      "\n",
      "[80 rows x 1 columns]\n"
     ]
    }
   ],
   "source": [
    "# Restaurant name\n",
    "\n",
    "res_name = soup.find_all('h3', class_='be by bg db b1 br dd c3 iy iz j0 j1')\n",
    "restaurants = []\n",
    "\n",
    "for i in res_name:\n",
    "    restaurant = i.text.split('(')[0].strip()\n",
    "    restaurants.append(restaurant)\n",
    "\n",
    "df = pd.DataFrame(restaurants, columns=['Restaurant Name'])\n",
    "print(df)"
   ]
  },
  {
   "cell_type": "code",
   "execution_count": 36,
   "id": "4a9881ba",
   "metadata": {
    "scrolled": true
   },
   "outputs": [
    {
     "name": "stdout",
     "output_type": "stream",
     "text": [
      "   Rating\n",
      "0     4.8\n",
      "1     4.7\n",
      "2     4.9\n",
      "3     4.5\n",
      "4     4.5\n",
      "..    ...\n",
      "73    4.7\n",
      "74    4.8\n",
      "75    4.8\n",
      "76    4.8\n",
      "77    4.6\n",
      "\n",
      "[78 rows x 1 columns]\n"
     ]
    }
   ],
   "source": [
    "# Rating information \n",
    "\n",
    "\n",
    "res_Rating = soup.find_all('div', class_ = 'be j2 bg bh fc fb j3 ef i7 al bm cb')\n",
    "\n",
    "ratings = []\n",
    "\n",
    "for i in res_Rating:\n",
    "    rating = i.text\n",
    "    ratings.append(rating)\n",
    "\n",
    "df2 = pd.DataFrame(ratings, columns=['Rating'])\n",
    "print(df2)"
   ]
  },
  {
   "cell_type": "code",
   "execution_count": 53,
   "id": "fee02591",
   "metadata": {},
   "outputs": [
    {
     "name": "stdout",
     "output_type": "stream",
     "text": [
      "                                              Address\n",
      "0               10145 104 St Nw, Edmonton, AB T5J 0Z9\n",
      "1                 10412 102 Ave, Edmonton, AB T5J 0B4\n",
      "2               10167 109 St Nw, Edmonton, AB T5J 3M5\n",
      "3               10071 109 St Nw, Edmonton, AB T5J 0J7\n",
      "4               10551 Jasper Avenue, Edmonton, AB T5J\n",
      "..                                                ...\n",
      "76               8525 112 St Nw, Edmonton, AB T6G 2L7\n",
      "77              10279 Jasper Avenue, Edmonton, AB T5J\n",
      "78              11607 Jasper Avenue, Edmonton, AB T5K\n",
      "79           10156 - 109 Street, Edmonton, AB T5J 1M7\n",
      "80  200 - 10 Main Boulevard, Sherwood Park, AB T6H...\n",
      "\n",
      "[81 rows x 1 columns]\n"
     ]
    }
   ],
   "source": [
    "# Address\n",
    "\n",
    "res_Address = soup.find_all('span', class_ = \"be bf bz db h1 dd j6 c3 br j4\")\n",
    "\n",
    "addresses = []\n",
    "\n",
    "for i in res_Address:\n",
    "    if i.text:\n",
    "        address = i.text\n",
    "        addresses.append(address)\n",
    "\n",
    "df3 = pd.DataFrame(addresses, columns=['Address'])\n",
    "print(df3)\n"
   ]
  },
  {
   "cell_type": "code",
   "execution_count": 50,
   "id": "042043d8",
   "metadata": {},
   "outputs": [
    {
     "name": "stdout",
     "output_type": "stream",
     "text": [
      "                     Category\n",
      "0                      Korean\n",
      "1                       Pizza\n",
      "2                     Chinese\n",
      "3                       Pizza\n",
      "4                    American\n",
      "..                        ...\n",
      "75                  Fast food\n",
      "76                     Indian\n",
      "77                    Alcohol\n",
      "78  Ice Cream & Frozen Yogurt\n",
      "79                     Indian\n",
      "\n",
      "[80 rows x 1 columns]\n"
     ]
    }
   ],
   "source": [
    "# Category\n",
    "\n",
    "res_category = soup.find_all('span', class_ = \"be bf bz db h1 dd c5 c3 br j4\")\n",
    "\n",
    "categories = []\n",
    "\n",
    "for i in res_category:\n",
    "    category = i.text.split('•')[0].strip()\n",
    "    categories.append(category)\n",
    "\n",
    "df4 = pd.DataFrame(categories, columns=['Category'])\n",
    "print(df4)"
   ]
  },
  {
   "cell_type": "code",
   "execution_count": 54,
   "id": "c2784c43",
   "metadata": {},
   "outputs": [
    {
     "data": {
      "text/html": [
       "<div>\n",
       "<style scoped>\n",
       "    .dataframe tbody tr th:only-of-type {\n",
       "        vertical-align: middle;\n",
       "    }\n",
       "\n",
       "    .dataframe tbody tr th {\n",
       "        vertical-align: top;\n",
       "    }\n",
       "\n",
       "    .dataframe thead th {\n",
       "        text-align: right;\n",
       "    }\n",
       "</style>\n",
       "<table border=\"1\" class=\"dataframe\">\n",
       "  <thead>\n",
       "    <tr style=\"text-align: right;\">\n",
       "      <th></th>\n",
       "      <th>Restaurant Name</th>\n",
       "      <th>Rating</th>\n",
       "      <th>Category</th>\n",
       "      <th>Address</th>\n",
       "    </tr>\n",
       "  </thead>\n",
       "  <tbody>\n",
       "    <tr>\n",
       "      <th>0</th>\n",
       "      <td>Seoul Fried Chicken</td>\n",
       "      <td>4.8</td>\n",
       "      <td>Korean</td>\n",
       "      <td>10145 104 St Nw, Edmonton, AB T5J 0Z9</td>\n",
       "    </tr>\n",
       "    <tr>\n",
       "      <th>1</th>\n",
       "      <td>Cosmic Pizza and Donair</td>\n",
       "      <td>4.7</td>\n",
       "      <td>Pizza</td>\n",
       "      <td>10412 102 Ave, Edmonton, AB T5J 0B4</td>\n",
       "    </tr>\n",
       "    <tr>\n",
       "      <th>2</th>\n",
       "      <td>Yang's Braised Chicken Rice</td>\n",
       "      <td>4.9</td>\n",
       "      <td>Chinese</td>\n",
       "      <td>10167 109 St Nw, Edmonton, AB T5J 3M5</td>\n",
       "    </tr>\n",
       "    <tr>\n",
       "      <th>3</th>\n",
       "      <td>Freshslice Pizza</td>\n",
       "      <td>4.5</td>\n",
       "      <td>Pizza</td>\n",
       "      <td>10071 109 St Nw, Edmonton, AB T5J 0J7</td>\n",
       "    </tr>\n",
       "    <tr>\n",
       "      <th>4</th>\n",
       "      <td>Ayco Bakery &amp; Cafe</td>\n",
       "      <td>4.5</td>\n",
       "      <td>American</td>\n",
       "      <td>10551 Jasper Avenue, Edmonton, AB T5J</td>\n",
       "    </tr>\n",
       "  </tbody>\n",
       "</table>\n",
       "</div>"
      ],
      "text/plain": [
       "               Restaurant Name Rating  Category  \\\n",
       "0          Seoul Fried Chicken    4.8    Korean   \n",
       "1      Cosmic Pizza and Donair    4.7     Pizza   \n",
       "2  Yang's Braised Chicken Rice    4.9   Chinese   \n",
       "3             Freshslice Pizza    4.5     Pizza   \n",
       "4           Ayco Bakery & Cafe    4.5  American   \n",
       "\n",
       "                                 Address  \n",
       "0  10145 104 St Nw, Edmonton, AB T5J 0Z9  \n",
       "1    10412 102 Ave, Edmonton, AB T5J 0B4  \n",
       "2  10167 109 St Nw, Edmonton, AB T5J 3M5  \n",
       "3  10071 109 St Nw, Edmonton, AB T5J 0J7  \n",
       "4  10551 Jasper Avenue, Edmonton, AB T5J  "
      ]
     },
     "execution_count": 54,
     "metadata": {},
     "output_type": "execute_result"
    }
   ],
   "source": [
    "# Join the DataFrames in the desired order\n",
    "result = pd.concat([df, df2, df4, df3], axis=1)\n",
    "\n",
    "result.head()"
   ]
  },
  {
   "cell_type": "code",
   "execution_count": 57,
   "id": "1021338a",
   "metadata": {},
   "outputs": [],
   "source": [
    "# Export the joined DataFrame to an Excel file\n",
    "result.to_excel('edmonton-ab.xlsx', index=False)"
   ]
  },
  {
   "cell_type": "code",
   "execution_count": 58,
   "id": "0c41a08a",
   "metadata": {},
   "outputs": [],
   "source": [
    "browser.quit()"
   ]
  },
  {
   "cell_type": "code",
   "execution_count": null,
   "id": "dbc2712a",
   "metadata": {},
   "outputs": [],
   "source": []
  }
 ],
 "metadata": {
  "kernelspec": {
   "display_name": "Python 3 (ipykernel)",
   "language": "python",
   "name": "python3"
  },
  "language_info": {
   "codemirror_mode": {
    "name": "ipython",
    "version": 3
   },
   "file_extension": ".py",
   "mimetype": "text/x-python",
   "name": "python",
   "nbconvert_exporter": "python",
   "pygments_lexer": "ipython3",
   "version": "3.9.13"
  }
 },
 "nbformat": 4,
 "nbformat_minor": 5
}
