{
 "cells": [
  {
   "cell_type": "code",
   "execution_count": 90,
   "id": "39d82a98",
   "metadata": {},
   "outputs": [],
   "source": [
    "# Import dependencies/libraries\n",
    "from splinter import Browser\n",
    "from bs4 import BeautifulSoup as soup\n",
    "import pandas as pd\n"
   ]
  },
  {
   "cell_type": "code",
   "execution_count": 91,
   "id": "90fdaf9b",
   "metadata": {},
   "outputs": [],
   "source": [
    "# Setting up the browser\n",
    "browser = Browser('chrome')"
   ]
  },
  {
   "cell_type": "code",
   "execution_count": 92,
   "id": "f683952c",
   "metadata": {},
   "outputs": [],
   "source": [
    "# Visiting the website\n",
    "base_url = \"https://www.ubereats.com/ca/city/\"\n",
    "location = \"toronto-on\"\n",
    "url = base_url + location\n",
    "browser.visit(url)"
   ]
  },
  {
   "cell_type": "code",
   "execution_count": 93,
   "id": "f9578c21",
   "metadata": {},
   "outputs": [],
   "source": [
    "html = browser.html\n",
    "soup = soup(html, 'html.parser')"
   ]
  },
  {
   "cell_type": "code",
   "execution_count": 94,
   "id": "16794064",
   "metadata": {
    "scrolled": true
   },
   "outputs": [
    {
     "name": "stdout",
     "output_type": "stream",
     "text": [
      "                                    Restaurant Name\n",
      "0                  Food Basics (830 Lansdowne Ave.)\n",
      "1                                       JC Foodlane\n",
      "2                         Cibo Wine Bar (King West)\n",
      "3   Fast Fresh Foods (Eaton Centre Mall Food Court)\n",
      "4                               Mavericks Burger Co\n",
      "..                                              ...\n",
      "74                     Pizzeria Libretto (Junction)\n",
      "75                         Choco Churros (Yonge St)\n",
      "76                Krispy Kreme (McCaul St & Elm St)\n",
      "77           Second Cup ft. Pinkberry (King & John)\n",
      "78                                  Craque de Creme\n",
      "\n",
      "[79 rows x 1 columns]\n"
     ]
    }
   ],
   "source": [
    "# Restaurant name\n",
    "\n",
    "res_name = soup.find_all('div', class_='br al b9 bm c3 dd j3')\n",
    "restaurants = []\n",
    "\n",
    "for i in res_name:\n",
    "    restaurant = i.find('h3').text.strip()\n",
    "    restaurants.append(restaurant)\n",
    "\n",
    "df = pd.DataFrame(restaurants, columns=['Restaurant Name'])\n",
    "print(df)"
   ]
  },
  {
   "cell_type": "code",
   "execution_count": 96,
   "id": "4a9881ba",
   "metadata": {
    "scrolled": true
   },
   "outputs": [
    {
     "name": "stdout",
     "output_type": "stream",
     "text": [
      "   Rating\n",
      "0     4.5\n",
      "1     4.8\n",
      "2     4.5\n",
      "3     5.0\n",
      "4     4.8\n",
      "..    ...\n",
      "74    4.7\n",
      "75    4.4\n",
      "76    4.9\n",
      "77    New\n",
      "78    4.8\n",
      "\n",
      "[79 rows x 1 columns]\n"
     ]
    }
   ],
   "source": [
    "# Rating information \n",
    "\n",
    "\n",
    "res_Rating = soup.find_all('div', class_=\"br al b9 bm c3 dd j3\")\n",
    "\n",
    "ratings = []\n",
    "\n",
    "for i in res_Rating:\n",
    "    rating = i.find('div').text.strip()\n",
    "    ratings.append(rating)\n",
    "\n",
    "df2 = pd.DataFrame(ratings, columns=['Rating'])\n",
    "print(df2)"
   ]
  },
  {
   "cell_type": "code",
   "execution_count": 99,
   "id": "fee02591",
   "metadata": {},
   "outputs": [
    {
     "name": "stdout",
     "output_type": "stream",
     "text": [
      "                                              Address\n",
      "0          830 Lansdowne Ave., Toronto, NAMER M6H 0C3\n",
      "1   270 Wellington St W, West End Of The Building,...\n",
      "2                      522 King St W, Toronto, ON M5V\n",
      "3                   220 Yonge Street, Toronto, ON M5B\n",
      "4            15 Merchants' Wharf, Toronto, ON M5A 0N8\n",
      "..                                                ...\n",
      "74       3011 Dundas Street West, Toronto, ON M6P 1Z4\n",
      "75                  335 Yonge St, Toronto, ON M5B 1R7\n",
      "76                 164 Mccaul St, Toronto, ON M5T 1W4\n",
      "77                289 King St W, Toronto, Ontario M5V\n",
      "78              1360 Bathurst St, Toronto, ON M5R 3H7\n",
      "\n",
      "[79 rows x 1 columns]\n"
     ]
    }
   ],
   "source": [
    "# Address\n",
    "\n",
    "res_Address = soup.find_all('div', class_='fz jb al ii')\n",
    "addresses = []\n",
    "\n",
    "for i in res_Address:\n",
    "    if i.text:\n",
    "        spans = i.find_all('span')\n",
    "        if len(spans) > 1:\n",
    "            address = spans[1].text.strip()\n",
    "            addresses.append(address)\n",
    "\n",
    "df3 = pd.DataFrame(addresses, columns=['Address'])\n",
    "print(df3)\n"
   ]
  },
  {
   "cell_type": "code",
   "execution_count": 102,
   "id": "042043d8",
   "metadata": {},
   "outputs": [
    {
     "name": "stdout",
     "output_type": "stream",
     "text": [
      "               Category\n",
      "0   Everyday Essentials\n",
      "1           Convenience\n",
      "2               Italian\n",
      "3               Healthy\n",
      "4               Burgers\n",
      "..                  ...\n",
      "74                Pizza\n",
      "75             Desserts\n",
      "76             Desserts\n",
      "77         Coffee & tea\n",
      "78             Desserts\n",
      "\n",
      "[79 rows x 1 columns]\n"
     ]
    }
   ],
   "source": [
    "# Category\n",
    "\n",
    "res_category = soup.find_all('div', class_='al ii br j2 c3')\n",
    "categories = []\n",
    "\n",
    "for i in res_category:\n",
    "    span_text = i.find('span').text.strip()\n",
    "    category = span_text.split('•')[0].strip()\n",
    "    categories.append(category)\n",
    "\n",
    "df4 = pd.DataFrame(categories, columns=['Category'])\n",
    "print(df4)"
   ]
  },
  {
   "cell_type": "code",
   "execution_count": 103,
   "id": "c2784c43",
   "metadata": {},
   "outputs": [
    {
     "data": {
      "text/html": [
       "<div>\n",
       "<style scoped>\n",
       "    .dataframe tbody tr th:only-of-type {\n",
       "        vertical-align: middle;\n",
       "    }\n",
       "\n",
       "    .dataframe tbody tr th {\n",
       "        vertical-align: top;\n",
       "    }\n",
       "\n",
       "    .dataframe thead th {\n",
       "        text-align: right;\n",
       "    }\n",
       "</style>\n",
       "<table border=\"1\" class=\"dataframe\">\n",
       "  <thead>\n",
       "    <tr style=\"text-align: right;\">\n",
       "      <th></th>\n",
       "      <th>Restaurant Name</th>\n",
       "      <th>Rating</th>\n",
       "      <th>Category</th>\n",
       "      <th>Address</th>\n",
       "    </tr>\n",
       "  </thead>\n",
       "  <tbody>\n",
       "    <tr>\n",
       "      <th>0</th>\n",
       "      <td>Food Basics (830 Lansdowne Ave.)</td>\n",
       "      <td>4.5</td>\n",
       "      <td>Everyday Essentials</td>\n",
       "      <td>830 Lansdowne Ave., Toronto, NAMER M6H 0C3</td>\n",
       "    </tr>\n",
       "    <tr>\n",
       "      <th>1</th>\n",
       "      <td>JC Foodlane</td>\n",
       "      <td>4.8</td>\n",
       "      <td>Convenience</td>\n",
       "      <td>270 Wellington St W, West End Of The Building,...</td>\n",
       "    </tr>\n",
       "    <tr>\n",
       "      <th>2</th>\n",
       "      <td>Cibo Wine Bar (King West)</td>\n",
       "      <td>4.5</td>\n",
       "      <td>Italian</td>\n",
       "      <td>522 King St W, Toronto, ON M5V</td>\n",
       "    </tr>\n",
       "    <tr>\n",
       "      <th>3</th>\n",
       "      <td>Fast Fresh Foods (Eaton Centre Mall Food Court)</td>\n",
       "      <td>5.0</td>\n",
       "      <td>Healthy</td>\n",
       "      <td>220 Yonge Street, Toronto, ON M5B</td>\n",
       "    </tr>\n",
       "    <tr>\n",
       "      <th>4</th>\n",
       "      <td>Mavericks Burger Co</td>\n",
       "      <td>4.8</td>\n",
       "      <td>Burgers</td>\n",
       "      <td>15 Merchants' Wharf, Toronto, ON M5A 0N8</td>\n",
       "    </tr>\n",
       "  </tbody>\n",
       "</table>\n",
       "</div>"
      ],
      "text/plain": [
       "                                   Restaurant Name Rating  \\\n",
       "0                 Food Basics (830 Lansdowne Ave.)    4.5   \n",
       "1                                      JC Foodlane    4.8   \n",
       "2                        Cibo Wine Bar (King West)    4.5   \n",
       "3  Fast Fresh Foods (Eaton Centre Mall Food Court)    5.0   \n",
       "4                              Mavericks Burger Co    4.8   \n",
       "\n",
       "              Category                                            Address  \n",
       "0  Everyday Essentials         830 Lansdowne Ave., Toronto, NAMER M6H 0C3  \n",
       "1          Convenience  270 Wellington St W, West End Of The Building,...  \n",
       "2              Italian                     522 King St W, Toronto, ON M5V  \n",
       "3              Healthy                  220 Yonge Street, Toronto, ON M5B  \n",
       "4              Burgers           15 Merchants' Wharf, Toronto, ON M5A 0N8  "
      ]
     },
     "execution_count": 103,
     "metadata": {},
     "output_type": "execute_result"
    }
   ],
   "source": [
    "# Join the DataFrames in the desired order\n",
    "result = pd.concat([df, df2, df4, df3], axis=1)\n",
    "\n",
    "result.head()"
   ]
  },
  {
   "cell_type": "code",
   "execution_count": 104,
   "id": "1021338a",
   "metadata": {},
   "outputs": [],
   "source": [
    "# Export the joined DataFrame to an Excel file\n",
    "result.to_excel('toronto-ON.xlsx', index=False)"
   ]
  },
  {
   "cell_type": "code",
   "execution_count": 105,
   "id": "0c41a08a",
   "metadata": {},
   "outputs": [],
   "source": [
    "browser.quit()"
   ]
  },
  {
   "cell_type": "code",
   "execution_count": null,
   "id": "dbc2712a",
   "metadata": {},
   "outputs": [],
   "source": []
  }
 ],
 "metadata": {
  "kernelspec": {
   "display_name": "Python 3 (ipykernel)",
   "language": "python",
   "name": "python3"
  },
  "language_info": {
   "codemirror_mode": {
    "name": "ipython",
    "version": 3
   },
   "file_extension": ".py",
   "mimetype": "text/x-python",
   "name": "python",
   "nbconvert_exporter": "python",
   "pygments_lexer": "ipython3",
   "version": "3.9.13"
  }
 },
 "nbformat": 4,
 "nbformat_minor": 5
}
