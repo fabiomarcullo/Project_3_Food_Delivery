{
 "cells": [
  {
   "cell_type": "code",
   "execution_count": 1,
   "id": "39d82a98",
   "metadata": {},
   "outputs": [],
   "source": [
    "# Import dependencies/libraries\n",
    "\n",
    "from splinter import Browser\n",
    "from bs4 import BeautifulSoup as soup"
   ]
  },
  {
   "cell_type": "code",
   "execution_count": 2,
   "id": "90fdaf9b",
   "metadata": {},
   "outputs": [
    {
     "ename": "SessionNotCreatedException",
     "evalue": "Message: session not created: This version of ChromeDriver only supports Chrome version 112\nCurrent browser version is 114.0.5735.110 with binary path C:\\Program Files\\Google\\Chrome\\Application\\chrome.exe\nStacktrace:\nBacktrace:\n\tGetHandleVerifier [0x005CDCE3+50899]\n\t(No symbol) [0x0055E111]\n\t(No symbol) [0x00465588]\n\t(No symbol) [0x0048570C]\n\t(No symbol) [0x00481471]\n\t(No symbol) [0x0047F479]\n\t(No symbol) [0x004B1FFE]\n\t(No symbol) [0x004B1CEC]\n\t(No symbol) [0x004AB6F6]\n\t(No symbol) [0x00487708]\n\t(No symbol) [0x0048886D]\n\tGetHandleVerifier [0x00833EAE+2566302]\n\tGetHandleVerifier [0x008692B1+2784417]\n\tGetHandleVerifier [0x0086327C+2759788]\n\tGetHandleVerifier [0x00665740+672048]\n\t(No symbol) [0x00568872]\n\t(No symbol) [0x005641C8]\n\t(No symbol) [0x005642AB]\n\t(No symbol) [0x005571B7]\n\tBaseThreadInitThunk [0x751B00C9+25]\n\tRtlGetAppContainerNamedObjectPath [0x76FF7B4E+286]\n\tRtlGetAppContainerNamedObjectPath [0x76FF7B1E+238]\n",
     "output_type": "error",
     "traceback": [
      "\u001b[1;31m---------------------------------------------------------------------------\u001b[0m",
      "\u001b[1;31mSessionNotCreatedException\u001b[0m                Traceback (most recent call last)",
      "Cell \u001b[1;32mIn[2], line 3\u001b[0m\n\u001b[0;32m      1\u001b[0m \u001b[38;5;66;03m# Setting up the browser\u001b[39;00m\n\u001b[1;32m----> 3\u001b[0m browser \u001b[38;5;241m=\u001b[39m \u001b[43mBrowser\u001b[49m\u001b[43m(\u001b[49m\u001b[38;5;124;43m'\u001b[39;49m\u001b[38;5;124;43mchrome\u001b[39;49m\u001b[38;5;124;43m'\u001b[39;49m\u001b[43m)\u001b[49m\n",
      "File \u001b[1;32m~\\anaconda\\lib\\site-packages\\splinter\\browser.py:125\u001b[0m, in \u001b[0;36mBrowser\u001b[1;34m(driver_name, retry_count, *args, **kwargs)\u001b[0m\n\u001b[0;32m    122\u001b[0m \u001b[38;5;28;01mif\u001b[39;00m driver \u001b[38;5;129;01mis\u001b[39;00m \u001b[38;5;28;01mNone\u001b[39;00m:\n\u001b[0;32m    123\u001b[0m     \u001b[38;5;28;01mraise\u001b[39;00m DriverNotFoundError(\u001b[38;5;124mf\u001b[39m\u001b[38;5;124m'\u001b[39m\u001b[38;5;124mDriver for \u001b[39m\u001b[38;5;132;01m{\u001b[39;00mdriver_name\u001b[38;5;132;01m}\u001b[39;00m\u001b[38;5;124m was not found.\u001b[39m\u001b[38;5;124m'\u001b[39m)\n\u001b[1;32m--> 125\u001b[0m \u001b[38;5;28;01mreturn\u001b[39;00m get_driver(driver, retry_count\u001b[38;5;241m=\u001b[39mretry_count, \u001b[38;5;241m*\u001b[39margs, \u001b[38;5;241m*\u001b[39m\u001b[38;5;241m*\u001b[39mkwargs)\n",
      "File \u001b[1;32m~\\anaconda\\lib\\site-packages\\splinter\\browser.py:97\u001b[0m, in \u001b[0;36mget_driver\u001b[1;34m(driver, retry_count, *args, **kwargs)\u001b[0m\n\u001b[0;32m     94\u001b[0m     \u001b[38;5;28;01mexcept\u001b[39;00m driver_exceptions \u001b[38;5;28;01mas\u001b[39;00m e:\n\u001b[0;32m     95\u001b[0m         err \u001b[38;5;241m=\u001b[39m e\n\u001b[1;32m---> 97\u001b[0m \u001b[38;5;28;01mraise\u001b[39;00m err\n",
      "File \u001b[1;32m~\\anaconda\\lib\\site-packages\\splinter\\browser.py:93\u001b[0m, in \u001b[0;36mget_driver\u001b[1;34m(driver, retry_count, *args, **kwargs)\u001b[0m\n\u001b[0;32m     91\u001b[0m \u001b[38;5;28;01mfor\u001b[39;00m _ \u001b[38;5;129;01min\u001b[39;00m \u001b[38;5;28mrange\u001b[39m(retry_count):\n\u001b[0;32m     92\u001b[0m     \u001b[38;5;28;01mtry\u001b[39;00m:\n\u001b[1;32m---> 93\u001b[0m         \u001b[38;5;28;01mreturn\u001b[39;00m driver(\u001b[38;5;241m*\u001b[39margs, \u001b[38;5;241m*\u001b[39m\u001b[38;5;241m*\u001b[39mkwargs)\n\u001b[0;32m     94\u001b[0m     \u001b[38;5;28;01mexcept\u001b[39;00m driver_exceptions \u001b[38;5;28;01mas\u001b[39;00m e:\n\u001b[0;32m     95\u001b[0m         err \u001b[38;5;241m=\u001b[39m e\n",
      "File \u001b[1;32m~\\anaconda\\lib\\site-packages\\splinter\\driver\\webdriver\\chrome.py:42\u001b[0m, in \u001b[0;36mWebDriver.__init__\u001b[1;34m(self, options, user_agent, wait_time, fullscreen, incognito, headless, **kwargs)\u001b[0m\n\u001b[0;32m     39\u001b[0m     options\u001b[38;5;241m.\u001b[39madd_argument(\u001b[38;5;124m\"\u001b[39m\u001b[38;5;124m--headless\u001b[39m\u001b[38;5;124m\"\u001b[39m)\n\u001b[0;32m     40\u001b[0m     options\u001b[38;5;241m.\u001b[39madd_argument(\u001b[38;5;124m\"\u001b[39m\u001b[38;5;124m--disable-gpu\u001b[39m\u001b[38;5;124m\"\u001b[39m)\n\u001b[1;32m---> 42\u001b[0m driver \u001b[38;5;241m=\u001b[39m Chrome(options\u001b[38;5;241m=\u001b[39moptions, \u001b[38;5;241m*\u001b[39m\u001b[38;5;241m*\u001b[39mkwargs)\n\u001b[0;32m     44\u001b[0m \u001b[38;5;28msuper\u001b[39m(WebDriver, \u001b[38;5;28mself\u001b[39m)\u001b[38;5;241m.\u001b[39m\u001b[38;5;21m__init__\u001b[39m(driver, wait_time)\n",
      "File \u001b[1;32m~\\anaconda\\lib\\site-packages\\selenium\\webdriver\\chrome\\webdriver.py:70\u001b[0m, in \u001b[0;36mWebDriver.__init__\u001b[1;34m(self, executable_path, port, options, service_args, desired_capabilities, service_log_path, chrome_options, service, keep_alive)\u001b[0m\n\u001b[0;32m     67\u001b[0m \u001b[38;5;28;01mif\u001b[39;00m \u001b[38;5;129;01mnot\u001b[39;00m service:\n\u001b[0;32m     68\u001b[0m     service \u001b[38;5;241m=\u001b[39m Service(executable_path, port, service_args, service_log_path)\n\u001b[1;32m---> 70\u001b[0m \u001b[38;5;28;43msuper\u001b[39;49m\u001b[43m(\u001b[49m\u001b[43mWebDriver\u001b[49m\u001b[43m,\u001b[49m\u001b[43m \u001b[49m\u001b[38;5;28;43mself\u001b[39;49m\u001b[43m)\u001b[49m\u001b[38;5;241;43m.\u001b[39;49m\u001b[38;5;21;43m__init__\u001b[39;49m\u001b[43m(\u001b[49m\u001b[43mDesiredCapabilities\u001b[49m\u001b[38;5;241;43m.\u001b[39;49m\u001b[43mCHROME\u001b[49m\u001b[43m[\u001b[49m\u001b[38;5;124;43m'\u001b[39;49m\u001b[38;5;124;43mbrowserName\u001b[39;49m\u001b[38;5;124;43m'\u001b[39;49m\u001b[43m]\u001b[49m\u001b[43m,\u001b[49m\u001b[43m \u001b[49m\u001b[38;5;124;43m\"\u001b[39;49m\u001b[38;5;124;43mgoog\u001b[39;49m\u001b[38;5;124;43m\"\u001b[39;49m\u001b[43m,\u001b[49m\n\u001b[0;32m     71\u001b[0m \u001b[43m                                \u001b[49m\u001b[43mport\u001b[49m\u001b[43m,\u001b[49m\u001b[43m \u001b[49m\u001b[43moptions\u001b[49m\u001b[43m,\u001b[49m\n\u001b[0;32m     72\u001b[0m \u001b[43m                                \u001b[49m\u001b[43mservice_args\u001b[49m\u001b[43m,\u001b[49m\u001b[43m \u001b[49m\u001b[43mdesired_capabilities\u001b[49m\u001b[43m,\u001b[49m\n\u001b[0;32m     73\u001b[0m \u001b[43m                                \u001b[49m\u001b[43mservice_log_path\u001b[49m\u001b[43m,\u001b[49m\u001b[43m \u001b[49m\u001b[43mservice\u001b[49m\u001b[43m,\u001b[49m\u001b[43m \u001b[49m\u001b[43mkeep_alive\u001b[49m\u001b[43m)\u001b[49m\n",
      "File \u001b[1;32m~\\anaconda\\lib\\site-packages\\selenium\\webdriver\\chromium\\webdriver.py:92\u001b[0m, in \u001b[0;36mChromiumDriver.__init__\u001b[1;34m(self, browser_name, vendor_prefix, port, options, service_args, desired_capabilities, service_log_path, service, keep_alive)\u001b[0m\n\u001b[0;32m     89\u001b[0m \u001b[38;5;28mself\u001b[39m\u001b[38;5;241m.\u001b[39mservice\u001b[38;5;241m.\u001b[39mstart()\n\u001b[0;32m     91\u001b[0m \u001b[38;5;28;01mtry\u001b[39;00m:\n\u001b[1;32m---> 92\u001b[0m     \u001b[43mRemoteWebDriver\u001b[49m\u001b[38;5;241;43m.\u001b[39;49m\u001b[38;5;21;43m__init__\u001b[39;49m\u001b[43m(\u001b[49m\n\u001b[0;32m     93\u001b[0m \u001b[43m        \u001b[49m\u001b[38;5;28;43mself\u001b[39;49m\u001b[43m,\u001b[49m\n\u001b[0;32m     94\u001b[0m \u001b[43m        \u001b[49m\u001b[43mcommand_executor\u001b[49m\u001b[38;5;241;43m=\u001b[39;49m\u001b[43mChromiumRemoteConnection\u001b[49m\u001b[43m(\u001b[49m\n\u001b[0;32m     95\u001b[0m \u001b[43m            \u001b[49m\u001b[43mremote_server_addr\u001b[49m\u001b[38;5;241;43m=\u001b[39;49m\u001b[38;5;28;43mself\u001b[39;49m\u001b[38;5;241;43m.\u001b[39;49m\u001b[43mservice\u001b[49m\u001b[38;5;241;43m.\u001b[39;49m\u001b[43mservice_url\u001b[49m\u001b[43m,\u001b[49m\n\u001b[0;32m     96\u001b[0m \u001b[43m            \u001b[49m\u001b[43mbrowser_name\u001b[49m\u001b[38;5;241;43m=\u001b[39;49m\u001b[43mbrowser_name\u001b[49m\u001b[43m,\u001b[49m\u001b[43m \u001b[49m\u001b[43mvendor_prefix\u001b[49m\u001b[38;5;241;43m=\u001b[39;49m\u001b[43mvendor_prefix\u001b[49m\u001b[43m,\u001b[49m\n\u001b[0;32m     97\u001b[0m \u001b[43m            \u001b[49m\u001b[43mkeep_alive\u001b[49m\u001b[38;5;241;43m=\u001b[39;49m\u001b[43mkeep_alive\u001b[49m\u001b[43m,\u001b[49m\u001b[43m \u001b[49m\u001b[43mignore_proxy\u001b[49m\u001b[38;5;241;43m=\u001b[39;49m\u001b[43m_ignore_proxy\u001b[49m\u001b[43m)\u001b[49m\u001b[43m,\u001b[49m\n\u001b[0;32m     98\u001b[0m \u001b[43m        \u001b[49m\u001b[43moptions\u001b[49m\u001b[38;5;241;43m=\u001b[39;49m\u001b[43moptions\u001b[49m\u001b[43m)\u001b[49m\n\u001b[0;32m     99\u001b[0m \u001b[38;5;28;01mexcept\u001b[39;00m \u001b[38;5;167;01mException\u001b[39;00m:\n\u001b[0;32m    100\u001b[0m     \u001b[38;5;28mself\u001b[39m\u001b[38;5;241m.\u001b[39mquit()\n",
      "File \u001b[1;32m~\\anaconda\\lib\\site-packages\\selenium\\webdriver\\remote\\webdriver.py:275\u001b[0m, in \u001b[0;36mWebDriver.__init__\u001b[1;34m(self, command_executor, desired_capabilities, browser_profile, proxy, keep_alive, file_detector, options)\u001b[0m\n\u001b[0;32m    273\u001b[0m \u001b[38;5;28mself\u001b[39m\u001b[38;5;241m.\u001b[39m_authenticator_id \u001b[38;5;241m=\u001b[39m \u001b[38;5;28;01mNone\u001b[39;00m\n\u001b[0;32m    274\u001b[0m \u001b[38;5;28mself\u001b[39m\u001b[38;5;241m.\u001b[39mstart_client()\n\u001b[1;32m--> 275\u001b[0m \u001b[38;5;28;43mself\u001b[39;49m\u001b[38;5;241;43m.\u001b[39;49m\u001b[43mstart_session\u001b[49m\u001b[43m(\u001b[49m\u001b[43mcapabilities\u001b[49m\u001b[43m,\u001b[49m\u001b[43m \u001b[49m\u001b[43mbrowser_profile\u001b[49m\u001b[43m)\u001b[49m\n",
      "File \u001b[1;32m~\\anaconda\\lib\\site-packages\\selenium\\webdriver\\remote\\webdriver.py:365\u001b[0m, in \u001b[0;36mWebDriver.start_session\u001b[1;34m(self, capabilities, browser_profile)\u001b[0m\n\u001b[0;32m    363\u001b[0m w3c_caps \u001b[38;5;241m=\u001b[39m _make_w3c_caps(capabilities)\n\u001b[0;32m    364\u001b[0m parameters \u001b[38;5;241m=\u001b[39m {\u001b[38;5;124m\"\u001b[39m\u001b[38;5;124mcapabilities\u001b[39m\u001b[38;5;124m\"\u001b[39m: w3c_caps}\n\u001b[1;32m--> 365\u001b[0m response \u001b[38;5;241m=\u001b[39m \u001b[38;5;28;43mself\u001b[39;49m\u001b[38;5;241;43m.\u001b[39;49m\u001b[43mexecute\u001b[49m\u001b[43m(\u001b[49m\u001b[43mCommand\u001b[49m\u001b[38;5;241;43m.\u001b[39;49m\u001b[43mNEW_SESSION\u001b[49m\u001b[43m,\u001b[49m\u001b[43m \u001b[49m\u001b[43mparameters\u001b[49m\u001b[43m)\u001b[49m\n\u001b[0;32m    366\u001b[0m \u001b[38;5;28;01mif\u001b[39;00m \u001b[38;5;124m'\u001b[39m\u001b[38;5;124msessionId\u001b[39m\u001b[38;5;124m'\u001b[39m \u001b[38;5;129;01mnot\u001b[39;00m \u001b[38;5;129;01min\u001b[39;00m response:\n\u001b[0;32m    367\u001b[0m     response \u001b[38;5;241m=\u001b[39m response[\u001b[38;5;124m'\u001b[39m\u001b[38;5;124mvalue\u001b[39m\u001b[38;5;124m'\u001b[39m]\n",
      "File \u001b[1;32m~\\anaconda\\lib\\site-packages\\selenium\\webdriver\\remote\\webdriver.py:430\u001b[0m, in \u001b[0;36mWebDriver.execute\u001b[1;34m(self, driver_command, params)\u001b[0m\n\u001b[0;32m    428\u001b[0m response \u001b[38;5;241m=\u001b[39m \u001b[38;5;28mself\u001b[39m\u001b[38;5;241m.\u001b[39mcommand_executor\u001b[38;5;241m.\u001b[39mexecute(driver_command, params)\n\u001b[0;32m    429\u001b[0m \u001b[38;5;28;01mif\u001b[39;00m response:\n\u001b[1;32m--> 430\u001b[0m     \u001b[38;5;28;43mself\u001b[39;49m\u001b[38;5;241;43m.\u001b[39;49m\u001b[43merror_handler\u001b[49m\u001b[38;5;241;43m.\u001b[39;49m\u001b[43mcheck_response\u001b[49m\u001b[43m(\u001b[49m\u001b[43mresponse\u001b[49m\u001b[43m)\u001b[49m\n\u001b[0;32m    431\u001b[0m     response[\u001b[38;5;124m'\u001b[39m\u001b[38;5;124mvalue\u001b[39m\u001b[38;5;124m'\u001b[39m] \u001b[38;5;241m=\u001b[39m \u001b[38;5;28mself\u001b[39m\u001b[38;5;241m.\u001b[39m_unwrap_value(\n\u001b[0;32m    432\u001b[0m         response\u001b[38;5;241m.\u001b[39mget(\u001b[38;5;124m'\u001b[39m\u001b[38;5;124mvalue\u001b[39m\u001b[38;5;124m'\u001b[39m, \u001b[38;5;28;01mNone\u001b[39;00m))\n\u001b[0;32m    433\u001b[0m     \u001b[38;5;28;01mreturn\u001b[39;00m response\n",
      "File \u001b[1;32m~\\anaconda\\lib\\site-packages\\selenium\\webdriver\\remote\\errorhandler.py:247\u001b[0m, in \u001b[0;36mErrorHandler.check_response\u001b[1;34m(self, response)\u001b[0m\n\u001b[0;32m    245\u001b[0m         alert_text \u001b[38;5;241m=\u001b[39m value[\u001b[38;5;124m'\u001b[39m\u001b[38;5;124malert\u001b[39m\u001b[38;5;124m'\u001b[39m]\u001b[38;5;241m.\u001b[39mget(\u001b[38;5;124m'\u001b[39m\u001b[38;5;124mtext\u001b[39m\u001b[38;5;124m'\u001b[39m)\n\u001b[0;32m    246\u001b[0m     \u001b[38;5;28;01mraise\u001b[39;00m exception_class(message, screen, stacktrace, alert_text)  \u001b[38;5;66;03m# type: ignore[call-arg]  # mypy is not smart enough here\u001b[39;00m\n\u001b[1;32m--> 247\u001b[0m \u001b[38;5;28;01mraise\u001b[39;00m exception_class(message, screen, stacktrace)\n",
      "\u001b[1;31mSessionNotCreatedException\u001b[0m: Message: session not created: This version of ChromeDriver only supports Chrome version 112\nCurrent browser version is 114.0.5735.110 with binary path C:\\Program Files\\Google\\Chrome\\Application\\chrome.exe\nStacktrace:\nBacktrace:\n\tGetHandleVerifier [0x005CDCE3+50899]\n\t(No symbol) [0x0055E111]\n\t(No symbol) [0x00465588]\n\t(No symbol) [0x0048570C]\n\t(No symbol) [0x00481471]\n\t(No symbol) [0x0047F479]\n\t(No symbol) [0x004B1FFE]\n\t(No symbol) [0x004B1CEC]\n\t(No symbol) [0x004AB6F6]\n\t(No symbol) [0x00487708]\n\t(No symbol) [0x0048886D]\n\tGetHandleVerifier [0x00833EAE+2566302]\n\tGetHandleVerifier [0x008692B1+2784417]\n\tGetHandleVerifier [0x0086327C+2759788]\n\tGetHandleVerifier [0x00665740+672048]\n\t(No symbol) [0x00568872]\n\t(No symbol) [0x005641C8]\n\t(No symbol) [0x005642AB]\n\t(No symbol) [0x005571B7]\n\tBaseThreadInitThunk [0x751B00C9+25]\n\tRtlGetAppContainerNamedObjectPath [0x76FF7B4E+286]\n\tRtlGetAppContainerNamedObjectPath [0x76FF7B1E+238]\n"
     ]
    }
   ],
   "source": [
    "# Setting up the browser\n",
    "\n",
    "browser = Browser('chrome')"
   ]
  },
  {
   "cell_type": "code",
   "execution_count": null,
   "id": "f683952c",
   "metadata": {},
   "outputs": [],
   "source": [
    "# Creating a BeautifulSoup parser to parse HTML code\n",
    "\n",
    "html = browser.html\n",
    "soup = soup(html, 'html.parser')"
   ]
  },
  {
   "cell_type": "code",
   "execution_count": null,
   "id": "bcd00cad",
   "metadata": {},
   "outputs": [],
   "source": [
    "# Visiting the website\n",
    "\n",
    "base_url = \"https://www.ubereats.com/ca/city/\"\n",
    "location = \"edmonton-ab/\"\n",
    "\n",
    "# Construct the final URL by combining the base URL and location parameter\n",
    "url = base_url + location + \"/\"\n",
    "\n",
    "browser.visit(url)"
   ]
  },
  {
   "cell_type": "code",
   "execution_count": null,
   "id": "1a288190",
   "metadata": {
    "scrolled": true
   },
   "outputs": [],
   "source": [
    "# Getting splinter to click a general location\n",
    "\n",
    "browser.links.find_by_partial_text('Calgary').click()"
   ]
  },
  {
   "cell_type": "code",
   "execution_count": null,
   "id": "384cc62a",
   "metadata": {},
   "outputs": [],
   "source": [
    "# Getting splinter to click a specific location\n",
    "\n",
    "browser.links.find_by_partial_text('Airdrie').click()"
   ]
  },
  {
   "cell_type": "markdown",
   "id": "f7b1aa9e",
   "metadata": {},
   "source": [
    "# Idea 1 - Category/Cuisine type scraping - doordash interface 1"
   ]
  },
  {
   "cell_type": "code",
   "execution_count": null,
   "id": "6154b198",
   "metadata": {},
   "outputs": [],
   "source": [
    "# Getting splinter to click/expand the cuisine category\n",
    "\n",
    "browser.find_by_id(\"cuisine-filters-toggle-link\").click()"
   ]
  },
  {
   "cell_type": "code",
   "execution_count": null,
   "id": "3b7c3f63",
   "metadata": {},
   "outputs": [],
   "source": [
    "# Using beautiful soup to scrape the html codes containing usable text (in this case, cuisine)\n",
    "\n",
    "categories= soup.find_all('span', class_ = \"syles__TextElement-sc-3qedjx-0 eYqMAH\")\n",
    "print(categories)\n",
    "\n"
   ]
  },
  {
   "cell_type": "code",
   "execution_count": null,
   "id": "f96f6553",
   "metadata": {},
   "outputs": [],
   "source": [
    "# Storing scraped html codes, then storing just the important text in a list.\n",
    "cuisines = []\n",
    "\n",
    "for i in categories:\n",
    "    cuisine = i.text\n",
    "    cuisines.append(cuisine)\n",
    "    \n",
    "cuisines"
   ]
  },
  {
   "cell_type": "markdown",
   "id": "a11f2d53",
   "metadata": {},
   "source": [
    "# Idea - 2 Scraping valuable restaurant information in a page - doordash interface 1"
   ]
  },
  {
   "cell_type": "code",
   "execution_count": null,
   "id": "13dc0826",
   "metadata": {
    "scrolled": true
   },
   "outputs": [],
   "source": [
    "# Scraping restaurant name\n",
    "\n",
    "soup.find_all('h2', class_ = 'sc-9403d995-9 fsRGbz')"
   ]
  },
  {
   "cell_type": "code",
   "execution_count": null,
   "id": "51a267d6",
   "metadata": {
    "scrolled": true
   },
   "outputs": [],
   "source": [
    "# Scraping information found below restaurant name (location, type of food/cuisine depending on the listing, and price)\n",
    "\n",
    "soup.find_all('p', class_ = 'sc-9403d995-10 kixEwd')"
   ]
  },
  {
   "cell_type": "code",
   "execution_count": null,
   "id": "cb570167",
   "metadata": {},
   "outputs": [],
   "source": [
    "resname = soup.find_all('h2', class_ = 'sc-9403d995-9 fsRGbz')\n",
    "resinformation = soup.find_all('p', class_ = 'sc-9403d995-10 kixEwd')\n",
    "\n",
    "res_name = []\n",
    "res_information = []\n",
    "\n",
    "for i in resname:\n",
    "    name = i.text\n",
    "    res_name.append(name)\n",
    "    \n",
    "\n",
    "for i in resinformation:\n",
    "    info = i.text\n",
    "    res_information.append(info)\n",
    "    \n",
    "print(res_name, res_information)\n"
   ]
  },
  {
   "cell_type": "code",
   "execution_count": null,
   "id": "27a3fbdf",
   "metadata": {},
   "outputs": [],
   "source": [
    "resname = soup.find_all('h2', class_ = 'sc-9403d995-9 fsRGbz')\n",
    "resinformation = soup.find_all('p', class_ = 'sc-9403d995-10 kixEwd')\n",
    "\n",
    "res_name = []\n",
    "res_information = []\n",
    "\n",
    "for i in resname:\n",
    "    name = i.text\n",
    "    res_name.append(name)\n",
    "    \n",
    "\n",
    "for i in resinformation:\n",
    "    info = i.text\n",
    "    res_information.append(info)\n",
    "    \n",
    "print(res_name, res_information)"
   ]
  },
  {
   "cell_type": "code",
   "execution_count": null,
   "id": "cac555a8",
   "metadata": {
    "scrolled": true
   },
   "outputs": [],
   "source": [
    "# Using splinter to move to the next page, it would click the pages at the end of the restaurant listing. Index four/[4] is for clicking page 2, index five /[5] is for clicking page 3. Index three/[3] is for click page 1.\n",
    "\n",
    "browser.find_by_tag(\"button\")[4].click()"
   ]
  },
  {
   "cell_type": "markdown",
   "id": "a39aa53c",
   "metadata": {},
   "source": [
    "# Idea 3 - Scraping data on doordash interface 2"
   ]
  },
  {
   "cell_type": "code",
   "execution_count": null,
   "id": "cc4173da",
   "metadata": {},
   "outputs": [],
   "source": [
    "# Scraping restaurant name if Doordash's interface changes. \n",
    "\n",
    "doordash_soup.find_all('span', class_ = 'styles__TextElement-sc-3qedjq-0 dHZzFl sc-a4170962-20 bejiov')"
   ]
  },
  {
   "cell_type": "code",
   "execution_count": null,
   "id": "932a1a38",
   "metadata": {},
   "outputs": [],
   "source": []
  },
  {
   "cell_type": "code",
   "execution_count": null,
   "id": "fb735f7c",
   "metadata": {},
   "outputs": [],
   "source": []
  },
  {
   "cell_type": "code",
   "execution_count": null,
   "id": "0c41a08a",
   "metadata": {},
   "outputs": [],
   "source": [
    "browser.quit()"
   ]
  },
  {
   "cell_type": "code",
   "execution_count": null,
   "id": "72adc4a2",
   "metadata": {},
   "outputs": [],
   "source": []
  }
 ],
 "metadata": {
  "kernelspec": {
   "display_name": "Python 3 (ipykernel)",
   "language": "python",
   "name": "python3"
  },
  "language_info": {
   "codemirror_mode": {
    "name": "ipython",
    "version": 3
   },
   "file_extension": ".py",
   "mimetype": "text/x-python",
   "name": "python",
   "nbconvert_exporter": "python",
   "pygments_lexer": "ipython3",
   "version": "3.9.13"
  }
 },
 "nbformat": 4,
 "nbformat_minor": 5
}
