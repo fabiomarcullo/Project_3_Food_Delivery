{
 "cells": [
  {
   "cell_type": "code",
   "execution_count": 1,
   "id": "39d82a98",
   "metadata": {},
   "outputs": [],
   "source": [
    "# Import dependencies/libraries\n",
    "\n",
    "from splinter import Browser\n",
    "from bs4 import BeautifulSoup as soup"
   ]
  },
  {
   "cell_type": "code",
   "execution_count": 2,
   "id": "90fdaf9b",
   "metadata": {},
   "outputs": [],
   "source": [
    "# Setting up the browser\n",
    "\n",
    "browser = Browser('chrome')"
   ]
  },
  {
   "cell_type": "code",
   "execution_count": 26,
   "id": "f683952c",
   "metadata": {},
   "outputs": [],
   "source": [
    "# Creating a BeautifulSoup parser to parse HTML code\n",
    "\n",
    "html = browser.html\n",
    "soup = soup(html, 'html.parser')"
   ]
  },
  {
   "cell_type": "code",
   "execution_count": 22,
   "id": "bcd00cad",
   "metadata": {},
   "outputs": [],
   "source": [
    "# Visiting the website\n",
    "\n",
    "url = 'https://www.doordash.com/en-CA/food-delivery/'\n",
    "browser.visit(url)"
   ]
  },
  {
   "cell_type": "code",
   "execution_count": 23,
   "id": "1a288190",
   "metadata": {
    "scrolled": true
   },
   "outputs": [],
   "source": [
    "browser.links.find_by_partial_text('Calgary').click()"
   ]
  },
  {
   "cell_type": "code",
   "execution_count": 24,
   "id": "384cc62a",
   "metadata": {},
   "outputs": [],
   "source": [
    "browser.links.find_by_partial_text('Airdrie').click()"
   ]
  },
  {
   "cell_type": "code",
   "execution_count": 25,
   "id": "1de8765e",
   "metadata": {},
   "outputs": [],
   "source": [
    "browser.find_by_id(\"cuisine-filters-toggle-link\").click()"
   ]
  },
  {
   "cell_type": "code",
   "execution_count": 34,
   "id": "8540c1f6",
   "metadata": {
    "collapsed": true
   },
   "outputs": [
    {
     "name": "stdout",
     "output_type": "stream",
     "text": [
      "[<span class=\"styles__TextElement-sc-3qedjx-0 eYqMAH\" color=\"#191919\" display=\"block\" size=\"14\">All Cuisines</span>, <span class=\"styles__TextElement-sc-3qedjx-0 eYqMAH\" color=\"#191919\" display=\"block\" size=\"14\">Vegan</span>, <span class=\"styles__TextElement-sc-3qedjx-0 eYqMAH\" color=\"#191919\" display=\"block\" size=\"14\">Vegetarian</span>, <span class=\"styles__TextElement-sc-3qedjx-0 eYqMAH\" color=\"#191919\" display=\"block\" size=\"14\">Pizza</span>, <span class=\"styles__TextElement-sc-3qedjx-0 eYqMAH\" color=\"#191919\" display=\"block\" size=\"14\">German</span>, <span class=\"styles__TextElement-sc-3qedjx-0 eYqMAH\" color=\"#191919\" display=\"block\" size=\"14\">American</span>, <span class=\"styles__TextElement-sc-3qedjx-0 eYqMAH\" color=\"#191919\" display=\"block\" size=\"14\">Soup</span>, <span class=\"styles__TextElement-sc-3qedjx-0 eYqMAH\" color=\"#191919\" display=\"block\" size=\"14\">Gluten-Free</span>, <span class=\"styles__TextElement-sc-3qedjx-0 eYqMAH\" color=\"#191919\" display=\"block\" size=\"14\">Noodles</span>, <span class=\"styles__TextElement-sc-3qedjx-0 eYqMAH\" color=\"#191919\" display=\"block\" size=\"14\">Breakfast</span>, <span class=\"styles__TextElement-sc-3qedjx-0 eYqMAH\" color=\"#191919\" display=\"block\" size=\"14\">Salad</span>, <span class=\"styles__TextElement-sc-3qedjx-0 eYqMAH\" color=\"#191919\" display=\"block\" size=\"14\">Sushi</span>, <span class=\"styles__TextElement-sc-3qedjx-0 eYqMAH\" color=\"#191919\" display=\"block\" size=\"14\">Seafood</span>, <span class=\"styles__TextElement-sc-3qedjx-0 eYqMAH\" color=\"#191919\" display=\"block\" size=\"14\">Pharmacy</span>, <span class=\"styles__TextElement-sc-3qedjx-0 eYqMAH\" color=\"#191919\" display=\"block\" size=\"14\">Mexican</span>, <span class=\"styles__TextElement-sc-3qedjx-0 eYqMAH\" color=\"#191919\" display=\"block\" size=\"14\">Pho</span>, <span class=\"styles__TextElement-sc-3qedjx-0 eYqMAH\" color=\"#191919\" display=\"block\" size=\"14\">Caribbean</span>, <span class=\"styles__TextElement-sc-3qedjx-0 eYqMAH\" color=\"#191919\" display=\"block\" size=\"14\">Gastropubs</span>, <span class=\"styles__TextElement-sc-3qedjx-0 eYqMAH\" color=\"#191919\" display=\"block\" size=\"14\">Cafés</span>, <span class=\"styles__TextElement-sc-3qedjx-0 eYqMAH\" color=\"#191919\" display=\"block\" size=\"14\">Pet Stores</span>, <span class=\"styles__TextElement-sc-3qedjx-0 eYqMAH\" color=\"#191919\" display=\"block\" size=\"14\">Convenience-Exclusive</span>, <span class=\"styles__TextElement-sc-3qedjx-0 eYqMAH\" color=\"#191919\" display=\"block\" size=\"14\">European</span>, <span class=\"styles__TextElement-sc-3qedjx-0 eYqMAH\" color=\"#191919\" display=\"block\" size=\"14\">Unaffiliated listing</span>, <span class=\"styles__TextElement-sc-3qedjx-0 eYqMAH\" color=\"#191919\" display=\"block\" size=\"14\">Brazilian</span>, <span class=\"styles__TextElement-sc-3qedjx-0 eYqMAH\" color=\"#191919\" display=\"block\" size=\"14\">Pakistani</span>, <span class=\"styles__TextElement-sc-3qedjx-0 eYqMAH\" color=\"#191919\" display=\"block\" size=\"14\">African Food</span>, <span class=\"styles__TextElement-sc-3qedjx-0 eYqMAH\" color=\"#191919\" display=\"block\" size=\"14\">African</span>, <span class=\"styles__TextElement-sc-3qedjx-0 eYqMAH\" color=\"#191919\" display=\"block\" size=\"14\">Halal</span>, <span class=\"styles__TextElement-sc-3qedjx-0 eYqMAH\" color=\"#191919\" display=\"block\" size=\"14\">Irish</span>, <span class=\"styles__TextElement-sc-3qedjx-0 eYqMAH\" color=\"#191919\" display=\"block\" size=\"14\">Filipino</span>, <span class=\"styles__TextElement-sc-3qedjx-0 eYqMAH\" color=\"#191919\" display=\"block\" size=\"14\">KWB</span>, <span class=\"styles__TextElement-sc-3qedjx-0 eYqMAH\" color=\"#191919\" display=\"block\" size=\"14\">British</span>, <span class=\"styles__TextElement-sc-3qedjx-0 eYqMAH\" color=\"#191919\" display=\"block\" size=\"14\">Catering</span>, <span class=\"styles__TextElement-sc-3qedjx-0 eYqMAH\" color=\"#191919\" display=\"block\" size=\"14\">Ramen</span>, <span class=\"styles__TextElement-sc-3qedjx-0 eYqMAH\" color=\"#191919\" display=\"block\" size=\"14\">Spanish</span>, <span class=\"styles__TextElement-sc-3qedjx-0 eYqMAH\" color=\"#191919\" display=\"block\" size=\"14\">Korean</span>, <span class=\"styles__TextElement-sc-3qedjx-0 eYqMAH\" color=\"#191919\" display=\"block\" size=\"14\">Barbecue</span>, <span class=\"styles__TextElement-sc-3qedjx-0 eYqMAH\" color=\"#191919\" display=\"block\" size=\"14\">Steak</span>, <span class=\"styles__TextElement-sc-3qedjx-0 eYqMAH\" color=\"#191919\" display=\"block\" size=\"14\">Delis</span>, <span class=\"styles__TextElement-sc-3qedjx-0 eYqMAH\" color=\"#191919\" display=\"block\" size=\"14\">Fast Food</span>, <span class=\"styles__TextElement-sc-3qedjx-0 eYqMAH\" color=\"#191919\" display=\"block\" size=\"14\">Other</span>, <span class=\"styles__TextElement-sc-3qedjx-0 eYqMAH\" color=\"#191919\" display=\"block\" size=\"14\">Grocery</span>, <span class=\"styles__TextElement-sc-3qedjx-0 eYqMAH\" color=\"#191919\" display=\"block\" size=\"14\">Peruvian</span>, <span class=\"styles__TextElement-sc-3qedjx-0 eYqMAH\" color=\"#191919\" display=\"block\" size=\"14\">Food &amp; Drink</span>, <span class=\"styles__TextElement-sc-3qedjx-0 eYqMAH\" color=\"#191919\" display=\"block\" size=\"14\">Coffee</span>, <span class=\"styles__TextElement-sc-3qedjx-0 eYqMAH\" color=\"#191919\" display=\"block\" size=\"14\">Chinese</span>, <span class=\"styles__TextElement-sc-3qedjx-0 eYqMAH\" color=\"#191919\" display=\"block\" size=\"14\">Poke</span>, <span class=\"styles__TextElement-sc-3qedjx-0 eYqMAH\" color=\"#191919\" display=\"block\" size=\"14\">Coffee &amp; Tea</span>, <span class=\"styles__TextElement-sc-3qedjx-0 eYqMAH\" color=\"#191919\" display=\"block\" size=\"14\">Healthy</span>, <span class=\"styles__TextElement-sc-3qedjx-0 eYqMAH\" color=\"#191919\" display=\"block\" size=\"14\">Vietnamese</span>, <span class=\"styles__TextElement-sc-3qedjx-0 eYqMAH\" color=\"#191919\" display=\"block\" size=\"14\">Ethiopian</span>, <span class=\"styles__TextElement-sc-3qedjx-0 eYqMAH\" color=\"#191919\" display=\"block\" size=\"14\">Greek</span>, <span class=\"styles__TextElement-sc-3qedjx-0 eYqMAH\" color=\"#191919\" display=\"block\" size=\"14\">Black Owned, Black-Owned</span>, <span class=\"styles__TextElement-sc-3qedjx-0 eYqMAH\" color=\"#191919\" display=\"block\" size=\"14\">lunch</span>, <span class=\"styles__TextElement-sc-3qedjx-0 eYqMAH\" color=\"#191919\" display=\"block\" size=\"14\">Pickup</span>, <span class=\"styles__TextElement-sc-3qedjx-0 eYqMAH\" color=\"#191919\" display=\"block\" size=\"14\">Latin American</span>, <span class=\"styles__TextElement-sc-3qedjx-0 eYqMAH\" color=\"#191919\" display=\"block\" size=\"14\">Burgers</span>, <span class=\"styles__TextElement-sc-3qedjx-0 eYqMAH\" color=\"#191919\" display=\"block\" size=\"14\">Sandwiches</span>, <span class=\"styles__TextElement-sc-3qedjx-0 eYqMAH\" color=\"#191919\" display=\"block\" size=\"14\">Indian</span>, <span class=\"styles__TextElement-sc-3qedjx-0 eYqMAH\" color=\"#191919\" display=\"block\" size=\"14\">Bakery</span>, <span class=\"styles__TextElement-sc-3qedjx-0 eYqMAH\" color=\"#191919\" display=\"block\" size=\"14\">Chinese Food</span>, <span class=\"styles__TextElement-sc-3qedjx-0 eYqMAH\" color=\"#191919\" display=\"block\" size=\"14\">Poutineries</span>, <span class=\"styles__TextElement-sc-3qedjx-0 eYqMAH\" color=\"#191919\" display=\"block\" size=\"14\">Mediterranean</span>, <span class=\"styles__TextElement-sc-3qedjx-0 eYqMAH\" color=\"#191919\" display=\"block\" size=\"14\">Bubble Tea</span>, <span class=\"styles__TextElement-sc-3qedjx-0 eYqMAH\" color=\"#191919\" display=\"block\" size=\"14\">Thai</span>, <span class=\"styles__TextElement-sc-3qedjx-0 eYqMAH\" color=\"#191919\" display=\"block\" size=\"14\">Smoothie</span>, <span class=\"styles__TextElement-sc-3qedjx-0 eYqMAH\" color=\"#191919\" display=\"block\" size=\"14\">Drinks</span>, <span class=\"styles__TextElement-sc-3qedjx-0 eYqMAH\" color=\"#191919\" display=\"block\" size=\"14\">Alcohol</span>, <span class=\"styles__TextElement-sc-3qedjx-0 eYqMAH\" color=\"#191919\" display=\"block\" size=\"14\">Tapas</span>, <span class=\"styles__TextElement-sc-3qedjx-0 eYqMAH\" color=\"#191919\" display=\"block\" size=\"14\">Desserts</span>, <span class=\"styles__TextElement-sc-3qedjx-0 eYqMAH\" color=\"#191919\" display=\"block\" size=\"14\">Middle Eastern</span>, <span class=\"styles__TextElement-sc-3qedjx-0 eYqMAH\" color=\"#191919\" display=\"block\" size=\"14\">Chicken</span>, <span class=\"styles__TextElement-sc-3qedjx-0 eYqMAH\" color=\"#191919\" display=\"block\" size=\"14\">Japanese</span>, <span class=\"styles__TextElement-sc-3qedjx-0 eYqMAH\" color=\"#191919\" display=\"block\" size=\"14\">Asian</span>, <span class=\"styles__TextElement-sc-3qedjx-0 eYqMAH\" color=\"#191919\" display=\"block\" size=\"14\">French</span>, <span class=\"styles__TextElement-sc-3qedjx-0 eYqMAH\" color=\"#191919\" display=\"block\" size=\"14\">Takeout</span>, <span class=\"styles__TextElement-sc-3qedjx-0 eYqMAH\" color=\"#191919\" display=\"block\" size=\"14\">Convenience</span>, <span class=\"styles__TextElement-sc-3qedjx-0 eYqMAH\" color=\"#191919\" display=\"block\" size=\"14\">Comfort Food</span>, <span class=\"styles__TextElement-sc-3qedjx-0 eYqMAH\" color=\"#191919\" display=\"block\" size=\"14\">Italian</span>]\n"
     ]
    }
   ],
   "source": [
    "categories= soup.find_all(\"span\", class_ = \"styles__TextElement-sc-3qedjx-0 eYqMAH\")\n",
    "print(categories)"
   ]
  },
  {
   "cell_type": "code",
   "execution_count": 39,
   "id": "c9fdbe03",
   "metadata": {
    "scrolled": true
   },
   "outputs": [
    {
     "data": {
      "text/plain": [
       "['All Cuisines',\n",
       " 'Vegan',\n",
       " 'Vegetarian',\n",
       " 'Pizza',\n",
       " 'German',\n",
       " 'American',\n",
       " 'Soup',\n",
       " 'Gluten-Free',\n",
       " 'Noodles',\n",
       " 'Breakfast',\n",
       " 'Salad',\n",
       " 'Sushi',\n",
       " 'Seafood',\n",
       " 'Pharmacy',\n",
       " 'Mexican',\n",
       " 'Pho',\n",
       " 'Caribbean',\n",
       " 'Gastropubs',\n",
       " 'Cafés',\n",
       " 'Pet Stores',\n",
       " 'Convenience-Exclusive',\n",
       " 'European',\n",
       " 'Unaffiliated listing',\n",
       " 'Brazilian',\n",
       " 'Pakistani',\n",
       " 'African Food',\n",
       " 'African',\n",
       " 'Halal',\n",
       " 'Irish',\n",
       " 'Filipino',\n",
       " 'KWB',\n",
       " 'British',\n",
       " 'Catering',\n",
       " 'Ramen',\n",
       " 'Spanish',\n",
       " 'Korean',\n",
       " 'Barbecue',\n",
       " 'Steak',\n",
       " 'Delis',\n",
       " 'Fast Food',\n",
       " 'Other',\n",
       " 'Grocery',\n",
       " 'Peruvian',\n",
       " 'Food & Drink',\n",
       " 'Coffee',\n",
       " 'Chinese',\n",
       " 'Poke',\n",
       " 'Coffee & Tea',\n",
       " 'Healthy',\n",
       " 'Vietnamese',\n",
       " 'Ethiopian',\n",
       " 'Greek',\n",
       " 'Black Owned, Black-Owned',\n",
       " 'lunch',\n",
       " 'Pickup',\n",
       " 'Latin American',\n",
       " 'Burgers',\n",
       " 'Sandwiches',\n",
       " 'Indian',\n",
       " 'Bakery',\n",
       " 'Chinese Food',\n",
       " 'Poutineries',\n",
       " 'Mediterranean',\n",
       " 'Bubble Tea',\n",
       " 'Thai',\n",
       " 'Smoothie',\n",
       " 'Drinks',\n",
       " 'Alcohol',\n",
       " 'Tapas',\n",
       " 'Desserts',\n",
       " 'Middle Eastern',\n",
       " 'Chicken',\n",
       " 'Japanese',\n",
       " 'Asian',\n",
       " 'French',\n",
       " 'Takeout',\n",
       " 'Convenience',\n",
       " 'Comfort Food',\n",
       " 'Italian']"
      ]
     },
     "execution_count": 39,
     "metadata": {},
     "output_type": "execute_result"
    }
   ],
   "source": [
    "cuisines = []\n",
    "\n",
    "for i in categories:\n",
    "    cuisine = i.text\n",
    "    cuisines.append(cuisine)\n",
    "    \n",
    "cuisines"
   ]
  },
  {
   "cell_type": "code",
   "execution_count": null,
   "id": "b2a670e0",
   "metadata": {},
   "outputs": [],
   "source": []
  },
  {
   "cell_type": "code",
   "execution_count": null,
   "id": "51278046",
   "metadata": {},
   "outputs": [],
   "source": []
  },
  {
   "cell_type": "code",
   "execution_count": null,
   "id": "0c41a08a",
   "metadata": {},
   "outputs": [],
   "source": [
    "browser.quit()"
   ]
  },
  {
   "cell_type": "code",
   "execution_count": null,
   "id": "b105ef1a",
   "metadata": {},
   "outputs": [],
   "source": [
    "#cuisine-filters-container > a:nth-child(2) > span"
   ]
  }
 ],
 "metadata": {
  "kernelspec": {
   "display_name": "Python 3 (ipykernel)",
   "language": "python",
   "name": "python3"
  },
  "language_info": {
   "codemirror_mode": {
    "name": "ipython",
    "version": 3
   },
   "file_extension": ".py",
   "mimetype": "text/x-python",
   "name": "python",
   "nbconvert_exporter": "python",
   "pygments_lexer": "ipython3",
   "version": "3.9.13"
  }
 },
 "nbformat": 4,
 "nbformat_minor": 5
}
