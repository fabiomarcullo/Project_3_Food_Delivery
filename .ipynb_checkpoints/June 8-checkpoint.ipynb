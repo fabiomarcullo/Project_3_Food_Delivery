{
 "cells": [
  {
   "cell_type": "code",
   "execution_count": 1,
   "id": "39d82a98",
   "metadata": {},
   "outputs": [],
   "source": [
    "# Import dependencies/libraries\n",
    "\n",
    "from splinter import Browser\n",
    "from bs4 import BeautifulSoup as soup"
   ]
  },
  {
   "cell_type": "code",
   "execution_count": 2,
   "id": "90fdaf9b",
   "metadata": {},
   "outputs": [],
   "source": [
    "# Setting up the browser\n",
    "\n",
    "browser = Browser('chrome')"
   ]
  },
  {
   "cell_type": "code",
   "execution_count": 9,
   "id": "f683952c",
   "metadata": {},
   "outputs": [],
   "source": [
    "# Creating a BeautifulSoup parser to parse HTML code\n",
    "\n",
    "html = browser.html\n",
    "soup = soup(html, 'html.parser')"
   ]
  },
  {
   "cell_type": "code",
   "execution_count": 4,
   "id": "bcd00cad",
   "metadata": {},
   "outputs": [],
   "source": [
    "# Visiting the website\n",
    "\n",
    "url = 'https://www.doordash.com/en-CA/food-delivery/'\n",
    "browser.visit(url)"
   ]
  },
  {
   "cell_type": "code",
   "execution_count": 5,
   "id": "1a288190",
   "metadata": {
    "scrolled": true
   },
   "outputs": [],
   "source": [
    "# Getting splinter to click a general location\n",
    "\n",
    "browser.links.find_by_partial_text('Calgary').click()"
   ]
  },
  {
   "cell_type": "code",
   "execution_count": 6,
   "id": "384cc62a",
   "metadata": {},
   "outputs": [],
   "source": [
    "# Getting splinter to click a specific location\n",
    "\n",
    "browser.links.find_by_partial_text('Airdrie').click()"
   ]
  },
  {
   "cell_type": "markdown",
   "id": "f7b1aa9e",
   "metadata": {},
   "source": [
    "# Idea 1 - Category/Cuisine type scraping - doordash interface 1"
   ]
  },
  {
   "cell_type": "code",
   "execution_count": null,
   "id": "6154b198",
   "metadata": {},
   "outputs": [],
   "source": [
    "# Getting splinter to click/expand the cuisine category\n",
    "\n",
    "browser.find_by_id(\"cuisine-filters-toggle-link\").click()"
   ]
  },
  {
   "cell_type": "code",
   "execution_count": null,
   "id": "3b7c3f63",
   "metadata": {},
   "outputs": [],
   "source": [
    "# Using beautiful soup to scrape the html codes containing usable text (in this case, cuisine)\n",
    "\n",
    "categories= soup.find_all('span', class_ = \"syles__TextElement-sc-3qedjx-0 eYqMAH\")\n",
    "print(categories)\n",
    "\n"
   ]
  },
  {
   "cell_type": "code",
   "execution_count": null,
   "id": "f96f6553",
   "metadata": {},
   "outputs": [],
   "source": [
    "# Storing scraped html codes, then storing just the important text in a list.\n",
    "cuisines = []\n",
    "\n",
    "for i in categories:\n",
    "    cuisine = i.text\n",
    "    cuisines.append(cuisine)\n",
    "    \n",
    "cuisines"
   ]
  },
  {
   "cell_type": "markdown",
   "id": "a11f2d53",
   "metadata": {},
   "source": [
    "# Idea - 2 Scraping valuable restaurant information in a page - doordash interface 1"
   ]
  },
  {
   "cell_type": "code",
   "execution_count": 10,
   "id": "13dc0826",
   "metadata": {
    "scrolled": true
   },
   "outputs": [
    {
     "data": {
      "text/plain": [
       "[<h2 class=\"sc-9403d995-9 fsRGbz\">Jollibee</h2>,\n",
       " <h2 class=\"sc-9403d995-9 fsRGbz\">Real Canadian Superstore</h2>,\n",
       " <h2 class=\"sc-9403d995-9 fsRGbz\">Main Street Beer &amp; BBQ</h2>,\n",
       " <h2 class=\"sc-9403d995-9 fsRGbz\">Shawarma Palace</h2>,\n",
       " <h2 class=\"sc-9403d995-9 fsRGbz\">Wendy's</h2>,\n",
       " <h2 class=\"sc-9403d995-9 fsRGbz\">McDonald's</h2>,\n",
       " <h2 class=\"sc-9403d995-9 fsRGbz\">The Vapiano Cucina</h2>,\n",
       " <h2 class=\"sc-9403d995-9 fsRGbz\">Rice for King</h2>,\n",
       " <h2 class=\"sc-9403d995-9 fsRGbz\">Pita Basket</h2>,\n",
       " <h2 class=\"sc-9403d995-9 fsRGbz\">Burger King</h2>,\n",
       " <h2 class=\"sc-9403d995-9 fsRGbz\">Edo Japan</h2>,\n",
       " <h2 class=\"sc-9403d995-9 fsRGbz\">Harvey's</h2>,\n",
       " <h2 class=\"sc-9403d995-9 fsRGbz\">Bubble Tea Brewers</h2>,\n",
       " <h2 class=\"sc-9403d995-9 fsRGbz\">Jens Vietnamese Noodle House</h2>,\n",
       " <h2 class=\"sc-9403d995-9 fsRGbz\">Little Caesars Pizza</h2>,\n",
       " <h2 class=\"sc-9403d995-9 fsRGbz\">Noodlebox</h2>,\n",
       " <h2 class=\"sc-9403d995-9 fsRGbz\">Tony’s Vietnamese Noodle Restaurant</h2>,\n",
       " <h2 class=\"sc-9403d995-9 fsRGbz\">YUM YUM CHICKEN &amp; BBQ AIRDRIE</h2>,\n",
       " <h2 class=\"sc-9403d995-9 fsRGbz\">Airdrie Wok</h2>,\n",
       " <h2 class=\"sc-9403d995-9 fsRGbz\">Noodle King</h2>,\n",
       " <h2 class=\"sc-9403d995-9 fsRGbz\">Fatburger</h2>,\n",
       " <h2 class=\"sc-9403d995-9 fsRGbz\">Gate of India</h2>,\n",
       " <h2 class=\"sc-9403d995-9 fsRGbz\">Paros on Main</h2>,\n",
       " <h2 class=\"sc-9403d995-9 fsRGbz\">7-Eleven</h2>,\n",
       " <h2 class=\"sc-9403d995-9 fsRGbz\">What's Pop'n Pop Shop</h2>,\n",
       " <h2 class=\"sc-9403d995-9 fsRGbz\">Papa Johns</h2>,\n",
       " <h2 class=\"sc-9403d995-9 fsRGbz\">Gong cha Airdrie</h2>,\n",
       " <h2 class=\"sc-9403d995-9 fsRGbz\">Nojomi Japanese &amp; Korean Cuisine</h2>,\n",
       " <h2 class=\"sc-9403d995-9 fsRGbz\">Pizza Cottage</h2>,\n",
       " <h2 class=\"sc-9403d995-9 fsRGbz\">Denny's</h2>,\n",
       " <h2 class=\"sc-9403d995-9 fsRGbz\">The Pizza Shop Airdrie</h2>,\n",
       " <h2 class=\"sc-9403d995-9 fsRGbz\">Quesada Burritos &amp; Tacos</h2>,\n",
       " <h2 class=\"sc-9403d995-9 fsRGbz\">Original Joe's</h2>,\n",
       " <h2 class=\"sc-9403d995-9 fsRGbz\">Calgary Pizza Unlimited Inc</h2>,\n",
       " <h2 class=\"sc-9403d995-9 fsRGbz\">Tuk Tuk Thai</h2>,\n",
       " <h2 class=\"sc-9403d995-9 fsRGbz\">Tahini's</h2>,\n",
       " <h2 class=\"sc-9403d995-9 fsRGbz\">Mary Brown's Chicken</h2>,\n",
       " <h2 class=\"sc-9403d995-9 fsRGbz\">Pizza Hut</h2>,\n",
       " <h2 class=\"sc-9403d995-9 fsRGbz\">Starbucks</h2>,\n",
       " <h2 class=\"sc-9403d995-9 fsRGbz\">Montana's BBQ &amp; Bar</h2>,\n",
       " <h2 class=\"sc-9403d995-9 fsRGbz\">Gong cha</h2>,\n",
       " <h2 class=\"sc-9403d995-9 fsRGbz\">Abe's Diner</h2>,\n",
       " <h2 class=\"sc-9403d995-9 fsRGbz\">Oodle Noodle</h2>,\n",
       " <h2 class=\"sc-9403d995-9 fsRGbz\">Chatime Airdrie</h2>,\n",
       " <h2 class=\"sc-9403d995-9 fsRGbz\">Boardwalk Fries | Burgers | Shakes</h2>,\n",
       " <h2 class=\"sc-9403d995-9 fsRGbz\">Zaika the Indian Delicacy</h2>,\n",
       " <h2 class=\"sc-9403d995-9 fsRGbz\">Shoppers Drug Mart</h2>,\n",
       " <h2 class=\"sc-9403d995-9 fsRGbz\">Cora</h2>,\n",
       " <h2 class=\"sc-9403d995-9 fsRGbz\">Hula Poke</h2>,\n",
       " <h2 class=\"sc-9403d995-9 fsRGbz\">Good Earth Coffeehouse</h2>]"
      ]
     },
     "execution_count": 10,
     "metadata": {},
     "output_type": "execute_result"
    }
   ],
   "source": [
    "# Scraping restaurant name\n",
    "\n",
    "soup.find_all('h2', class_ = 'sc-9403d995-9 fsRGbz')"
   ]
  },
  {
   "cell_type": "code",
   "execution_count": 11,
   "id": "51a267d6",
   "metadata": {
    "scrolled": true
   },
   "outputs": [
    {
     "data": {
      "text/plain": [
       "[<p class=\"sc-9403d995-10 kixEwd\">Airdrie • Fried Chicken • $$</p>,\n",
       " <p class=\"sc-9403d995-10 kixEwd\">Airdrie • Grocery • $$</p>,\n",
       " <p class=\"sc-9403d995-10 kixEwd\">Airdrie • Barbecue • $$</p>,\n",
       " <p class=\"sc-9403d995-10 kixEwd\">Airdrie • Shawarma • $$</p>,\n",
       " <p class=\"sc-9403d995-10 kixEwd\">Airdrie • Burgers • $$</p>,\n",
       " <p class=\"sc-9403d995-10 kixEwd\">Airdrie • Burgers • $$</p>,\n",
       " <p class=\"sc-9403d995-10 kixEwd\">Airdrie • Italian • $$</p>,\n",
       " <p class=\"sc-9403d995-10 kixEwd\">Airdrie • Vietnamese • $$</p>,\n",
       " <p class=\"sc-9403d995-10 kixEwd\">Airdrie • Sandwiches • $</p>,\n",
       " <p class=\"sc-9403d995-10 kixEwd\">Airdrie • Burgers • $</p>,\n",
       " <p class=\"sc-9403d995-10 kixEwd\">Airdrie • $$</p>,\n",
       " <p class=\"sc-9403d995-10 kixEwd\">Airdrie • Burgers • $$</p>,\n",
       " <p class=\"sc-9403d995-10 kixEwd\">Airdrie • Milk Tea • $$</p>,\n",
       " <p class=\"sc-9403d995-10 kixEwd\">Airdrie • Vietnamese • $$</p>,\n",
       " <p class=\"sc-9403d995-10 kixEwd\">Airdrie • Pizza • $$</p>,\n",
       " <p class=\"sc-9403d995-10 kixEwd\">Airdrie • Noodles • $$</p>,\n",
       " <p class=\"sc-9403d995-10 kixEwd\">Airdrie • Vietnamese • $$</p>,\n",
       " <p class=\"sc-9403d995-10 kixEwd\">Airdrie • Korean • $$</p>,\n",
       " <p class=\"sc-9403d995-10 kixEwd\">Airdrie • Takeout • $$</p>,\n",
       " <p class=\"sc-9403d995-10 kixEwd\">Airdrie • Fried Rice • $$</p>,\n",
       " <p class=\"sc-9403d995-10 kixEwd\">Airdrie • Burgers • $$</p>,\n",
       " <p class=\"sc-9403d995-10 kixEwd\">Airdrie • Indian • $$</p>,\n",
       " <p class=\"sc-9403d995-10 kixEwd\">Airdrie • Greek • $$</p>,\n",
       " <p class=\"sc-9403d995-10 kixEwd\">Airdrie • Convenience • $$</p>,\n",
       " <p class=\"sc-9403d995-10 kixEwd\">Airdrie • Floats • $$</p>,\n",
       " <p class=\"sc-9403d995-10 kixEwd\">Airdrie • Pizza • $$</p>,\n",
       " <p class=\"sc-9403d995-10 kixEwd\">Airdrie • Milk Tea • $$</p>,\n",
       " <p class=\"sc-9403d995-10 kixEwd\">Airdrie • Gyoza • $$</p>,\n",
       " <p class=\"sc-9403d995-10 kixEwd\">Airdrie • Pizza • $$</p>,\n",
       " <p class=\"sc-9403d995-10 kixEwd\">Airdrie • Breakfast • $</p>,\n",
       " <p class=\"sc-9403d995-10 kixEwd\">Airdrie • American • $$</p>,\n",
       " <p class=\"sc-9403d995-10 kixEwd\">Airdrie • Mexican • $$</p>,\n",
       " <p class=\"sc-9403d995-10 kixEwd\">Airdrie • Burgers • $$</p>,\n",
       " <p class=\"sc-9403d995-10 kixEwd\">Airdrie • Italian • $$</p>,\n",
       " <p class=\"sc-9403d995-10 kixEwd\">Airdrie • Pad Thai • $$</p>,\n",
       " <p class=\"sc-9403d995-10 kixEwd\">Airdrie • Mediterranean • $$</p>,\n",
       " <p class=\"sc-9403d995-10 kixEwd\">Airdrie • Fried Chicken • $$</p>,\n",
       " <p class=\"sc-9403d995-10 kixEwd\">Airdrie • Pizza • $$</p>,\n",
       " <p class=\"sc-9403d995-10 kixEwd\">Airdrie • Coffee • $$</p>,\n",
       " <p class=\"sc-9403d995-10 kixEwd\">Airdrie • Ribs • $$</p>,\n",
       " <p class=\"sc-9403d995-10 kixEwd\">Airdrie • Milk Tea • $$</p>,\n",
       " <p class=\"sc-9403d995-10 kixEwd\">Airdrie • Sandwiches • $</p>,\n",
       " <p class=\"sc-9403d995-10 kixEwd\">Airdrie • Noodles • $$</p>,\n",
       " <p class=\"sc-9403d995-10 kixEwd\">Airdrie • Bubble Tea • $$</p>,\n",
       " <p class=\"sc-9403d995-10 kixEwd\">Airdrie • Burgers • $$</p>,\n",
       " <p class=\"sc-9403d995-10 kixEwd\">Airdrie • Indian • $$</p>,\n",
       " <p class=\"sc-9403d995-10 kixEwd\">Airdrie • Pharmacy • $$</p>,\n",
       " <p class=\"sc-9403d995-10 kixEwd\">Airdrie • Breakfast • $$</p>,\n",
       " <p class=\"sc-9403d995-10 kixEwd\">Airdrie • Poke • $$</p>,\n",
       " <p class=\"sc-9403d995-10 kixEwd\">Airdrie • Breakfast • $$</p>]"
      ]
     },
     "execution_count": 11,
     "metadata": {},
     "output_type": "execute_result"
    }
   ],
   "source": [
    "# Scraping information found below restaurant name (location, type of food/cuisine depending on the listing, and price)\n",
    "\n",
    "soup.find_all('p', class_ = 'sc-9403d995-10 kixEwd')"
   ]
  },
  {
   "cell_type": "code",
   "execution_count": null,
   "id": "cac555a8",
   "metadata": {
    "scrolled": true
   },
   "outputs": [],
   "source": [
    "# Using splinter to move to the next page, it would click the pages at the end of the restaurant listing. Index four/[4] is for clicking page 2, index five /[5] is for clicking page 3. Index three/[3] is for click page 1.\n",
    "\n",
    "browser.find_by_tag(\"button\")[5].click()"
   ]
  },
  {
   "cell_type": "markdown",
   "id": "13806943",
   "metadata": {},
   "source": [
    "# Idea 3 - Scraping data on doordash interface 2"
   ]
  },
  {
   "cell_type": "code",
   "execution_count": null,
   "id": "324089d3",
   "metadata": {},
   "outputs": [],
   "source": [
    "# Scraping restaurant name if Doordash's interface changes. \n",
    "\n",
    "doordash_soup.find_all('span', class_ = 'styles__TextElement-sc-3qedjq-0 dHZzFl sc-a4170962-20 bejiov')"
   ]
  },
  {
   "cell_type": "code",
   "execution_count": null,
   "id": "be41b7e2",
   "metadata": {},
   "outputs": [],
   "source": []
  },
  {
   "cell_type": "code",
   "execution_count": null,
   "id": "1e9e35b9",
   "metadata": {},
   "outputs": [],
   "source": []
  },
  {
   "cell_type": "code",
   "execution_count": null,
   "id": "0c41a08a",
   "metadata": {},
   "outputs": [],
   "source": [
    "browser.quit()"
   ]
  },
  {
   "cell_type": "code",
   "execution_count": null,
   "id": "9325e9de",
   "metadata": {},
   "outputs": [],
   "source": []
  }
 ],
 "metadata": {
  "kernelspec": {
   "display_name": "Python 3 (ipykernel)",
   "language": "python",
   "name": "python3"
  },
  "language_info": {
   "codemirror_mode": {
    "name": "ipython",
    "version": 3
   },
   "file_extension": ".py",
   "mimetype": "text/x-python",
   "name": "python",
   "nbconvert_exporter": "python",
   "pygments_lexer": "ipython3",
   "version": "3.9.13"
  }
 },
 "nbformat": 4,
 "nbformat_minor": 5
}
