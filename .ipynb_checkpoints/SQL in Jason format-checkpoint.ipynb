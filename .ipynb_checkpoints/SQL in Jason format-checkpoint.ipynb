{
 "cells": [
  {
   "cell_type": "code",
   "execution_count": 11,
   "id": "1d83d829",
   "metadata": {},
   "outputs": [],
   "source": [
    "import psycopg2\n",
    "import json"
   ]
  },
  {
   "cell_type": "code",
   "execution_count": 12,
   "id": "dddc1a21",
   "metadata": {},
   "outputs": [],
   "source": [
    "# Set up the connection parameters\n",
    "host = 'hansken.db.elephantsql.com'\n",
    "port = 5432\n",
    "database = 'project3'\n",
    "user = 'knskdyld'\n",
    "password = 'vYOeIhzroWPdFFrDlgHAhOUAQyJ7hCfh'"
   ]
  },
  {
   "cell_type": "code",
   "execution_count": 13,
   "id": "4f338139",
   "metadata": {},
   "outputs": [
    {
     "ename": "OperationalError",
     "evalue": "connection to server at \"hansken.db.elephantsql.com\" (13.67.139.47), port 5432 failed: FATAL:  no pg_hba.conf entry for host \"76.64.66.207\", user \"knskdyld\", database \"project3\", SSL on\nconnection to server at \"hansken.db.elephantsql.com\" (13.67.139.47), port 5432 failed: FATAL:  no pg_hba.conf entry for host \"76.64.66.207\", user \"knskdyld\", database \"project3\", SSL off\n",
     "output_type": "error",
     "traceback": [
      "\u001b[1;31m---------------------------------------------------------------------------\u001b[0m",
      "\u001b[1;31mOperationalError\u001b[0m                          Traceback (most recent call last)",
      "Cell \u001b[1;32mIn[13], line 2\u001b[0m\n\u001b[0;32m      1\u001b[0m \u001b[38;5;66;03m# Establish a connection to ElephantSQL using your API key\u001b[39;00m\n\u001b[1;32m----> 2\u001b[0m conn \u001b[38;5;241m=\u001b[39m \u001b[43mpsycopg2\u001b[49m\u001b[38;5;241;43m.\u001b[39;49m\u001b[43mconnect\u001b[49m\u001b[43m(\u001b[49m\u001b[43mhost\u001b[49m\u001b[38;5;241;43m=\u001b[39;49m\u001b[43mhost\u001b[49m\u001b[43m,\u001b[49m\u001b[43m \u001b[49m\u001b[43mport\u001b[49m\u001b[38;5;241;43m=\u001b[39;49m\u001b[43mport\u001b[49m\u001b[43m,\u001b[49m\u001b[43m \u001b[49m\u001b[43mdatabase\u001b[49m\u001b[38;5;241;43m=\u001b[39;49m\u001b[43mdatabase\u001b[49m\u001b[43m,\u001b[49m\u001b[43m \u001b[49m\u001b[43muser\u001b[49m\u001b[38;5;241;43m=\u001b[39;49m\u001b[43muser\u001b[49m\u001b[43m,\u001b[49m\u001b[43m \u001b[49m\u001b[43mpassword\u001b[49m\u001b[38;5;241;43m=\u001b[39;49m\u001b[43mpassword\u001b[49m\u001b[43m)\u001b[49m\n",
      "File \u001b[1;32m~\\anaconda\\lib\\site-packages\\psycopg2\\__init__.py:122\u001b[0m, in \u001b[0;36mconnect\u001b[1;34m(dsn, connection_factory, cursor_factory, **kwargs)\u001b[0m\n\u001b[0;32m    119\u001b[0m     kwasync[\u001b[38;5;124m'\u001b[39m\u001b[38;5;124masync_\u001b[39m\u001b[38;5;124m'\u001b[39m] \u001b[38;5;241m=\u001b[39m kwargs\u001b[38;5;241m.\u001b[39mpop(\u001b[38;5;124m'\u001b[39m\u001b[38;5;124masync_\u001b[39m\u001b[38;5;124m'\u001b[39m)\n\u001b[0;32m    121\u001b[0m dsn \u001b[38;5;241m=\u001b[39m _ext\u001b[38;5;241m.\u001b[39mmake_dsn(dsn, \u001b[38;5;241m*\u001b[39m\u001b[38;5;241m*\u001b[39mkwargs)\n\u001b[1;32m--> 122\u001b[0m conn \u001b[38;5;241m=\u001b[39m _connect(dsn, connection_factory\u001b[38;5;241m=\u001b[39mconnection_factory, \u001b[38;5;241m*\u001b[39m\u001b[38;5;241m*\u001b[39mkwasync)\n\u001b[0;32m    123\u001b[0m \u001b[38;5;28;01mif\u001b[39;00m cursor_factory \u001b[38;5;129;01mis\u001b[39;00m \u001b[38;5;129;01mnot\u001b[39;00m \u001b[38;5;28;01mNone\u001b[39;00m:\n\u001b[0;32m    124\u001b[0m     conn\u001b[38;5;241m.\u001b[39mcursor_factory \u001b[38;5;241m=\u001b[39m cursor_factory\n",
      "\u001b[1;31mOperationalError\u001b[0m: connection to server at \"hansken.db.elephantsql.com\" (13.67.139.47), port 5432 failed: FATAL:  no pg_hba.conf entry for host \"76.64.66.207\", user \"knskdyld\", database \"project3\", SSL on\nconnection to server at \"hansken.db.elephantsql.com\" (13.67.139.47), port 5432 failed: FATAL:  no pg_hba.conf entry for host \"76.64.66.207\", user \"knskdyld\", database \"project3\", SSL off\n"
     ]
    }
   ],
   "source": [
    "# Establish a connection to ElephantSQL using your API key\n",
    "conn = psycopg2.connect(host=host, port=port, database=database, user=user, password=password)"
   ]
  },
  {
   "cell_type": "code",
   "execution_count": null,
   "id": "c9ca34e9",
   "metadata": {},
   "outputs": [],
   "source": [
    "# Create a cursor object to interact with the database\n",
    "cur = conn.cursor()"
   ]
  },
  {
   "cell_type": "code",
   "execution_count": null,
   "id": "eb55af30",
   "metadata": {},
   "outputs": [],
   "source": [
    "# Execute a SQL query\n",
    "cur.execute(\"SELECT * FROM your_table\")"
   ]
  },
  {
   "cell_type": "code",
   "execution_count": null,
   "id": "d82d3d25",
   "metadata": {},
   "outputs": [],
   "source": [
    "# Fetch the query results\n",
    "results = cur.fetchall()"
   ]
  },
  {
   "cell_type": "code",
   "execution_count": null,
   "id": "9597059d",
   "metadata": {},
   "outputs": [],
   "source": [
    "# Convert the results to a list of dictionaries\n",
    "columns = [desc[0] for desc in cur.description]\n",
    "json_results = [dict(zip(columns, row)) for row in results]"
   ]
  },
  {
   "cell_type": "code",
   "execution_count": null,
   "id": "a6e0fbfc",
   "metadata": {},
   "outputs": [],
   "source": [
    "# Convert the results to JSON format\n",
    "json_string = json.dumps(json_results)"
   ]
  },
  {
   "cell_type": "code",
   "execution_count": null,
   "id": "7f17ccf8",
   "metadata": {},
   "outputs": [],
   "source": [
    "# Close the cursor and connection\n",
    "cur.close()\n",
    "conn.close()"
   ]
  },
  {
   "cell_type": "code",
   "execution_count": null,
   "id": "5c26a49d",
   "metadata": {},
   "outputs": [],
   "source": [
    "# Print or return the JSON response\n",
    "print(json_string)"
   ]
  }
 ],
 "metadata": {
  "kernelspec": {
   "display_name": "Python 3 (ipykernel)",
   "language": "python",
   "name": "python3"
  },
  "language_info": {
   "codemirror_mode": {
    "name": "ipython",
    "version": 3
   },
   "file_extension": ".py",
   "mimetype": "text/x-python",
   "name": "python",
   "nbconvert_exporter": "python",
   "pygments_lexer": "ipython3",
   "version": "3.9.13"
  }
 },
 "nbformat": 4,
 "nbformat_minor": 5
}
