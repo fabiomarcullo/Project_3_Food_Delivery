{
 "cells": [
  {
   "cell_type": "code",
   "execution_count": 1,
   "id": "39d82a98",
   "metadata": {},
   "outputs": [],
   "source": [
    "# Import dependencies/libraries\n",
    "\n",
    "from splinter import Browser\n",
    "from bs4 import BeautifulSoup as soup"
   ]
  },
  {
   "cell_type": "code",
   "execution_count": 2,
   "id": "90fdaf9b",
   "metadata": {},
   "outputs": [],
   "source": [
    "# Setting up the browser\n",
    "\n",
    "browser = Browser('chrome')"
   ]
  },
  {
   "cell_type": "code",
   "execution_count": 4,
   "id": "f683952c",
   "metadata": {},
   "outputs": [],
   "source": [
    "# Creating a BeautifulSoup parser to parse HTML code\n",
    "\n",
    "html = browser.html\n",
    "soup = soup(html, 'html.parser')"
   ]
  },
  {
   "cell_type": "code",
   "execution_count": 5,
   "id": "bcd00cad",
   "metadata": {},
   "outputs": [],
   "source": [
    "# Visiting the website\n",
    "\n",
    "url = 'https://www.doordash.com/en-CA/food-delivery/'\n",
    "browser.visit(url)"
   ]
  },
  {
   "cell_type": "code",
   "execution_count": 9,
   "id": "1a288190",
   "metadata": {
    "scrolled": true
   },
   "outputs": [],
   "source": [
    "# Getting splinter to click a general location\n",
    "\n",
    "browser.links.find_by_partial_text('Calgary').click()"
   ]
  },
  {
   "cell_type": "code",
   "execution_count": 10,
   "id": "384cc62a",
   "metadata": {},
   "outputs": [],
   "source": [
    "# Getting splinter to click a specific location\n",
    "\n",
    "browser.links.find_by_partial_text('Airdrie').click()"
   ]
  },
  {
   "cell_type": "markdown",
   "id": "f7b1aa9e",
   "metadata": {},
   "source": [
    "# Idea 1 - Category/Cuisine type scraping - doordash interface 1"
   ]
  },
  {
   "cell_type": "code",
   "execution_count": 11,
   "id": "6154b198",
   "metadata": {},
   "outputs": [
    {
     "ename": "ElementDoesNotExist",
     "evalue": "no elements could be found with id \"cuisine-filters-toggle-link\"",
     "output_type": "error",
     "traceback": [
      "\u001b[1;31m---------------------------------------------------------------------------\u001b[0m",
      "\u001b[1;31mIndexError\u001b[0m                                Traceback (most recent call last)",
      "File \u001b[1;32m~\\anaconda\\lib\\site-packages\\splinter\\element_list.py:40\u001b[0m, in \u001b[0;36mElementList.__getitem__\u001b[1;34m(self, index)\u001b[0m\n\u001b[0;32m     39\u001b[0m \u001b[38;5;28;01mtry\u001b[39;00m:\n\u001b[1;32m---> 40\u001b[0m     \u001b[38;5;28;01mreturn\u001b[39;00m \u001b[38;5;28;43mself\u001b[39;49m\u001b[38;5;241;43m.\u001b[39;49m\u001b[43m_container\u001b[49m\u001b[43m[\u001b[49m\u001b[43mindex\u001b[49m\u001b[43m]\u001b[49m\n\u001b[0;32m     41\u001b[0m \u001b[38;5;28;01mexcept\u001b[39;00m \u001b[38;5;167;01mIndexError\u001b[39;00m:\n",
      "\u001b[1;31mIndexError\u001b[0m: list index out of range",
      "\nDuring handling of the above exception, another exception occurred:\n",
      "\u001b[1;31mElementDoesNotExist\u001b[0m                       Traceback (most recent call last)",
      "Cell \u001b[1;32mIn[11], line 3\u001b[0m\n\u001b[0;32m      1\u001b[0m \u001b[38;5;66;03m# Getting splinter to click/expand the cuisine category\u001b[39;00m\n\u001b[1;32m----> 3\u001b[0m \u001b[43mbrowser\u001b[49m\u001b[38;5;241;43m.\u001b[39;49m\u001b[43mfind_by_id\u001b[49m\u001b[43m(\u001b[49m\u001b[38;5;124;43m\"\u001b[39;49m\u001b[38;5;124;43mcuisine-filters-toggle-link\u001b[39;49m\u001b[38;5;124;43m\"\u001b[39;49m\u001b[43m)\u001b[49m\u001b[38;5;241;43m.\u001b[39;49m\u001b[43mclick\u001b[49m()\n",
      "File \u001b[1;32m~\\anaconda\\lib\\site-packages\\splinter\\element_list.py:78\u001b[0m, in \u001b[0;36mElementList.__getattr__\u001b[1;34m(self, name)\u001b[0m\n\u001b[0;32m     76\u001b[0m \u001b[38;5;28;01mdef\u001b[39;00m \u001b[38;5;21m__getattr__\u001b[39m(\u001b[38;5;28mself\u001b[39m, name):\n\u001b[0;32m     77\u001b[0m     \u001b[38;5;28;01mtry\u001b[39;00m:\n\u001b[1;32m---> 78\u001b[0m         \u001b[38;5;28;01mreturn\u001b[39;00m \u001b[38;5;28mgetattr\u001b[39m(\u001b[38;5;28;43mself\u001b[39;49m\u001b[38;5;241;43m.\u001b[39;49m\u001b[43mfirst\u001b[49m, name)\n\u001b[0;32m     79\u001b[0m     \u001b[38;5;28;01mexcept\u001b[39;00m \u001b[38;5;167;01mAttributeError\u001b[39;00m:\n\u001b[0;32m     80\u001b[0m         \u001b[38;5;28;01mtry\u001b[39;00m:\n",
      "File \u001b[1;32m~\\anaconda\\lib\\site-packages\\splinter\\element_list.py:56\u001b[0m, in \u001b[0;36mElementList.first\u001b[1;34m(self)\u001b[0m\n\u001b[0;32m     48\u001b[0m \u001b[38;5;129m@property\u001b[39m\n\u001b[0;32m     49\u001b[0m \u001b[38;5;28;01mdef\u001b[39;00m \u001b[38;5;21mfirst\u001b[39m(\u001b[38;5;28mself\u001b[39m):\n\u001b[0;32m     50\u001b[0m     \u001b[38;5;124;03m\"\"\"An alias to the first element of the list.\u001b[39;00m\n\u001b[0;32m     51\u001b[0m \n\u001b[0;32m     52\u001b[0m \u001b[38;5;124;03m    Example:\u001b[39;00m\n\u001b[0;32m     53\u001b[0m \n\u001b[0;32m     54\u001b[0m \u001b[38;5;124;03m        >>> assert element_list[0] == element_list.first\u001b[39;00m\n\u001b[0;32m     55\u001b[0m \u001b[38;5;124;03m    \"\"\"\u001b[39;00m\n\u001b[1;32m---> 56\u001b[0m     \u001b[38;5;28;01mreturn\u001b[39;00m \u001b[38;5;28;43mself\u001b[39;49m\u001b[43m[\u001b[49m\u001b[38;5;241;43m0\u001b[39;49m\u001b[43m]\u001b[49m\n",
      "File \u001b[1;32m~\\anaconda\\lib\\site-packages\\splinter\\element_list.py:42\u001b[0m, in \u001b[0;36mElementList.__getitem__\u001b[1;34m(self, index)\u001b[0m\n\u001b[0;32m     40\u001b[0m     \u001b[38;5;28;01mreturn\u001b[39;00m \u001b[38;5;28mself\u001b[39m\u001b[38;5;241m.\u001b[39m_container[index]\n\u001b[0;32m     41\u001b[0m \u001b[38;5;28;01mexcept\u001b[39;00m \u001b[38;5;167;01mIndexError\u001b[39;00m:\n\u001b[1;32m---> 42\u001b[0m     \u001b[38;5;28;01mraise\u001b[39;00m ElementDoesNotExist(\n\u001b[0;32m     43\u001b[0m         \u001b[38;5;124mu\u001b[39m\u001b[38;5;124m'\u001b[39m\u001b[38;5;124mno elements could be found with \u001b[39m\u001b[38;5;132;01m{0}\u001b[39;00m\u001b[38;5;124m \u001b[39m\u001b[38;5;124m\"\u001b[39m\u001b[38;5;132;01m{1}\u001b[39;00m\u001b[38;5;124m\"\u001b[39m\u001b[38;5;124m'\u001b[39m\u001b[38;5;241m.\u001b[39mformat(\n\u001b[0;32m     44\u001b[0m             \u001b[38;5;28mself\u001b[39m\u001b[38;5;241m.\u001b[39mfind_by, \u001b[38;5;28mself\u001b[39m\u001b[38;5;241m.\u001b[39mquery\n\u001b[0;32m     45\u001b[0m         )\n\u001b[0;32m     46\u001b[0m     )\n",
      "\u001b[1;31mElementDoesNotExist\u001b[0m: no elements could be found with id \"cuisine-filters-toggle-link\""
     ]
    }
   ],
   "source": [
    "# Getting splinter to click/expand the cuisine category\n",
    "\n",
    "browser.find_by_id(\"cuisine-filters-toggle-link\").click()"
   ]
  },
  {
   "cell_type": "code",
   "execution_count": null,
   "id": "3b7c3f63",
   "metadata": {},
   "outputs": [],
   "source": [
    "# Using beautiful soup to scrape the html codes containing usable text (in this case, cuisine)\n",
    "\n",
    "categories= soup.find_all('span', class_ = \"syles__TextElement-sc-3qedjx-0 eYqMAH\")\n",
    "print(categories)\n",
    "\n"
   ]
  },
  {
   "cell_type": "code",
   "execution_count": null,
   "id": "f96f6553",
   "metadata": {},
   "outputs": [],
   "source": [
    "# Storing scraped html codes, then storing just the important text in a list.\n",
    "cuisines = []\n",
    "\n",
    "for i in categories:\n",
    "    cuisine = i.text\n",
    "    cuisines.append(cuisine)\n",
    "    \n",
    "cuisines"
   ]
  },
  {
   "cell_type": "markdown",
   "id": "a11f2d53",
   "metadata": {},
   "source": [
    "# Idea - 2 Scraping valuable restaurant information in a page - doordash interface 1"
   ]
  },
  {
   "cell_type": "code",
   "execution_count": 10,
   "id": "13dc0826",
   "metadata": {
    "scrolled": true
   },
   "outputs": [
    {
     "data": {
      "text/plain": [
       "[<h2 class=\"sc-9403d995-9 fsRGbz\">Jollibee</h2>,\n",
       " <h2 class=\"sc-9403d995-9 fsRGbz\">Real Canadian Superstore</h2>,\n",
       " <h2 class=\"sc-9403d995-9 fsRGbz\">Main Street Beer &amp; BBQ</h2>,\n",
       " <h2 class=\"sc-9403d995-9 fsRGbz\">Shawarma Palace</h2>,\n",
       " <h2 class=\"sc-9403d995-9 fsRGbz\">Wendy's</h2>,\n",
       " <h2 class=\"sc-9403d995-9 fsRGbz\">McDonald's</h2>,\n",
       " <h2 class=\"sc-9403d995-9 fsRGbz\">The Vapiano Cucina</h2>,\n",
       " <h2 class=\"sc-9403d995-9 fsRGbz\">Rice for King</h2>,\n",
       " <h2 class=\"sc-9403d995-9 fsRGbz\">Pita Basket</h2>,\n",
       " <h2 class=\"sc-9403d995-9 fsRGbz\">Burger King</h2>,\n",
       " <h2 class=\"sc-9403d995-9 fsRGbz\">Edo Japan</h2>,\n",
       " <h2 class=\"sc-9403d995-9 fsRGbz\">Harvey's</h2>,\n",
       " <h2 class=\"sc-9403d995-9 fsRGbz\">Bubble Tea Brewers</h2>,\n",
       " <h2 class=\"sc-9403d995-9 fsRGbz\">Jens Vietnamese Noodle House</h2>,\n",
       " <h2 class=\"sc-9403d995-9 fsRGbz\">Little Caesars Pizza</h2>,\n",
       " <h2 class=\"sc-9403d995-9 fsRGbz\">Noodlebox</h2>,\n",
       " <h2 class=\"sc-9403d995-9 fsRGbz\">Tony’s Vietnamese Noodle Restaurant</h2>,\n",
       " <h2 class=\"sc-9403d995-9 fsRGbz\">YUM YUM CHICKEN &amp; BBQ AIRDRIE</h2>,\n",
       " <h2 class=\"sc-9403d995-9 fsRGbz\">Airdrie Wok</h2>,\n",
       " <h2 class=\"sc-9403d995-9 fsRGbz\">Noodle King</h2>,\n",
       " <h2 class=\"sc-9403d995-9 fsRGbz\">Fatburger</h2>,\n",
       " <h2 class=\"sc-9403d995-9 fsRGbz\">Gate of India</h2>,\n",
       " <h2 class=\"sc-9403d995-9 fsRGbz\">Paros on Main</h2>,\n",
       " <h2 class=\"sc-9403d995-9 fsRGbz\">7-Eleven</h2>,\n",
       " <h2 class=\"sc-9403d995-9 fsRGbz\">What's Pop'n Pop Shop</h2>,\n",
       " <h2 class=\"sc-9403d995-9 fsRGbz\">Papa Johns</h2>,\n",
       " <h2 class=\"sc-9403d995-9 fsRGbz\">Gong cha Airdrie</h2>,\n",
       " <h2 class=\"sc-9403d995-9 fsRGbz\">Nojomi Japanese &amp; Korean Cuisine</h2>,\n",
       " <h2 class=\"sc-9403d995-9 fsRGbz\">Pizza Cottage</h2>,\n",
       " <h2 class=\"sc-9403d995-9 fsRGbz\">Denny's</h2>,\n",
       " <h2 class=\"sc-9403d995-9 fsRGbz\">The Pizza Shop Airdrie</h2>,\n",
       " <h2 class=\"sc-9403d995-9 fsRGbz\">Quesada Burritos &amp; Tacos</h2>,\n",
       " <h2 class=\"sc-9403d995-9 fsRGbz\">Original Joe's</h2>,\n",
       " <h2 class=\"sc-9403d995-9 fsRGbz\">Calgary Pizza Unlimited Inc</h2>,\n",
       " <h2 class=\"sc-9403d995-9 fsRGbz\">Tuk Tuk Thai</h2>,\n",
       " <h2 class=\"sc-9403d995-9 fsRGbz\">Tahini's</h2>,\n",
       " <h2 class=\"sc-9403d995-9 fsRGbz\">Mary Brown's Chicken</h2>,\n",
       " <h2 class=\"sc-9403d995-9 fsRGbz\">Pizza Hut</h2>,\n",
       " <h2 class=\"sc-9403d995-9 fsRGbz\">Starbucks</h2>,\n",
       " <h2 class=\"sc-9403d995-9 fsRGbz\">Montana's BBQ &amp; Bar</h2>,\n",
       " <h2 class=\"sc-9403d995-9 fsRGbz\">Gong cha</h2>,\n",
       " <h2 class=\"sc-9403d995-9 fsRGbz\">Abe's Diner</h2>,\n",
       " <h2 class=\"sc-9403d995-9 fsRGbz\">Oodle Noodle</h2>,\n",
       " <h2 class=\"sc-9403d995-9 fsRGbz\">Chatime Airdrie</h2>,\n",
       " <h2 class=\"sc-9403d995-9 fsRGbz\">Boardwalk Fries | Burgers | Shakes</h2>,\n",
       " <h2 class=\"sc-9403d995-9 fsRGbz\">Zaika the Indian Delicacy</h2>,\n",
       " <h2 class=\"sc-9403d995-9 fsRGbz\">Shoppers Drug Mart</h2>,\n",
       " <h2 class=\"sc-9403d995-9 fsRGbz\">Cora</h2>,\n",
       " <h2 class=\"sc-9403d995-9 fsRGbz\">Hula Poke</h2>,\n",
       " <h2 class=\"sc-9403d995-9 fsRGbz\">Good Earth Coffeehouse</h2>]"
      ]
     },
     "execution_count": 10,
     "metadata": {},
     "output_type": "execute_result"
    }
   ],
   "source": [
    "# Scraping restaurant name\n",
    "\n",
    "soup.find_all('h2', class_ = 'sc-9403d995-9 fsRGbz')"
   ]
  },
  {
   "cell_type": "code",
   "execution_count": 11,
   "id": "51a267d6",
   "metadata": {
    "scrolled": true
   },
   "outputs": [
    {
     "data": {
      "text/plain": [
       "[<p class=\"sc-9403d995-10 kixEwd\">Airdrie • Fried Chicken • $$</p>,\n",
       " <p class=\"sc-9403d995-10 kixEwd\">Airdrie • Grocery • $$</p>,\n",
       " <p class=\"sc-9403d995-10 kixEwd\">Airdrie • Barbecue • $$</p>,\n",
       " <p class=\"sc-9403d995-10 kixEwd\">Airdrie • Shawarma • $$</p>,\n",
       " <p class=\"sc-9403d995-10 kixEwd\">Airdrie • Burgers • $$</p>,\n",
       " <p class=\"sc-9403d995-10 kixEwd\">Airdrie • Burgers • $$</p>,\n",
       " <p class=\"sc-9403d995-10 kixEwd\">Airdrie • Italian • $$</p>,\n",
       " <p class=\"sc-9403d995-10 kixEwd\">Airdrie • Vietnamese • $$</p>,\n",
       " <p class=\"sc-9403d995-10 kixEwd\">Airdrie • Sandwiches • $</p>,\n",
       " <p class=\"sc-9403d995-10 kixEwd\">Airdrie • Burgers • $</p>,\n",
       " <p class=\"sc-9403d995-10 kixEwd\">Airdrie • $$</p>,\n",
       " <p class=\"sc-9403d995-10 kixEwd\">Airdrie • Burgers • $$</p>,\n",
       " <p class=\"sc-9403d995-10 kixEwd\">Airdrie • Milk Tea • $$</p>,\n",
       " <p class=\"sc-9403d995-10 kixEwd\">Airdrie • Vietnamese • $$</p>,\n",
       " <p class=\"sc-9403d995-10 kixEwd\">Airdrie • Pizza • $$</p>,\n",
       " <p class=\"sc-9403d995-10 kixEwd\">Airdrie • Noodles • $$</p>,\n",
       " <p class=\"sc-9403d995-10 kixEwd\">Airdrie • Vietnamese • $$</p>,\n",
       " <p class=\"sc-9403d995-10 kixEwd\">Airdrie • Korean • $$</p>,\n",
       " <p class=\"sc-9403d995-10 kixEwd\">Airdrie • Takeout • $$</p>,\n",
       " <p class=\"sc-9403d995-10 kixEwd\">Airdrie • Fried Rice • $$</p>,\n",
       " <p class=\"sc-9403d995-10 kixEwd\">Airdrie • Burgers • $$</p>,\n",
       " <p class=\"sc-9403d995-10 kixEwd\">Airdrie • Indian • $$</p>,\n",
       " <p class=\"sc-9403d995-10 kixEwd\">Airdrie • Greek • $$</p>,\n",
       " <p class=\"sc-9403d995-10 kixEwd\">Airdrie • Convenience • $$</p>,\n",
       " <p class=\"sc-9403d995-10 kixEwd\">Airdrie • Floats • $$</p>,\n",
       " <p class=\"sc-9403d995-10 kixEwd\">Airdrie • Pizza • $$</p>,\n",
       " <p class=\"sc-9403d995-10 kixEwd\">Airdrie • Milk Tea • $$</p>,\n",
       " <p class=\"sc-9403d995-10 kixEwd\">Airdrie • Gyoza • $$</p>,\n",
       " <p class=\"sc-9403d995-10 kixEwd\">Airdrie • Pizza • $$</p>,\n",
       " <p class=\"sc-9403d995-10 kixEwd\">Airdrie • Breakfast • $</p>,\n",
       " <p class=\"sc-9403d995-10 kixEwd\">Airdrie • American • $$</p>,\n",
       " <p class=\"sc-9403d995-10 kixEwd\">Airdrie • Mexican • $$</p>,\n",
       " <p class=\"sc-9403d995-10 kixEwd\">Airdrie • Burgers • $$</p>,\n",
       " <p class=\"sc-9403d995-10 kixEwd\">Airdrie • Italian • $$</p>,\n",
       " <p class=\"sc-9403d995-10 kixEwd\">Airdrie • Pad Thai • $$</p>,\n",
       " <p class=\"sc-9403d995-10 kixEwd\">Airdrie • Mediterranean • $$</p>,\n",
       " <p class=\"sc-9403d995-10 kixEwd\">Airdrie • Fried Chicken • $$</p>,\n",
       " <p class=\"sc-9403d995-10 kixEwd\">Airdrie • Pizza • $$</p>,\n",
       " <p class=\"sc-9403d995-10 kixEwd\">Airdrie • Coffee • $$</p>,\n",
       " <p class=\"sc-9403d995-10 kixEwd\">Airdrie • Ribs • $$</p>,\n",
       " <p class=\"sc-9403d995-10 kixEwd\">Airdrie • Milk Tea • $$</p>,\n",
       " <p class=\"sc-9403d995-10 kixEwd\">Airdrie • Sandwiches • $</p>,\n",
       " <p class=\"sc-9403d995-10 kixEwd\">Airdrie • Noodles • $$</p>,\n",
       " <p class=\"sc-9403d995-10 kixEwd\">Airdrie • Bubble Tea • $$</p>,\n",
       " <p class=\"sc-9403d995-10 kixEwd\">Airdrie • Burgers • $$</p>,\n",
       " <p class=\"sc-9403d995-10 kixEwd\">Airdrie • Indian • $$</p>,\n",
       " <p class=\"sc-9403d995-10 kixEwd\">Airdrie • Pharmacy • $$</p>,\n",
       " <p class=\"sc-9403d995-10 kixEwd\">Airdrie • Breakfast • $$</p>,\n",
       " <p class=\"sc-9403d995-10 kixEwd\">Airdrie • Poke • $$</p>,\n",
       " <p class=\"sc-9403d995-10 kixEwd\">Airdrie • Breakfast • $$</p>]"
      ]
     },
     "execution_count": 11,
     "metadata": {},
     "output_type": "execute_result"
    }
   ],
   "source": [
    "# Scraping information found below restaurant name (location, type of food/cuisine depending on the listing, and price)\n",
    "\n",
    "soup.find_all('p', class_ = 'sc-9403d995-10 kixEwd')"
   ]
  },
  {
   "cell_type": "code",
   "execution_count": 15,
   "id": "d676c267",
   "metadata": {},
   "outputs": [
    {
     "name": "stdout",
     "output_type": "stream",
     "text": [
      "['Jollibee', 'Real Canadian Superstore', 'Main Street Beer & BBQ', 'Shawarma Palace', \"Wendy's\", \"McDonald's\", 'The Vapiano Cucina', 'Rice for King', 'Pita Basket', 'Burger King', 'Edo Japan', \"Harvey's\", 'Bubble Tea Brewers', 'Jens Vietnamese Noodle House', 'Little Caesars Pizza', 'Noodlebox', 'Tony’s Vietnamese Noodle Restaurant', 'YUM YUM CHICKEN & BBQ AIRDRIE', 'Airdrie Wok', 'Noodle King', 'Fatburger', 'Gate of India', 'Paros on Main', '7-Eleven', \"What's Pop'n Pop Shop\", 'Papa Johns', 'Gong cha Airdrie', 'Nojomi Japanese & Korean Cuisine', 'Pizza Cottage', \"Denny's\", 'The Pizza Shop Airdrie', 'Quesada Burritos & Tacos', \"Original Joe's\", 'Calgary Pizza Unlimited Inc', 'Tuk Tuk Thai', \"Tahini's\", \"Mary Brown's Chicken\", 'Pizza Hut', 'Starbucks', \"Montana's BBQ & Bar\", 'Gong cha', \"Abe's Diner\", 'Oodle Noodle', 'Chatime Airdrie', 'Boardwalk Fries | Burgers | Shakes', 'Zaika the Indian Delicacy', 'Shoppers Drug Mart', 'Cora', 'Hula Poke', 'Good Earth Coffeehouse'] ['Airdrie • Fried Chicken • $$', 'Airdrie • Grocery • $$', 'Airdrie • Barbecue • $$', 'Airdrie • Shawarma • $$', 'Airdrie • Burgers • $$', 'Airdrie • Burgers • $$', 'Airdrie • Italian • $$', 'Airdrie • Vietnamese • $$', 'Airdrie • Sandwiches • $', 'Airdrie • Burgers • $', 'Airdrie • $$', 'Airdrie • Burgers • $$', 'Airdrie • Milk Tea • $$', 'Airdrie • Vietnamese • $$', 'Airdrie • Pizza • $$', 'Airdrie • Noodles • $$', 'Airdrie • Vietnamese • $$', 'Airdrie • Korean • $$', 'Airdrie • Takeout • $$', 'Airdrie • Fried Rice • $$', 'Airdrie • Burgers • $$', 'Airdrie • Indian • $$', 'Airdrie • Greek • $$', 'Airdrie • Convenience • $$', 'Airdrie • Floats • $$', 'Airdrie • Pizza • $$', 'Airdrie • Milk Tea • $$', 'Airdrie • Gyoza • $$', 'Airdrie • Pizza • $$', 'Airdrie • Breakfast • $', 'Airdrie • American • $$', 'Airdrie • Mexican • $$', 'Airdrie • Burgers • $$', 'Airdrie • Italian • $$', 'Airdrie • Pad Thai • $$', 'Airdrie • Mediterranean • $$', 'Airdrie • Fried Chicken • $$', 'Airdrie • Pizza • $$', 'Airdrie • Coffee • $$', 'Airdrie • Ribs • $$', 'Airdrie • Milk Tea • $$', 'Airdrie • Sandwiches • $', 'Airdrie • Noodles • $$', 'Airdrie • Bubble Tea • $$', 'Airdrie • Burgers • $$', 'Airdrie • Indian • $$', 'Airdrie • Pharmacy • $$', 'Airdrie • Breakfast • $$', 'Airdrie • Poke • $$', 'Airdrie • Breakfast • $$']\n"
     ]
    }
   ],
   "source": [
    "resname = soup.find_all('h2', class_ = 'sc-9403d995-9 fsRGbz')\n",
    "resinformation = soup.find_all('p', class_ = 'sc-9403d995-10 kixEwd')\n",
    "\n",
    "res_name = []\n",
    "res_information = []\n",
    "\n",
    "for i in resname:\n",
    "    name = i.text\n",
    "    res_name.append(name)\n",
    "    \n",
    "\n",
    "for i in resinformation:\n",
    "    info = i.text\n",
    "    res_information.append(info)\n",
    "    \n",
    "print(res_name, res_information)\n"
   ]
  },
  {
   "cell_type": "code",
   "execution_count": 17,
   "id": "16dcb6d5",
   "metadata": {},
   "outputs": [
    {
     "ename": "SyntaxError",
     "evalue": "invalid syntax (1622516175.py, line 11)",
     "output_type": "error",
     "traceback": [
      "\u001b[1;36m  File \u001b[1;32m\"C:\\Users\\josep\\AppData\\Local\\Temp\\ipykernel_22496\\1622516175.py\"\u001b[1;36m, line \u001b[1;32m11\u001b[0m\n\u001b[1;33m    browser.find_by_tag(\"button\")[counter += 1].click()\u001b[0m\n\u001b[1;37m                                          ^\u001b[0m\n\u001b[1;31mSyntaxError\u001b[0m\u001b[1;31m:\u001b[0m invalid syntax\n"
     ]
    }
   ],
   "source": [
    "resname = soup.find_all('h2', class_ = 'sc-9403d995-9 fsRGbz')\n",
    "# resinformation = soup.find_all('p', class_ = 'sc-9403d995-10 kixEwd')\n",
    "\n",
    "res_name = []\n",
    "# res_information = []\n",
    "counter = 3\n",
    "\n",
    "for i in resname:\n",
    "    name = i.text\n",
    "    res_name.append(name)\n",
    "    browser.find_by_tag(\"button\")[counter += 1].click()\n",
    "    counter = counter\n",
    "\n",
    "print(res_name)\n",
    "    \n",
    "# for i in resinformation:\n",
    "#     info = i.text\n",
    "#     res_information.append(info)\n",
    "    \n",
    "# print(res_information)"
   ]
  },
  {
   "cell_type": "code",
   "execution_count": 18,
   "id": "cac555a8",
   "metadata": {
    "scrolled": true
   },
   "outputs": [],
   "source": [
    "# Using splinter to move to the next page, it would click the pages at the end of the restaurant listing. Index four/[4] is for clicking page 2, index five /[5] is for clicking page 3. Index three/[3] is for click page 1.\n",
    "\n",
    "browser.find_by_tag(\"button\")[4].click()"
   ]
  },
  {
   "cell_type": "code",
   "execution_count": null,
   "id": "252f1087",
   "metadata": {},
   "outputs": [],
   "source": [
    "//*[@id=\"__next\"]/main/div/div[1]/div/div/div[1]/div[1]/div/div[2]/div[1]/div[2]/div[2]/nav/div/button[5]/svg"
   ]
  },
  {
   "cell_type": "code",
   "execution_count": null,
   "id": "796efb38",
   "metadata": {},
   "outputs": [],
   "source": []
  },
  {
   "cell_type": "code",
   "execution_count": null,
   "id": "b2e732d3",
   "metadata": {},
   "outputs": [],
   "source": []
  },
  {
   "cell_type": "markdown",
   "id": "3236205b",
   "metadata": {},
   "source": [
    "# Idea 3 - Scraping data on doordash interface 2"
   ]
  },
  {
   "cell_type": "code",
   "execution_count": null,
   "id": "4ac492c3",
   "metadata": {},
   "outputs": [],
   "source": [
    "# Scraping restaurant name if Doordash's interface changes. \n",
    "\n",
    "doordash_soup.find_all('span', class_ = 'styles__TextElement-sc-3qedjq-0 dHZzFl sc-a4170962-20 bejiov')"
   ]
  },
  {
   "cell_type": "code",
   "execution_count": null,
   "id": "ee4450ad",
   "metadata": {},
   "outputs": [],
   "source": []
  },
  {
   "cell_type": "code",
   "execution_count": null,
   "id": "e2d801bf",
   "metadata": {},
   "outputs": [],
   "source": []
  },
  {
   "cell_type": "code",
   "execution_count": 26,
   "id": "0c41a08a",
   "metadata": {},
   "outputs": [],
   "source": [
    "browser.quit()"
   ]
  },
  {
   "cell_type": "code",
   "execution_count": null,
   "id": "e89dcd6e",
   "metadata": {},
   "outputs": [],
   "source": []
  }
 ],
 "metadata": {
  "kernelspec": {
   "display_name": "Python 3 (ipykernel)",
   "language": "python",
   "name": "python3"
  },
  "language_info": {
   "codemirror_mode": {
    "name": "ipython",
    "version": 3
   },
   "file_extension": ".py",
   "mimetype": "text/x-python",
   "name": "python",
   "nbconvert_exporter": "python",
   "pygments_lexer": "ipython3",
   "version": "3.9.13"
  }
 },
 "nbformat": 4,
 "nbformat_minor": 5
}
