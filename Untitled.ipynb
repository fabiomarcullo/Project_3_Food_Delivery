{
 "cells": [
  {
   "cell_type": "code",
   "execution_count": 1,
   "id": "39d82a98",
   "metadata": {},
   "outputs": [],
   "source": [
    "# Import dependencies/libraries\n",
    "\n",
    "from splinter import Browser\n",
    "from bs4 import BeautifulSoup as soup"
   ]
  },
  {
   "cell_type": "code",
   "execution_count": 2,
   "id": "90fdaf9b",
   "metadata": {},
   "outputs": [],
   "source": [
    "# Setting up the browser\n",
    "\n",
    "browser = Browser('chrome')"
   ]
  },
  {
   "cell_type": "code",
   "execution_count": 3,
   "id": "f683952c",
   "metadata": {},
   "outputs": [],
   "source": [
    "# Creating a BeautifulSoup parser to parse HTML code\n",
    "\n",
    "html = browser.html\n",
    "doordash_soup = soup(html, 'html.parser')"
   ]
  },
  {
   "cell_type": "code",
   "execution_count": 10,
   "id": "bcd00cad",
   "metadata": {},
   "outputs": [],
   "source": [
    "# Visiting the website\n",
    "\n",
    "url = 'https://www.doordash.com/en-CA/food-delivery/'\n",
    "browser.visit(url)"
   ]
  },
  {
   "cell_type": "code",
   "execution_count": 11,
   "id": "1a288190",
   "metadata": {
    "scrolled": true
   },
   "outputs": [],
   "source": [
    "browser.links.find_by_partial_text('Calgary').click()"
   ]
  },
  {
   "cell_type": "code",
   "execution_count": 12,
   "id": "384cc62a",
   "metadata": {},
   "outputs": [],
   "source": [
    "browser.links.find_by_partial_text('Airdrie').click()"
   ]
  },
  {
   "cell_type": "code",
   "execution_count": null,
   "id": "1de8765e",
   "metadata": {},
   "outputs": [],
   "source": [
    "browser.find_by_id(\"cuisine-filters-toggle-link\").click()"
   ]
  },
  {
   "cell_type": "code",
   "execution_count": null,
   "id": "8540c1f6",
   "metadata": {
    "scrolled": true
   },
   "outputs": [],
   "source": [
    "categories= doordash_soup.find_all('span', class_ = \"syles__TextElement-sc-3qedjx-0 eYqMAH\")\n",
    "print(categories)"
   ]
  },
  {
   "cell_type": "code",
   "execution_count": null,
   "id": "c9fdbe03",
   "metadata": {
    "scrolled": true
   },
   "outputs": [],
   "source": [
    "cuisines = []\n",
    "\n",
    "for i in categories:\n",
    "    cuisine = i.text\n",
    "    cuisines.append(cuisine)\n",
    "    \n",
    "cuisines"
   ]
  },
  {
   "cell_type": "code",
   "execution_count": 13,
   "id": "0c41a08a",
   "metadata": {},
   "outputs": [],
   "source": [
    "browser.quit()"
   ]
  },
  {
   "cell_type": "code",
   "execution_count": null,
   "id": "c99790f0",
   "metadata": {},
   "outputs": [],
   "source": []
  }
 ],
 "metadata": {
  "kernelspec": {
   "display_name": "Python 3 (ipykernel)",
   "language": "python",
   "name": "python3"
  },
  "language_info": {
   "codemirror_mode": {
    "name": "ipython",
    "version": 3
   },
   "file_extension": ".py",
   "mimetype": "text/x-python",
   "name": "python",
   "nbconvert_exporter": "python",
   "pygments_lexer": "ipython3",
   "version": "3.9.13"
  }
 },
 "nbformat": 4,
 "nbformat_minor": 5
}
