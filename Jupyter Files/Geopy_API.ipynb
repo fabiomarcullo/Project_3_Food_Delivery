{
 "cells": [
  {
   "cell_type": "code",
   "execution_count": 1,
   "id": "9582da2a",
   "metadata": {},
   "outputs": [],
   "source": [
    "import pandas as pd\n",
    "from geopy.geocoders import Nominatim\n",
    "from geopy.geocoders import GoogleV3\n",
    "from retrying import retry"
   ]
  },
  {
   "cell_type": "code",
   "execution_count": 2,
   "id": "9255f21b",
   "metadata": {},
   "outputs": [],
   "source": [
    "# Read the CSV file\n",
    "data = pd.read_csv('Restaurant_DB_File.csv')"
   ]
  },
  {
   "cell_type": "code",
   "execution_count": 9,
   "id": "fab8ad74",
   "metadata": {},
   "outputs": [],
   "source": [
    "# Create a geocoder instance with your Google Maps API key\n",
    "geolocator = GoogleV3(api_key='My Key')"
   ]
  },
  {
   "cell_type": "code",
   "execution_count": 10,
   "id": "3cb75891",
   "metadata": {},
   "outputs": [],
   "source": [
    "# Retry decorator with exponential backoff\n",
    "@retry(wait_exponential_multiplier=1000, wait_exponential_max=10000, stop_max_attempt_number=3)\n",
    "def geocode_address(address):\n",
    "    return geolocator.geocode(address)"
   ]
  },
  {
   "cell_type": "code",
   "execution_count": 13,
   "id": "528c2a74",
   "metadata": {},
   "outputs": [],
   "source": [
    "# Geocode addresses and store latitude and longitude in new columns\n",
    "data['Latitude'] = data['Address'].apply(lambda x: geolocator.geocode(x).latitude if geolocator.geocode(x) else None)\n",
    "data['Longitude'] = data['Address'].apply(lambda x: geolocator.geocode(x).longitude if geolocator.geocode(x) else None)"
   ]
  },
  {
   "cell_type": "code",
   "execution_count": 14,
   "id": "05c4326e",
   "metadata": {},
   "outputs": [
    {
     "data": {
      "text/html": [
       "<div>\n",
       "<style scoped>\n",
       "    .dataframe tbody tr th:only-of-type {\n",
       "        vertical-align: middle;\n",
       "    }\n",
       "\n",
       "    .dataframe tbody tr th {\n",
       "        vertical-align: top;\n",
       "    }\n",
       "\n",
       "    .dataframe thead th {\n",
       "        text-align: right;\n",
       "    }\n",
       "</style>\n",
       "<table border=\"1\" class=\"dataframe\">\n",
       "  <thead>\n",
       "    <tr style=\"text-align: right;\">\n",
       "      <th></th>\n",
       "      <th>Restaurant_Name</th>\n",
       "      <th>Rating</th>\n",
       "      <th>Category</th>\n",
       "      <th>Address</th>\n",
       "      <th>Latitude</th>\n",
       "      <th>Longitude</th>\n",
       "    </tr>\n",
       "  </thead>\n",
       "  <tbody>\n",
       "    <tr>\n",
       "      <th>0</th>\n",
       "      <td>Wendy's (10365 111th Street)</td>\n",
       "      <td>4.7</td>\n",
       "      <td>Fast food</td>\n",
       "      <td>10365 111th Street, Edmonton, AB T5K 2V3</td>\n",
       "      <td>53.545878</td>\n",
       "      <td>-113.510914</td>\n",
       "    </tr>\n",
       "    <tr>\n",
       "      <th>1</th>\n",
       "      <td>McDonald's (Garneau)</td>\n",
       "      <td>4.6</td>\n",
       "      <td>Burgers</td>\n",
       "      <td>8415 109th Street, Edmonton, AB T6E</td>\n",
       "      <td>53.520781</td>\n",
       "      <td>-113.511508</td>\n",
       "    </tr>\n",
       "    <tr>\n",
       "      <th>2</th>\n",
       "      <td>Subway (230 10111 104 Ave)</td>\n",
       "      <td>New</td>\n",
       "      <td>American</td>\n",
       "      <td>10111 104 Ave Nw, Edmonton, AB T5J 4X1</td>\n",
       "      <td>53.545628</td>\n",
       "      <td>-113.494671</td>\n",
       "    </tr>\n",
       "    <tr>\n",
       "      <th>3</th>\n",
       "      <td>Burger King (13338-137 Avenue)</td>\n",
       "      <td>4.3</td>\n",
       "      <td>American</td>\n",
       "      <td>13338-137 Avenue, Edmonton, AB T5L 2A9</td>\n",
       "      <td>53.599964</td>\n",
       "      <td>-113.553132</td>\n",
       "    </tr>\n",
       "    <tr>\n",
       "      <th>4</th>\n",
       "      <td>7-Eleven (11528 - 107 Avenue)</td>\n",
       "      <td>4.9</td>\n",
       "      <td>Bakery</td>\n",
       "      <td>11528 - 107 Avenue, Edmonton, AB T5H</td>\n",
       "      <td>53.551599</td>\n",
       "      <td>-113.520793</td>\n",
       "    </tr>\n",
       "  </tbody>\n",
       "</table>\n",
       "</div>"
      ],
      "text/plain": [
       "                  Restaurant_Name Rating   Category  \\\n",
       "0    Wendy's (10365 111th Street)    4.7  Fast food   \n",
       "1            McDonald's (Garneau)    4.6    Burgers   \n",
       "2      Subway (230 10111 104 Ave)    New   American   \n",
       "3  Burger King (13338-137 Avenue)    4.3   American   \n",
       "4   7-Eleven (11528 - 107 Avenue)    4.9     Bakery   \n",
       "\n",
       "                                    Address   Latitude   Longitude  \n",
       "0  10365 111th Street, Edmonton, AB T5K 2V3  53.545878 -113.510914  \n",
       "1       8415 109th Street, Edmonton, AB T6E  53.520781 -113.511508  \n",
       "2    10111 104 Ave Nw, Edmonton, AB T5J 4X1  53.545628 -113.494671  \n",
       "3    13338-137 Avenue, Edmonton, AB T5L 2A9  53.599964 -113.553132  \n",
       "4      11528 - 107 Avenue, Edmonton, AB T5H  53.551599 -113.520793  "
      ]
     },
     "execution_count": 14,
     "metadata": {},
     "output_type": "execute_result"
    }
   ],
   "source": [
    "data.head()"
   ]
  },
  {
   "cell_type": "code",
   "execution_count": 40,
   "id": "f522cecb",
   "metadata": {},
   "outputs": [],
   "source": [
    "import re\n",
    "\n",
    "provinces = ['AB', 'BC', 'MB', 'NB', 'NL', 'NT', 'NS', 'NU', 'ON', 'PE', 'QC', 'SK', 'YT']"
   ]
  },
  {
   "cell_type": "code",
   "execution_count": 41,
   "id": "64738d7f",
   "metadata": {},
   "outputs": [],
   "source": [
    "# Extract province from the address\n",
    "def extract_province(address):\n",
    "    for province in provinces:\n",
    "        if re.search(r'\\b{}\\b'.format(province), address):\n",
    "            return province\n",
    "    return None\n",
    "\n",
    "# Add 'Province' column to the DataFrame\n",
    "data['Province'] = data['Address'].apply(extract_province)"
   ]
  },
  {
   "cell_type": "code",
   "execution_count": 42,
   "id": "b3174c72",
   "metadata": {},
   "outputs": [
    {
     "data": {
      "text/html": [
       "<div>\n",
       "<style scoped>\n",
       "    .dataframe tbody tr th:only-of-type {\n",
       "        vertical-align: middle;\n",
       "    }\n",
       "\n",
       "    .dataframe tbody tr th {\n",
       "        vertical-align: top;\n",
       "    }\n",
       "\n",
       "    .dataframe thead th {\n",
       "        text-align: right;\n",
       "    }\n",
       "</style>\n",
       "<table border=\"1\" class=\"dataframe\">\n",
       "  <thead>\n",
       "    <tr style=\"text-align: right;\">\n",
       "      <th></th>\n",
       "      <th>Restaurant_Name</th>\n",
       "      <th>Rating</th>\n",
       "      <th>Category</th>\n",
       "      <th>Address</th>\n",
       "      <th>Latitude</th>\n",
       "      <th>Longitude</th>\n",
       "      <th>Province</th>\n",
       "    </tr>\n",
       "  </thead>\n",
       "  <tbody>\n",
       "    <tr>\n",
       "      <th>0</th>\n",
       "      <td>Wendy's (10365 111th Street)</td>\n",
       "      <td>4.7</td>\n",
       "      <td>Fast food</td>\n",
       "      <td>10365 111th Street, Edmonton, AB T5K 2V3</td>\n",
       "      <td>53.545878</td>\n",
       "      <td>-113.510914</td>\n",
       "      <td>AB</td>\n",
       "    </tr>\n",
       "    <tr>\n",
       "      <th>1</th>\n",
       "      <td>McDonald's (Garneau)</td>\n",
       "      <td>4.6</td>\n",
       "      <td>Burgers</td>\n",
       "      <td>8415 109th Street, Edmonton, AB T6E</td>\n",
       "      <td>53.520781</td>\n",
       "      <td>-113.511508</td>\n",
       "      <td>AB</td>\n",
       "    </tr>\n",
       "    <tr>\n",
       "      <th>2</th>\n",
       "      <td>Subway (230 10111 104 Ave)</td>\n",
       "      <td>New</td>\n",
       "      <td>American</td>\n",
       "      <td>10111 104 Ave Nw, Edmonton, AB T5J 4X1</td>\n",
       "      <td>53.545628</td>\n",
       "      <td>-113.494671</td>\n",
       "      <td>AB</td>\n",
       "    </tr>\n",
       "    <tr>\n",
       "      <th>3</th>\n",
       "      <td>Burger King (13338-137 Avenue)</td>\n",
       "      <td>4.3</td>\n",
       "      <td>American</td>\n",
       "      <td>13338-137 Avenue, Edmonton, AB T5L 2A9</td>\n",
       "      <td>53.599964</td>\n",
       "      <td>-113.553132</td>\n",
       "      <td>AB</td>\n",
       "    </tr>\n",
       "    <tr>\n",
       "      <th>4</th>\n",
       "      <td>7-Eleven (11528 - 107 Avenue)</td>\n",
       "      <td>4.9</td>\n",
       "      <td>Bakery</td>\n",
       "      <td>11528 - 107 Avenue, Edmonton, AB T5H</td>\n",
       "      <td>53.551599</td>\n",
       "      <td>-113.520793</td>\n",
       "      <td>AB</td>\n",
       "    </tr>\n",
       "  </tbody>\n",
       "</table>\n",
       "</div>"
      ],
      "text/plain": [
       "                  Restaurant_Name Rating   Category  \\\n",
       "0    Wendy's (10365 111th Street)    4.7  Fast food   \n",
       "1            McDonald's (Garneau)    4.6    Burgers   \n",
       "2      Subway (230 10111 104 Ave)    New   American   \n",
       "3  Burger King (13338-137 Avenue)    4.3   American   \n",
       "4   7-Eleven (11528 - 107 Avenue)    4.9     Bakery   \n",
       "\n",
       "                                    Address   Latitude   Longitude Province  \n",
       "0  10365 111th Street, Edmonton, AB T5K 2V3  53.545878 -113.510914       AB  \n",
       "1       8415 109th Street, Edmonton, AB T6E  53.520781 -113.511508       AB  \n",
       "2    10111 104 Ave Nw, Edmonton, AB T5J 4X1  53.545628 -113.494671       AB  \n",
       "3    13338-137 Avenue, Edmonton, AB T5L 2A9  53.599964 -113.553132       AB  \n",
       "4      11528 - 107 Avenue, Edmonton, AB T5H  53.551599 -113.520793       AB  "
      ]
     },
     "execution_count": 42,
     "metadata": {},
     "output_type": "execute_result"
    }
   ],
   "source": [
    "data.head()"
   ]
  },
  {
   "cell_type": "code",
   "execution_count": 47,
   "id": "b83f1dd5",
   "metadata": {},
   "outputs": [],
   "source": [
    "data.dropna(subset=['Province'], inplace=True)"
   ]
  },
  {
   "cell_type": "code",
   "execution_count": 48,
   "id": "83338161",
   "metadata": {},
   "outputs": [],
   "source": [
    "# Save the updated data to a new CSV file\n",
    "data.to_csv('Restaurant_File_with_address.csv', index=False)"
   ]
  },
  {
   "cell_type": "code",
   "execution_count": null,
   "id": "6fadff92",
   "metadata": {},
   "outputs": [],
   "source": []
  }
 ],
 "metadata": {
  "kernelspec": {
   "display_name": "Python 3 (ipykernel)",
   "language": "python",
   "name": "python3"
  },
  "language_info": {
   "codemirror_mode": {
    "name": "ipython",
    "version": 3
   },
   "file_extension": ".py",
   "mimetype": "text/x-python",
   "name": "python",
   "nbconvert_exporter": "python",
   "pygments_lexer": "ipython3",
   "version": "3.9.13"
  }
 },
 "nbformat": 4,
 "nbformat_minor": 5
}
