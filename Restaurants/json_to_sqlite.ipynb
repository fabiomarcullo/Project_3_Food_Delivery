{
 "cells": [
  {
   "cell_type": "code",
   "execution_count": 33,
   "metadata": {},
   "outputs": [],
   "source": [
    "import json\n",
    "import sqlite3"
   ]
  },
  {
   "cell_type": "code",
   "execution_count": 34,
   "metadata": {},
   "outputs": [],
   "source": [
    "with open('app.json', 'r') as json_file:\n",
    "    data = json.load(json_file)\n",
    "\n",
    "# Connect to SQLite database\n",
    "conn = sqlite3.connect('database.sqlite')\n",
    "cursor = conn.cursor()"
   ]
  },
  {
   "cell_type": "code",
   "execution_count": 35,
   "metadata": {},
   "outputs": [
    {
     "data": {
      "text/plain": [
       "<sqlite3.Cursor at 0x7fa149075340>"
      ]
     },
     "execution_count": 35,
     "metadata": {},
     "output_type": "execute_result"
    }
   ],
   "source": [
    "create_table_query = '''\n",
    "    CREATE TABLE IF NOT EXISTS restaurant (\n",
    "        column1 Restaurant_Name,\n",
    "        column2 Rating,\n",
    "        column3 Category,\n",
    "        column4 Address\n",
    "    )\n",
    "'''\n",
    "cursor.execute(create_table_query)"
   ]
  },
  {
   "cell_type": "code",
   "execution_count": 36,
   "metadata": {},
   "outputs": [],
   "source": [
    "for record in data:\n",
    "    # Extract values from the JSON record\n",
    "    column1_value = record['Restaurant_Name']\n",
    "    column2_value = record['Rating']\n",
    "    column3_value = record['Category']\n",
    "    column4_value = record['Address']\n",
    "    \n",
    "    # Insert the values into the SQLite database\n",
    "    insert_query = '''\n",
    "        INSERT INTO restaurant (column1, column2, column3, column4)\n",
    "        VALUES (?, ?, ?, ?)\n",
    "    '''\n",
    "    cursor.execute(insert_query, (column1_value, column2_value, column3_value, column4_value))"
   ]
  },
  {
   "cell_type": "code",
   "execution_count": 37,
   "metadata": {},
   "outputs": [],
   "source": [
    "conn.commit()\n",
    "conn.close()"
   ]
  }
 ],
 "metadata": {
  "kernelspec": {
   "display_name": "base",
   "language": "python",
   "name": "python3"
  },
  "language_info": {
   "codemirror_mode": {
    "name": "ipython",
    "version": 3
   },
   "file_extension": ".py",
   "mimetype": "text/x-python",
   "name": "python",
   "nbconvert_exporter": "python",
   "pygments_lexer": "ipython3",
   "version": "3.9.13"
  },
  "orig_nbformat": 4
 },
 "nbformat": 4,
 "nbformat_minor": 2
}
